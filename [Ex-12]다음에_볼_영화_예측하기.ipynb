{
 "cells": [
  {
   "cell_type": "markdown",
   "id": "91a97a63-e8d2-4120-a8d3-5c5a47a23571",
   "metadata": {
    "tags": []
   },
   "source": [
    "# 데이터 이해하기\n",
    "---"
   ]
  },
  {
   "cell_type": "code",
   "execution_count": 361,
   "id": "d46e85f0-30c1-4c6e-8b07-95ea0c7fa901",
   "metadata": {},
   "outputs": [
    {
     "name": "stderr",
     "output_type": "stream",
     "text": [
      "C:\\Users\\jslee\\.conda\\envs\\jupyter\\lib\\site-packages\\pandas\\util\\_decorators.py:311: ParserWarning: Falling back to the 'python' engine because the 'c' engine does not support regex separators (separators > 1 char and different from '\\s+' are interpreted as regex); you can avoid this warning by specifying engine='python'.\n",
      "  return func(*args, **kwargs)\n"
     ]
    },
    {
     "data": {
      "text/html": [
       "<div>\n",
       "<style scoped>\n",
       "    .dataframe tbody tr th:only-of-type {\n",
       "        vertical-align: middle;\n",
       "    }\n",
       "\n",
       "    .dataframe tbody tr th {\n",
       "        vertical-align: top;\n",
       "    }\n",
       "\n",
       "    .dataframe thead th {\n",
       "        text-align: right;\n",
       "    }\n",
       "</style>\n",
       "<table border=\"1\" class=\"dataframe\">\n",
       "  <thead>\n",
       "    <tr style=\"text-align: right;\">\n",
       "      <th></th>\n",
       "      <th>UserId</th>\n",
       "      <th>ItemId</th>\n",
       "      <th>Rating</th>\n",
       "      <th>Time</th>\n",
       "    </tr>\n",
       "  </thead>\n",
       "  <tbody>\n",
       "    <tr>\n",
       "      <th>31</th>\n",
       "      <td>1</td>\n",
       "      <td>3186</td>\n",
       "      <td>4</td>\n",
       "      <td>978300019</td>\n",
       "    </tr>\n",
       "    <tr>\n",
       "      <th>22</th>\n",
       "      <td>1</td>\n",
       "      <td>1270</td>\n",
       "      <td>5</td>\n",
       "      <td>978300055</td>\n",
       "    </tr>\n",
       "    <tr>\n",
       "      <th>27</th>\n",
       "      <td>1</td>\n",
       "      <td>1721</td>\n",
       "      <td>4</td>\n",
       "      <td>978300055</td>\n",
       "    </tr>\n",
       "    <tr>\n",
       "      <th>37</th>\n",
       "      <td>1</td>\n",
       "      <td>1022</td>\n",
       "      <td>5</td>\n",
       "      <td>978300055</td>\n",
       "    </tr>\n",
       "    <tr>\n",
       "      <th>24</th>\n",
       "      <td>1</td>\n",
       "      <td>2340</td>\n",
       "      <td>3</td>\n",
       "      <td>978300103</td>\n",
       "    </tr>\n",
       "    <tr>\n",
       "      <th>...</th>\n",
       "      <td>...</td>\n",
       "      <td>...</td>\n",
       "      <td>...</td>\n",
       "      <td>...</td>\n",
       "    </tr>\n",
       "    <tr>\n",
       "      <th>1000019</th>\n",
       "      <td>6040</td>\n",
       "      <td>2917</td>\n",
       "      <td>4</td>\n",
       "      <td>997454429</td>\n",
       "    </tr>\n",
       "    <tr>\n",
       "      <th>999988</th>\n",
       "      <td>6040</td>\n",
       "      <td>1921</td>\n",
       "      <td>4</td>\n",
       "      <td>997454464</td>\n",
       "    </tr>\n",
       "    <tr>\n",
       "      <th>1000172</th>\n",
       "      <td>6040</td>\n",
       "      <td>1784</td>\n",
       "      <td>3</td>\n",
       "      <td>997454464</td>\n",
       "    </tr>\n",
       "    <tr>\n",
       "      <th>1000167</th>\n",
       "      <td>6040</td>\n",
       "      <td>161</td>\n",
       "      <td>3</td>\n",
       "      <td>997454486</td>\n",
       "    </tr>\n",
       "    <tr>\n",
       "      <th>1000042</th>\n",
       "      <td>6040</td>\n",
       "      <td>1221</td>\n",
       "      <td>4</td>\n",
       "      <td>998315055</td>\n",
       "    </tr>\n",
       "  </tbody>\n",
       "</table>\n",
       "<p>1000209 rows × 4 columns</p>\n",
       "</div>"
      ],
      "text/plain": [
       "         UserId  ItemId  Rating       Time\n",
       "31            1    3186       4  978300019\n",
       "22            1    1270       5  978300055\n",
       "27            1    1721       4  978300055\n",
       "37            1    1022       5  978300055\n",
       "24            1    2340       3  978300103\n",
       "...         ...     ...     ...        ...\n",
       "1000019    6040    2917       4  997454429\n",
       "999988     6040    1921       4  997454464\n",
       "1000172    6040    1784       3  997454464\n",
       "1000167    6040     161       3  997454486\n",
       "1000042    6040    1221       4  998315055\n",
       "\n",
       "[1000209 rows x 4 columns]"
      ]
     },
     "execution_count": 361,
     "metadata": {},
     "output_type": "execute_result"
    }
   ],
   "source": [
    "import datetime as dt\n",
    "from pathlib import Path\n",
    "import os\n",
    "\n",
    "import numpy as np\n",
    "import pandas as pd\n",
    "import warnings\n",
    "\n",
    "data_path = Path('data')\n",
    "train_path = data_path / 'ratings.dat'\n",
    "\n",
    "def load_data(data_path: Path, nrows=None):\n",
    "    data = pd.read_csv(data_path, sep='::', header=None, usecols=[0, 1, 2, 3], dtype={0: np.int32, 1: np.int32, 2: np.int32}, nrows=nrows)\n",
    "    data.columns = ['UserId', 'ItemId', 'Rating', 'Time']\n",
    "    return data\n",
    "\n",
    "data = load_data(train_path, None)\n",
    "data.sort_values(['UserId', 'Time'], inplace=True)  # data를 id와 시간 순서로 정렬해줍니다.\n",
    "data"
   ]
  },
  {
   "cell_type": "markdown",
   "id": "a00f2e6f-0b0c-43e6-bd23-a3a8d231ee62",
   "metadata": {},
   "source": [
    "# 데이터의 전처리\n",
    "---"
   ]
  },
  {
   "cell_type": "markdown",
   "id": "74b893ea-ae60-48ed-97bf-2fc8cfe6585e",
   "metadata": {},
   "source": [
    "## 항목별 기본분석"
   ]
  },
  {
   "cell_type": "code",
   "execution_count": 362,
   "id": "8ebef17e-f8ac-4222-86ed-22279d68da7a",
   "metadata": {},
   "outputs": [
    {
     "data": {
      "text/plain": [
       "(6040, 3706)"
      ]
     },
     "execution_count": 362,
     "metadata": {},
     "output_type": "execute_result"
    }
   ],
   "source": [
    "data['UserId'].nunique(), data['ItemId'].nunique()"
   ]
  },
  {
   "cell_type": "markdown",
   "id": "e95ca8ba-8124-40dc-898f-d0a956978267",
   "metadata": {},
   "source": [
    "* data의 UserId 컬럼의 Unique 갯수는 6040, ItemId 컬럼의 Unique 갯수는 3706이다."
   ]
  },
  {
   "cell_type": "markdown",
   "id": "7862e7b6-c1b2-4b10-82ed-81c03715e419",
   "metadata": {},
   "source": [
    "## Session Length"
   ]
  },
  {
   "cell_type": "code",
   "execution_count": 363,
   "id": "553db0c0-1f15-4397-b02d-d12b37ef856e",
   "metadata": {},
   "outputs": [
    {
     "data": {
      "text/plain": [
       "UserId\n",
       "1        53\n",
       "2       129\n",
       "3        51\n",
       "4        21\n",
       "5       198\n",
       "       ... \n",
       "6036    888\n",
       "6037    202\n",
       "6038     20\n",
       "6039    123\n",
       "6040    341\n",
       "Length: 6040, dtype: int64"
      ]
     },
     "execution_count": 363,
     "metadata": {},
     "output_type": "execute_result"
    }
   ],
   "source": [
    "session_length = data.groupby('UserId').size()\n",
    "session_length"
   ]
  },
  {
   "cell_type": "markdown",
   "id": "6ec1d6b3-6b79-4ce3-b97e-cd6db4a31d1c",
   "metadata": {},
   "source": [
    "* session_length에 UserId 별 영화 시청 횟수를 구하여 넣어준다"
   ]
  },
  {
   "cell_type": "code",
   "execution_count": 364,
   "id": "5e41cc01-b592-4dc3-8385-706b66b8d3a3",
   "metadata": {},
   "outputs": [
    {
     "data": {
      "text/plain": [
       "(96.0, 165.5975165562914)"
      ]
     },
     "execution_count": 364,
     "metadata": {},
     "output_type": "execute_result"
    }
   ],
   "source": [
    "session_length.median(), session_length.mean()"
   ]
  },
  {
   "cell_type": "markdown",
   "id": "01354ae1-decc-4ebd-aa5c-1a9957bb90cf",
   "metadata": {},
   "source": [
    "* session_length의 중간값은 96.0, 평균은 165.59.... 이다."
   ]
  },
  {
   "cell_type": "code",
   "execution_count": 365,
   "id": "058735a0-62f7-4ee4-a8a1-317584f5ad4c",
   "metadata": {},
   "outputs": [
    {
     "data": {
      "text/plain": [
       "(20, 2314)"
      ]
     },
     "execution_count": 365,
     "metadata": {},
     "output_type": "execute_result"
    }
   ],
   "source": [
    "session_length.min(), session_length.max()"
   ]
  },
  {
   "cell_type": "markdown",
   "id": "7b0a5112-8a06-4879-a688-802e8c5505f8",
   "metadata": {},
   "source": [
    "* session_length의 최소값은 20, 최대값은 2314이다."
   ]
  },
  {
   "cell_type": "code",
   "execution_count": 366,
   "id": "4607f3d4-9663-451e-8b33-d8bc0f0600a0",
   "metadata": {},
   "outputs": [
    {
     "data": {
      "text/plain": [
       "1343.181000000005"
      ]
     },
     "execution_count": 366,
     "metadata": {},
     "output_type": "execute_result"
    }
   ],
   "source": [
    "session_length.quantile(0.999)"
   ]
  },
  {
   "cell_type": "markdown",
   "id": "e65ef3bf-f42c-4df9-a4b5-2614c2628074",
   "metadata": {},
   "source": [
    "* session_length의 99.9%는 1343.181... 이하이다. 2314라는 수치는 이상하다.(이상치일 확률이 크다)"
   ]
  },
  {
   "cell_type": "code",
   "execution_count": 367,
   "id": "d3f4400a-bd3c-42d4-ac56-376243789991",
   "metadata": {},
   "outputs": [
    {
     "name": "stdout",
     "output_type": "stream",
     "text": [
      "4169\n"
     ]
    },
    {
     "data": {
      "text/html": [
       "<div>\n",
       "<style scoped>\n",
       "    .dataframe tbody tr th:only-of-type {\n",
       "        vertical-align: middle;\n",
       "    }\n",
       "\n",
       "    .dataframe tbody tr th {\n",
       "        vertical-align: top;\n",
       "    }\n",
       "\n",
       "    .dataframe thead th {\n",
       "        text-align: right;\n",
       "    }\n",
       "</style>\n",
       "<table border=\"1\" class=\"dataframe\">\n",
       "  <thead>\n",
       "    <tr style=\"text-align: right;\">\n",
       "      <th></th>\n",
       "      <th>UserId</th>\n",
       "      <th>ItemId</th>\n",
       "      <th>Rating</th>\n",
       "      <th>Time</th>\n",
       "    </tr>\n",
       "  </thead>\n",
       "  <tbody>\n",
       "    <tr>\n",
       "      <th>696969</th>\n",
       "      <td>4169</td>\n",
       "      <td>1268</td>\n",
       "      <td>5</td>\n",
       "      <td>965333392</td>\n",
       "    </tr>\n",
       "    <tr>\n",
       "      <th>697168</th>\n",
       "      <td>4169</td>\n",
       "      <td>2617</td>\n",
       "      <td>4</td>\n",
       "      <td>965333392</td>\n",
       "    </tr>\n",
       "    <tr>\n",
       "      <th>697185</th>\n",
       "      <td>4169</td>\n",
       "      <td>2628</td>\n",
       "      <td>4</td>\n",
       "      <td>965333392</td>\n",
       "    </tr>\n",
       "    <tr>\n",
       "      <th>697219</th>\n",
       "      <td>4169</td>\n",
       "      <td>2653</td>\n",
       "      <td>4</td>\n",
       "      <td>965333392</td>\n",
       "    </tr>\n",
       "    <tr>\n",
       "      <th>697275</th>\n",
       "      <td>4169</td>\n",
       "      <td>423</td>\n",
       "      <td>3</td>\n",
       "      <td>965333392</td>\n",
       "    </tr>\n",
       "    <tr>\n",
       "      <th>696168</th>\n",
       "      <td>4169</td>\n",
       "      <td>3801</td>\n",
       "      <td>5</td>\n",
       "      <td>965333481</td>\n",
       "    </tr>\n",
       "    <tr>\n",
       "      <th>696250</th>\n",
       "      <td>4169</td>\n",
       "      <td>3841</td>\n",
       "      <td>2</td>\n",
       "      <td>965333481</td>\n",
       "    </tr>\n",
       "    <tr>\n",
       "      <th>697903</th>\n",
       "      <td>4169</td>\n",
       "      <td>3761</td>\n",
       "      <td>3</td>\n",
       "      <td>965333481</td>\n",
       "    </tr>\n",
       "    <tr>\n",
       "      <th>697954</th>\n",
       "      <td>4169</td>\n",
       "      <td>3788</td>\n",
       "      <td>3</td>\n",
       "      <td>965333481</td>\n",
       "    </tr>\n",
       "    <tr>\n",
       "      <th>695653</th>\n",
       "      <td>4169</td>\n",
       "      <td>3794</td>\n",
       "      <td>4</td>\n",
       "      <td>965333519</td>\n",
       "    </tr>\n",
       "    <tr>\n",
       "      <th>696188</th>\n",
       "      <td>4169</td>\n",
       "      <td>3811</td>\n",
       "      <td>5</td>\n",
       "      <td>965333519</td>\n",
       "    </tr>\n",
       "    <tr>\n",
       "      <th>696229</th>\n",
       "      <td>4169</td>\n",
       "      <td>3833</td>\n",
       "      <td>1</td>\n",
       "      <td>965333519</td>\n",
       "    </tr>\n",
       "    <tr>\n",
       "      <th>696230</th>\n",
       "      <td>4169</td>\n",
       "      <td>3834</td>\n",
       "      <td>3</td>\n",
       "      <td>965333519</td>\n",
       "    </tr>\n",
       "    <tr>\n",
       "      <th>697889</th>\n",
       "      <td>4169</td>\n",
       "      <td>3758</td>\n",
       "      <td>4</td>\n",
       "      <td>965333519</td>\n",
       "    </tr>\n",
       "    <tr>\n",
       "      <th>695649</th>\n",
       "      <td>4169</td>\n",
       "      <td>3792</td>\n",
       "      <td>4</td>\n",
       "      <td>965333558</td>\n",
       "    </tr>\n",
       "    <tr>\n",
       "      <th>695654</th>\n",
       "      <td>4169</td>\n",
       "      <td>3795</td>\n",
       "      <td>3</td>\n",
       "      <td>965333558</td>\n",
       "    </tr>\n",
       "    <tr>\n",
       "      <th>696189</th>\n",
       "      <td>4169</td>\n",
       "      <td>3812</td>\n",
       "      <td>3</td>\n",
       "      <td>965333558</td>\n",
       "    </tr>\n",
       "    <tr>\n",
       "      <th>696256</th>\n",
       "      <td>4169</td>\n",
       "      <td>3846</td>\n",
       "      <td>3</td>\n",
       "      <td>965333558</td>\n",
       "    </tr>\n",
       "    <tr>\n",
       "      <th>697906</th>\n",
       "      <td>4169</td>\n",
       "      <td>3763</td>\n",
       "      <td>4</td>\n",
       "      <td>965333558</td>\n",
       "    </tr>\n",
       "    <tr>\n",
       "      <th>697908</th>\n",
       "      <td>4169</td>\n",
       "      <td>3764</td>\n",
       "      <td>3</td>\n",
       "      <td>965333558</td>\n",
       "    </tr>\n",
       "    <tr>\n",
       "      <th>697929</th>\n",
       "      <td>4169</td>\n",
       "      <td>3770</td>\n",
       "      <td>4</td>\n",
       "      <td>965333558</td>\n",
       "    </tr>\n",
       "    <tr>\n",
       "      <th>697949</th>\n",
       "      <td>4169</td>\n",
       "      <td>3783</td>\n",
       "      <td>5</td>\n",
       "      <td>965333558</td>\n",
       "    </tr>\n",
       "    <tr>\n",
       "      <th>695648</th>\n",
       "      <td>4169</td>\n",
       "      <td>3791</td>\n",
       "      <td>3</td>\n",
       "      <td>965333578</td>\n",
       "    </tr>\n",
       "    <tr>\n",
       "      <th>696170</th>\n",
       "      <td>4169</td>\n",
       "      <td>3803</td>\n",
       "      <td>4</td>\n",
       "      <td>965333578</td>\n",
       "    </tr>\n",
       "    <tr>\n",
       "      <th>696190</th>\n",
       "      <td>4169</td>\n",
       "      <td>3813</td>\n",
       "      <td>5</td>\n",
       "      <td>965333606</td>\n",
       "    </tr>\n",
       "    <tr>\n",
       "      <th>696231</th>\n",
       "      <td>4169</td>\n",
       "      <td>3836</td>\n",
       "      <td>4</td>\n",
       "      <td>965333606</td>\n",
       "    </tr>\n",
       "    <tr>\n",
       "      <th>697910</th>\n",
       "      <td>4169</td>\n",
       "      <td>3765</td>\n",
       "      <td>2</td>\n",
       "      <td>965333606</td>\n",
       "    </tr>\n",
       "    <tr>\n",
       "      <th>697951</th>\n",
       "      <td>4169</td>\n",
       "      <td>3784</td>\n",
       "      <td>2</td>\n",
       "      <td>965333606</td>\n",
       "    </tr>\n",
       "    <tr>\n",
       "      <th>696171</th>\n",
       "      <td>4169</td>\n",
       "      <td>3805</td>\n",
       "      <td>3</td>\n",
       "      <td>965333636</td>\n",
       "    </tr>\n",
       "    <tr>\n",
       "      <th>696172</th>\n",
       "      <td>4169</td>\n",
       "      <td>3806</td>\n",
       "      <td>3</td>\n",
       "      <td>965333636</td>\n",
       "    </tr>\n",
       "    <tr>\n",
       "      <th>696191</th>\n",
       "      <td>4169</td>\n",
       "      <td>3814</td>\n",
       "      <td>5</td>\n",
       "      <td>965333636</td>\n",
       "    </tr>\n",
       "    <tr>\n",
       "      <th>697878</th>\n",
       "      <td>4169</td>\n",
       "      <td>3752</td>\n",
       "      <td>3</td>\n",
       "      <td>965333636</td>\n",
       "    </tr>\n",
       "    <tr>\n",
       "      <th>695642</th>\n",
       "      <td>4169</td>\n",
       "      <td>3789</td>\n",
       "      <td>5</td>\n",
       "      <td>965333672</td>\n",
       "    </tr>\n",
       "    <tr>\n",
       "      <th>696192</th>\n",
       "      <td>4169</td>\n",
       "      <td>3816</td>\n",
       "      <td>5</td>\n",
       "      <td>965333672</td>\n",
       "    </tr>\n",
       "    <tr>\n",
       "      <th>696213</th>\n",
       "      <td>4169</td>\n",
       "      <td>3821</td>\n",
       "      <td>2</td>\n",
       "      <td>965333672</td>\n",
       "    </tr>\n",
       "    <tr>\n",
       "      <th>696232</th>\n",
       "      <td>4169</td>\n",
       "      <td>3837</td>\n",
       "      <td>3</td>\n",
       "      <td>965333672</td>\n",
       "    </tr>\n",
       "    <tr>\n",
       "      <th>697880</th>\n",
       "      <td>4169</td>\n",
       "      <td>3753</td>\n",
       "      <td>4</td>\n",
       "      <td>965333672</td>\n",
       "    </tr>\n",
       "    <tr>\n",
       "      <th>697884</th>\n",
       "      <td>4169</td>\n",
       "      <td>3755</td>\n",
       "      <td>4</td>\n",
       "      <td>965333672</td>\n",
       "    </tr>\n",
       "    <tr>\n",
       "      <th>697933</th>\n",
       "      <td>4169</td>\n",
       "      <td>3778</td>\n",
       "      <td>4</td>\n",
       "      <td>965333672</td>\n",
       "    </tr>\n",
       "    <tr>\n",
       "      <th>696194</th>\n",
       "      <td>4169</td>\n",
       "      <td>3818</td>\n",
       "      <td>3</td>\n",
       "      <td>965333700</td>\n",
       "    </tr>\n",
       "    <tr>\n",
       "      <th>696234</th>\n",
       "      <td>4169</td>\n",
       "      <td>3838</td>\n",
       "      <td>2</td>\n",
       "      <td>965333700</td>\n",
       "    </tr>\n",
       "    <tr>\n",
       "      <th>696236</th>\n",
       "      <td>4169</td>\n",
       "      <td>3839</td>\n",
       "      <td>2</td>\n",
       "      <td>965333700</td>\n",
       "    </tr>\n",
       "    <tr>\n",
       "      <th>696197</th>\n",
       "      <td>4169</td>\n",
       "      <td>3819</td>\n",
       "      <td>4</td>\n",
       "      <td>965333722</td>\n",
       "    </tr>\n",
       "    <tr>\n",
       "      <th>696253</th>\n",
       "      <td>4169</td>\n",
       "      <td>3844</td>\n",
       "      <td>4</td>\n",
       "      <td>965333722</td>\n",
       "    </tr>\n",
       "    <tr>\n",
       "      <th>696260</th>\n",
       "      <td>4169</td>\n",
       "      <td>3848</td>\n",
       "      <td>3</td>\n",
       "      <td>965333722</td>\n",
       "    </tr>\n",
       "    <tr>\n",
       "      <th>696263</th>\n",
       "      <td>4169</td>\n",
       "      <td>3849</td>\n",
       "      <td>5</td>\n",
       "      <td>965333722</td>\n",
       "    </tr>\n",
       "    <tr>\n",
       "      <th>695651</th>\n",
       "      <td>4169</td>\n",
       "      <td>3793</td>\n",
       "      <td>3</td>\n",
       "      <td>965333752</td>\n",
       "    </tr>\n",
       "    <tr>\n",
       "      <th>695657</th>\n",
       "      <td>4169</td>\n",
       "      <td>3798</td>\n",
       "      <td>2</td>\n",
       "      <td>965333752</td>\n",
       "    </tr>\n",
       "    <tr>\n",
       "      <th>696174</th>\n",
       "      <td>4169</td>\n",
       "      <td>3808</td>\n",
       "      <td>5</td>\n",
       "      <td>965333752</td>\n",
       "    </tr>\n",
       "    <tr>\n",
       "      <th>696176</th>\n",
       "      <td>4169</td>\n",
       "      <td>3809</td>\n",
       "      <td>4</td>\n",
       "      <td>965333752</td>\n",
       "    </tr>\n",
       "  </tbody>\n",
       "</table>\n",
       "</div>"
      ],
      "text/plain": [
       "        UserId  ItemId  Rating       Time\n",
       "696969    4169    1268       5  965333392\n",
       "697168    4169    2617       4  965333392\n",
       "697185    4169    2628       4  965333392\n",
       "697219    4169    2653       4  965333392\n",
       "697275    4169     423       3  965333392\n",
       "696168    4169    3801       5  965333481\n",
       "696250    4169    3841       2  965333481\n",
       "697903    4169    3761       3  965333481\n",
       "697954    4169    3788       3  965333481\n",
       "695653    4169    3794       4  965333519\n",
       "696188    4169    3811       5  965333519\n",
       "696229    4169    3833       1  965333519\n",
       "696230    4169    3834       3  965333519\n",
       "697889    4169    3758       4  965333519\n",
       "695649    4169    3792       4  965333558\n",
       "695654    4169    3795       3  965333558\n",
       "696189    4169    3812       3  965333558\n",
       "696256    4169    3846       3  965333558\n",
       "697906    4169    3763       4  965333558\n",
       "697908    4169    3764       3  965333558\n",
       "697929    4169    3770       4  965333558\n",
       "697949    4169    3783       5  965333558\n",
       "695648    4169    3791       3  965333578\n",
       "696170    4169    3803       4  965333578\n",
       "696190    4169    3813       5  965333606\n",
       "696231    4169    3836       4  965333606\n",
       "697910    4169    3765       2  965333606\n",
       "697951    4169    3784       2  965333606\n",
       "696171    4169    3805       3  965333636\n",
       "696172    4169    3806       3  965333636\n",
       "696191    4169    3814       5  965333636\n",
       "697878    4169    3752       3  965333636\n",
       "695642    4169    3789       5  965333672\n",
       "696192    4169    3816       5  965333672\n",
       "696213    4169    3821       2  965333672\n",
       "696232    4169    3837       3  965333672\n",
       "697880    4169    3753       4  965333672\n",
       "697884    4169    3755       4  965333672\n",
       "697933    4169    3778       4  965333672\n",
       "696194    4169    3818       3  965333700\n",
       "696234    4169    3838       2  965333700\n",
       "696236    4169    3839       2  965333700\n",
       "696197    4169    3819       4  965333722\n",
       "696253    4169    3844       4  965333722\n",
       "696260    4169    3848       3  965333722\n",
       "696263    4169    3849       5  965333722\n",
       "695651    4169    3793       3  965333752\n",
       "695657    4169    3798       2  965333752\n",
       "696174    4169    3808       5  965333752\n",
       "696176    4169    3809       4  965333752"
      ]
     },
     "execution_count": 367,
     "metadata": {},
     "output_type": "execute_result"
    }
   ],
   "source": [
    "long_session = session_length[session_length==2314].index[0]\n",
    "print(long_session)\n",
    "data[data['UserId']==long_session].head(50)"
   ]
  },
  {
   "cell_type": "markdown",
   "id": "f0178c01-b6b5-4c38-8b12-815dc6e087de",
   "metadata": {},
   "source": [
    "* session_length가 2314인 인데스로 data 데이터프레임에서 확인결과 Time 컬럼을 보면 동시간대 여러번 rating을 매긴걸 확인 할 수 있다.(예를 들어 평점 테러..?)"
   ]
  },
  {
   "cell_type": "code",
   "execution_count": 368,
   "id": "26b24e2b-c901-4525-b60f-1f66fc41df6b",
   "metadata": {},
   "outputs": [
    {
     "data": {
      "text/plain": [
       "20      0.014238\n",
       "21      0.029305\n",
       "22      0.042053\n",
       "23      0.055464\n",
       "24      0.068874\n",
       "          ...   \n",
       "1271    0.998179\n",
       "1277    0.998344\n",
       "1286    0.998510\n",
       "1302    0.998675\n",
       "1323    0.998841\n",
       "Length: 736, dtype: float64"
      ]
     },
     "execution_count": 368,
     "metadata": {},
     "output_type": "execute_result"
    }
   ],
   "source": [
    "length_count = session_length.groupby(session_length).size()\n",
    "length_percent_cumsum = length_count.cumsum() / length_count.sum()\n",
    "length_percent_cumsum_999 = length_percent_cumsum[length_percent_cumsum < 0.999]\n",
    "\n",
    "length_percent_cumsum_999"
   ]
  },
  {
   "cell_type": "code",
   "execution_count": 369,
   "id": "217b9da5-6b91-41af-8792-67b423e806f8",
   "metadata": {},
   "outputs": [
    {
     "data": {
      "image/png": "[encoded data removed]",
      "text/plain": [
       "<Figure size 3600x2160 with 1 Axes>"
      ]
     },
     "metadata": {
      "needs_background": "light"
     },
     "output_type": "display_data"
    }
   ],
   "source": [
    "import matplotlib.pyplot as plt\n",
    "\n",
    "plt.figure(figsize=(50, 30))\n",
    "plt.bar(x=length_percent_cumsum_999.index,\n",
    "        height=length_percent_cumsum_999, color='red')\n",
    "plt.xticks(length_percent_cumsum_999.index, rotation=90, fontsize=15)\n",
    "plt.yticks(np.arange(0, 1.01, 0.05))\n",
    "plt.title('Cumsum Percentage Until 0.999', size=20)\n",
    "plt.show()"
   ]
  },
  {
   "cell_type": "code",
   "execution_count": 370,
   "id": "6973d78b-28e3-4881-bea0-d4f111499838",
   "metadata": {},
   "outputs": [
    {
     "data": {
      "text/plain": [
       "556.0"
      ]
     },
     "execution_count": 370,
     "metadata": {},
     "output_type": "execute_result"
    }
   ],
   "source": [
    "session_length.quantile(0.95)"
   ]
  },
  {
   "cell_type": "code",
   "execution_count": 371,
   "id": "266249c8-800b-4c4f-82e7-d8ef2d30c6f9",
   "metadata": {},
   "outputs": [],
   "source": [
    "drop_index = session_length[session_length>556].index\n",
    "data.drop(index=drop_index, inplace=True)"
   ]
  },
  {
   "cell_type": "markdown",
   "id": "aed4bcd9-67d3-45e7-b28d-9d0b94f9f131",
   "metadata": {},
   "source": [
    "* 95 프로 이상은 이상치로 판단하고 데이터에서 삭제해 준다."
   ]
  },
  {
   "cell_type": "markdown",
   "id": "f57b46bc-bf5d-4538-b961-f9e3d66bbadb",
   "metadata": {
    "tags": []
   },
   "source": [
    "## session time"
   ]
  },
  {
   "cell_type": "code",
   "execution_count": 372,
   "id": "2ccf2fb2-51ee-41b0-ae7d-c88f4afd7357",
   "metadata": {},
   "outputs": [
    {
     "data": {
      "text/html": [
       "<div>\n",
       "<style scoped>\n",
       "    .dataframe tbody tr th:only-of-type {\n",
       "        vertical-align: middle;\n",
       "    }\n",
       "\n",
       "    .dataframe tbody tr th {\n",
       "        vertical-align: top;\n",
       "    }\n",
       "\n",
       "    .dataframe thead th {\n",
       "        text-align: right;\n",
       "    }\n",
       "</style>\n",
       "<table border=\"1\" class=\"dataframe\">\n",
       "  <thead>\n",
       "    <tr style=\"text-align: right;\">\n",
       "      <th></th>\n",
       "      <th>UserId</th>\n",
       "      <th>ItemId</th>\n",
       "      <th>Rating</th>\n",
       "      <th>Time</th>\n",
       "    </tr>\n",
       "  </thead>\n",
       "  <tbody>\n",
       "    <tr>\n",
       "      <th>31</th>\n",
       "      <td>1</td>\n",
       "      <td>3186</td>\n",
       "      <td>4</td>\n",
       "      <td>2001-01-01 07:00:19</td>\n",
       "    </tr>\n",
       "    <tr>\n",
       "      <th>22</th>\n",
       "      <td>1</td>\n",
       "      <td>1270</td>\n",
       "      <td>5</td>\n",
       "      <td>2001-01-01 07:00:55</td>\n",
       "    </tr>\n",
       "    <tr>\n",
       "      <th>27</th>\n",
       "      <td>1</td>\n",
       "      <td>1721</td>\n",
       "      <td>4</td>\n",
       "      <td>2001-01-01 07:00:55</td>\n",
       "    </tr>\n",
       "    <tr>\n",
       "      <th>37</th>\n",
       "      <td>1</td>\n",
       "      <td>1022</td>\n",
       "      <td>5</td>\n",
       "      <td>2001-01-01 07:00:55</td>\n",
       "    </tr>\n",
       "    <tr>\n",
       "      <th>24</th>\n",
       "      <td>1</td>\n",
       "      <td>2340</td>\n",
       "      <td>3</td>\n",
       "      <td>2001-01-01 07:01:43</td>\n",
       "    </tr>\n",
       "  </tbody>\n",
       "</table>\n",
       "</div>"
      ],
      "text/plain": [
       "    UserId  ItemId  Rating                 Time\n",
       "31       1    3186       4  2001-01-01 07:00:19\n",
       "22       1    1270       5  2001-01-01 07:00:55\n",
       "27       1    1721       4  2001-01-01 07:00:55\n",
       "37       1    1022       5  2001-01-01 07:00:55\n",
       "24       1    2340       3  2001-01-01 07:01:43"
      ]
     },
     "execution_count": 372,
     "metadata": {},
     "output_type": "execute_result"
    }
   ],
   "source": [
    "from datetime import datetime\n",
    "\n",
    "def timestamp_convert(series_time):\n",
    "    temp = series_time.copy()\n",
    "    for i, v in enumerate(series_time):\n",
    "        temp.iloc[i] = datetime.fromtimestamp(v)\n",
    "    return temp\n",
    "\n",
    "data['Time'] = timestamp_convert(data['Time'])\n",
    "data.head()"
   ]
  },
  {
   "cell_type": "markdown",
   "id": "796c92a2-16c4-497f-8739-950ed943246f",
   "metadata": {},
   "source": [
    "* Time 컬럼을 POSIX 타임스탬프에서 tz의 현지 시간으로 변환한다."
   ]
  },
  {
   "cell_type": "code",
   "execution_count": 373,
   "id": "5c2cfb5b-c328-4087-8cf7-783e2547af8d",
   "metadata": {},
   "outputs": [
    {
     "name": "stdout",
     "output_type": "stream",
     "text": [
      "2000-04-26 08:05:32\n",
      "2003-03-01 02:49:50\n"
     ]
    }
   ],
   "source": [
    "oldest, latest = data['Time'].min(), data['Time'].max()\n",
    "print(oldest)\n",
    "print(latest) "
   ]
  },
  {
   "cell_type": "code",
   "execution_count": 374,
   "id": "d20eee45-66cf-40bc-be17-27aedbc5cf10",
   "metadata": {},
   "outputs": [
    {
     "data": {
      "text/html": [
       "<div>\n",
       "<style scoped>\n",
       "    .dataframe tbody tr th:only-of-type {\n",
       "        vertical-align: middle;\n",
       "    }\n",
       "\n",
       "    .dataframe tbody tr th {\n",
       "        vertical-align: top;\n",
       "    }\n",
       "\n",
       "    .dataframe thead th {\n",
       "        text-align: right;\n",
       "    }\n",
       "</style>\n",
       "<table border=\"1\" class=\"dataframe\">\n",
       "  <thead>\n",
       "    <tr style=\"text-align: right;\">\n",
       "      <th></th>\n",
       "      <th>UserId</th>\n",
       "      <th>ItemId</th>\n",
       "      <th>Rating</th>\n",
       "      <th>Time</th>\n",
       "    </tr>\n",
       "  </thead>\n",
       "  <tbody>\n",
       "    <tr>\n",
       "      <th>2327</th>\n",
       "      <td>19</td>\n",
       "      <td>318</td>\n",
       "      <td>4</td>\n",
       "      <td>2001-07-08 10:43:18</td>\n",
       "    </tr>\n",
       "    <tr>\n",
       "      <th>2492</th>\n",
       "      <td>19</td>\n",
       "      <td>1234</td>\n",
       "      <td>5</td>\n",
       "      <td>2001-07-08 10:43:56</td>\n",
       "    </tr>\n",
       "    <tr>\n",
       "      <th>2503</th>\n",
       "      <td>20</td>\n",
       "      <td>1694</td>\n",
       "      <td>3</td>\n",
       "      <td>2001-12-30 08:37:51</td>\n",
       "    </tr>\n",
       "    <tr>\n",
       "      <th>2512</th>\n",
       "      <td>20</td>\n",
       "      <td>1468</td>\n",
       "      <td>3</td>\n",
       "      <td>2001-12-30 08:37:51</td>\n",
       "    </tr>\n",
       "    <tr>\n",
       "      <th>2513</th>\n",
       "      <td>20</td>\n",
       "      <td>3717</td>\n",
       "      <td>2</td>\n",
       "      <td>2001-12-30 08:37:51</td>\n",
       "    </tr>\n",
       "    <tr>\n",
       "      <th>2517</th>\n",
       "      <td>20</td>\n",
       "      <td>2858</td>\n",
       "      <td>4</td>\n",
       "      <td>2001-12-30 08:37:51</td>\n",
       "    </tr>\n",
       "    <tr>\n",
       "      <th>2504</th>\n",
       "      <td>20</td>\n",
       "      <td>2641</td>\n",
       "      <td>4</td>\n",
       "      <td>2001-12-30 08:38:35</td>\n",
       "    </tr>\n",
       "    <tr>\n",
       "      <th>2510</th>\n",
       "      <td>20</td>\n",
       "      <td>1375</td>\n",
       "      <td>3</td>\n",
       "      <td>2001-12-30 08:38:35</td>\n",
       "    </tr>\n",
       "    <tr>\n",
       "      <th>2520</th>\n",
       "      <td>20</td>\n",
       "      <td>3753</td>\n",
       "      <td>5</td>\n",
       "      <td>2001-12-30 08:38:36</td>\n",
       "    </tr>\n",
       "    <tr>\n",
       "      <th>2511</th>\n",
       "      <td>20</td>\n",
       "      <td>1527</td>\n",
       "      <td>5</td>\n",
       "      <td>2001-12-30 08:39:41</td>\n",
       "    </tr>\n",
       "    <tr>\n",
       "      <th>2523</th>\n",
       "      <td>20</td>\n",
       "      <td>1240</td>\n",
       "      <td>4</td>\n",
       "      <td>2001-12-30 08:39:41</td>\n",
       "    </tr>\n",
       "    <tr>\n",
       "      <th>2509</th>\n",
       "      <td>20</td>\n",
       "      <td>1371</td>\n",
       "      <td>4</td>\n",
       "      <td>2001-12-30 08:40:27</td>\n",
       "    </tr>\n",
       "    <tr>\n",
       "      <th>2671</th>\n",
       "      <td>22</td>\n",
       "      <td>1884</td>\n",
       "      <td>4</td>\n",
       "      <td>2001-05-30 00:10:55</td>\n",
       "    </tr>\n",
       "    <tr>\n",
       "      <th>2776</th>\n",
       "      <td>22</td>\n",
       "      <td>2376</td>\n",
       "      <td>3</td>\n",
       "      <td>2001-05-30 00:12:20</td>\n",
       "    </tr>\n",
       "    <tr>\n",
       "      <th>2827</th>\n",
       "      <td>22</td>\n",
       "      <td>1097</td>\n",
       "      <td>3</td>\n",
       "      <td>2001-05-30 00:14:49</td>\n",
       "    </tr>\n",
       "    <tr>\n",
       "      <th>2839</th>\n",
       "      <td>22</td>\n",
       "      <td>2046</td>\n",
       "      <td>4</td>\n",
       "      <td>2001-05-30 00:15:06</td>\n",
       "    </tr>\n",
       "    <tr>\n",
       "      <th>2610</th>\n",
       "      <td>22</td>\n",
       "      <td>3527</td>\n",
       "      <td>4</td>\n",
       "      <td>2001-05-30 00:15:20</td>\n",
       "    </tr>\n",
       "    <tr>\n",
       "      <th>2778</th>\n",
       "      <td>22</td>\n",
       "      <td>2011</td>\n",
       "      <td>4</td>\n",
       "      <td>2001-05-30 00:15:52</td>\n",
       "    </tr>\n",
       "    <tr>\n",
       "      <th>2809</th>\n",
       "      <td>22</td>\n",
       "      <td>3698</td>\n",
       "      <td>4</td>\n",
       "      <td>2001-05-30 00:15:52</td>\n",
       "    </tr>\n",
       "    <tr>\n",
       "      <th>2709</th>\n",
       "      <td>22</td>\n",
       "      <td>1034</td>\n",
       "      <td>4</td>\n",
       "      <td>2001-05-30 00:17:52</td>\n",
       "    </tr>\n",
       "    <tr>\n",
       "      <th>2623</th>\n",
       "      <td>22</td>\n",
       "      <td>3896</td>\n",
       "      <td>2</td>\n",
       "      <td>2001-05-30 00:18:13</td>\n",
       "    </tr>\n",
       "    <tr>\n",
       "      <th>2646</th>\n",
       "      <td>22</td>\n",
       "      <td>908</td>\n",
       "      <td>4</td>\n",
       "      <td>2001-05-30 00:21:01</td>\n",
       "    </tr>\n",
       "    <tr>\n",
       "      <th>2657</th>\n",
       "      <td>22</td>\n",
       "      <td>910</td>\n",
       "      <td>4</td>\n",
       "      <td>2001-05-30 00:24:52</td>\n",
       "    </tr>\n",
       "    <tr>\n",
       "      <th>3126</th>\n",
       "      <td>23</td>\n",
       "      <td>2973</td>\n",
       "      <td>3</td>\n",
       "      <td>2001-06-28 14:32:49</td>\n",
       "    </tr>\n",
       "    <tr>\n",
       "      <th>2858</th>\n",
       "      <td>23</td>\n",
       "      <td>1258</td>\n",
       "      <td>4</td>\n",
       "      <td>2001-06-28 14:33:27</td>\n",
       "    </tr>\n",
       "    <tr>\n",
       "      <th>3051</th>\n",
       "      <td>23</td>\n",
       "      <td>1204</td>\n",
       "      <td>4</td>\n",
       "      <td>2001-06-28 14:33:27</td>\n",
       "    </tr>\n",
       "    <tr>\n",
       "      <th>3097</th>\n",
       "      <td>23</td>\n",
       "      <td>1222</td>\n",
       "      <td>5</td>\n",
       "      <td>2001-06-28 14:33:27</td>\n",
       "    </tr>\n",
       "    <tr>\n",
       "      <th>3128</th>\n",
       "      <td>23</td>\n",
       "      <td>1090</td>\n",
       "      <td>3</td>\n",
       "      <td>2001-06-28 14:33:27</td>\n",
       "    </tr>\n",
       "    <tr>\n",
       "      <th>2921</th>\n",
       "      <td>23</td>\n",
       "      <td>3396</td>\n",
       "      <td>3</td>\n",
       "      <td>2001-06-28 14:34:14</td>\n",
       "    </tr>\n",
       "    <tr>\n",
       "      <th>2956</th>\n",
       "      <td>23</td>\n",
       "      <td>915</td>\n",
       "      <td>3</td>\n",
       "      <td>2001-06-28 14:34:37</td>\n",
       "    </tr>\n",
       "    <tr>\n",
       "      <th>2964</th>\n",
       "      <td>23</td>\n",
       "      <td>1958</td>\n",
       "      <td>4</td>\n",
       "      <td>2001-06-28 14:35:13</td>\n",
       "    </tr>\n",
       "    <tr>\n",
       "      <th>2883</th>\n",
       "      <td>23</td>\n",
       "      <td>2712</td>\n",
       "      <td>5</td>\n",
       "      <td>2001-06-28 14:35:58</td>\n",
       "    </tr>\n",
       "    <tr>\n",
       "      <th>2969</th>\n",
       "      <td>23</td>\n",
       "      <td>3052</td>\n",
       "      <td>5</td>\n",
       "      <td>2001-06-28 14:35:58</td>\n",
       "    </tr>\n",
       "    <tr>\n",
       "      <th>3047</th>\n",
       "      <td>23</td>\n",
       "      <td>3740</td>\n",
       "      <td>5</td>\n",
       "      <td>2001-06-28 14:36:33</td>\n",
       "    </tr>\n",
       "    <tr>\n",
       "      <th>2901</th>\n",
       "      <td>23</td>\n",
       "      <td>2148</td>\n",
       "      <td>4</td>\n",
       "      <td>2001-06-28 14:39:01</td>\n",
       "    </tr>\n",
       "    <tr>\n",
       "      <th>3132</th>\n",
       "      <td>23</td>\n",
       "      <td>2617</td>\n",
       "      <td>5</td>\n",
       "      <td>2001-06-28 14:39:01</td>\n",
       "    </tr>\n",
       "    <tr>\n",
       "      <th>2974</th>\n",
       "      <td>23</td>\n",
       "      <td>2259</td>\n",
       "      <td>2</td>\n",
       "      <td>2001-06-28 14:42:04</td>\n",
       "    </tr>\n",
       "    <tr>\n",
       "      <th>2998</th>\n",
       "      <td>23</td>\n",
       "      <td>2409</td>\n",
       "      <td>3</td>\n",
       "      <td>2001-06-28 14:42:04</td>\n",
       "    </tr>\n",
       "    <tr>\n",
       "      <th>3011</th>\n",
       "      <td>23</td>\n",
       "      <td>2410</td>\n",
       "      <td>3</td>\n",
       "      <td>2001-06-28 14:42:04</td>\n",
       "    </tr>\n",
       "    <tr>\n",
       "      <th>2924</th>\n",
       "      <td>23</td>\n",
       "      <td>327</td>\n",
       "      <td>2</td>\n",
       "      <td>2001-06-28 14:42:29</td>\n",
       "    </tr>\n",
       "    <tr>\n",
       "      <th>2981</th>\n",
       "      <td>23</td>\n",
       "      <td>1388</td>\n",
       "      <td>3</td>\n",
       "      <td>2001-06-28 14:42:29</td>\n",
       "    </tr>\n",
       "    <tr>\n",
       "      <th>3012</th>\n",
       "      <td>23</td>\n",
       "      <td>2411</td>\n",
       "      <td>2</td>\n",
       "      <td>2001-06-28 14:42:29</td>\n",
       "    </tr>\n",
       "    <tr>\n",
       "      <th>2890</th>\n",
       "      <td>23</td>\n",
       "      <td>2642</td>\n",
       "      <td>1</td>\n",
       "      <td>2001-06-28 14:43:06</td>\n",
       "    </tr>\n",
       "    <tr>\n",
       "      <th>2902</th>\n",
       "      <td>23</td>\n",
       "      <td>2149</td>\n",
       "      <td>3</td>\n",
       "      <td>2001-06-28 14:43:06</td>\n",
       "    </tr>\n",
       "    <tr>\n",
       "      <th>3143</th>\n",
       "      <td>23</td>\n",
       "      <td>2119</td>\n",
       "      <td>3</td>\n",
       "      <td>2001-06-28 14:43:36</td>\n",
       "    </tr>\n",
       "    <tr>\n",
       "      <th>2891</th>\n",
       "      <td>23</td>\n",
       "      <td>2643</td>\n",
       "      <td>1</td>\n",
       "      <td>2001-06-28 14:43:55</td>\n",
       "    </tr>\n",
       "    <tr>\n",
       "      <th>3251</th>\n",
       "      <td>24</td>\n",
       "      <td>1635</td>\n",
       "      <td>4</td>\n",
       "      <td>2001-04-02 05:29:55</td>\n",
       "    </tr>\n",
       "    <tr>\n",
       "      <th>3223</th>\n",
       "      <td>24</td>\n",
       "      <td>425</td>\n",
       "      <td>4</td>\n",
       "      <td>2001-04-02 05:31:10</td>\n",
       "    </tr>\n",
       "    <tr>\n",
       "      <th>3211</th>\n",
       "      <td>24</td>\n",
       "      <td>2757</td>\n",
       "      <td>4</td>\n",
       "      <td>2001-04-02 05:31:30</td>\n",
       "    </tr>\n",
       "    <tr>\n",
       "      <th>3213</th>\n",
       "      <td>24</td>\n",
       "      <td>1959</td>\n",
       "      <td>5</td>\n",
       "      <td>2001-04-02 05:37:17</td>\n",
       "    </tr>\n",
       "  </tbody>\n",
       "</table>\n",
       "</div>"
      ],
      "text/plain": [
       "      UserId  ItemId  Rating                 Time\n",
       "2327      19     318       4  2001-07-08 10:43:18\n",
       "2492      19    1234       5  2001-07-08 10:43:56\n",
       "2503      20    1694       3  2001-12-30 08:37:51\n",
       "2512      20    1468       3  2001-12-30 08:37:51\n",
       "2513      20    3717       2  2001-12-30 08:37:51\n",
       "2517      20    2858       4  2001-12-30 08:37:51\n",
       "2504      20    2641       4  2001-12-30 08:38:35\n",
       "2510      20    1375       3  2001-12-30 08:38:35\n",
       "2520      20    3753       5  2001-12-30 08:38:36\n",
       "2511      20    1527       5  2001-12-30 08:39:41\n",
       "2523      20    1240       4  2001-12-30 08:39:41\n",
       "2509      20    1371       4  2001-12-30 08:40:27\n",
       "2671      22    1884       4  2001-05-30 00:10:55\n",
       "2776      22    2376       3  2001-05-30 00:12:20\n",
       "2827      22    1097       3  2001-05-30 00:14:49\n",
       "2839      22    2046       4  2001-05-30 00:15:06\n",
       "2610      22    3527       4  2001-05-30 00:15:20\n",
       "2778      22    2011       4  2001-05-30 00:15:52\n",
       "2809      22    3698       4  2001-05-30 00:15:52\n",
       "2709      22    1034       4  2001-05-30 00:17:52\n",
       "2623      22    3896       2  2001-05-30 00:18:13\n",
       "2646      22     908       4  2001-05-30 00:21:01\n",
       "2657      22     910       4  2001-05-30 00:24:52\n",
       "3126      23    2973       3  2001-06-28 14:32:49\n",
       "2858      23    1258       4  2001-06-28 14:33:27\n",
       "3051      23    1204       4  2001-06-28 14:33:27\n",
       "3097      23    1222       5  2001-06-28 14:33:27\n",
       "3128      23    1090       3  2001-06-28 14:33:27\n",
       "2921      23    3396       3  2001-06-28 14:34:14\n",
       "2956      23     915       3  2001-06-28 14:34:37\n",
       "2964      23    1958       4  2001-06-28 14:35:13\n",
       "2883      23    2712       5  2001-06-28 14:35:58\n",
       "2969      23    3052       5  2001-06-28 14:35:58\n",
       "3047      23    3740       5  2001-06-28 14:36:33\n",
       "2901      23    2148       4  2001-06-28 14:39:01\n",
       "3132      23    2617       5  2001-06-28 14:39:01\n",
       "2974      23    2259       2  2001-06-28 14:42:04\n",
       "2998      23    2409       3  2001-06-28 14:42:04\n",
       "3011      23    2410       3  2001-06-28 14:42:04\n",
       "2924      23     327       2  2001-06-28 14:42:29\n",
       "2981      23    1388       3  2001-06-28 14:42:29\n",
       "3012      23    2411       2  2001-06-28 14:42:29\n",
       "2890      23    2642       1  2001-06-28 14:43:06\n",
       "2902      23    2149       3  2001-06-28 14:43:06\n",
       "3143      23    2119       3  2001-06-28 14:43:36\n",
       "2891      23    2643       1  2001-06-28 14:43:55\n",
       "3251      24    1635       4  2001-04-02 05:29:55\n",
       "3223      24     425       4  2001-04-02 05:31:10\n",
       "3211      24    2757       4  2001-04-02 05:31:30\n",
       "3213      24    1959       5  2001-04-02 05:37:17"
      ]
     },
     "execution_count": 374,
     "metadata": {},
     "output_type": "execute_result"
    }
   ],
   "source": [
    "year_ago = latest - dt.timedelta(365*2)     # 최종 날짜로부터 365일*2(2년) 이전 날짜를 구한다.  \n",
    "data = data[data['Time'] > year_ago]   # 방금 구한 날짜 이후의 데이터만 모은다. \n",
    "data.head(50)"
   ]
  },
  {
   "cell_type": "markdown",
   "id": "3c2c38e0-19b6-4353-979a-b808c09c4208",
   "metadata": {},
   "source": [
    "* 최종 날짜로부터 1년 전까지의 데이터만 모은다"
   ]
  },
  {
   "cell_type": "markdown",
   "id": "70bbe44b-090b-418e-823f-dfa0a5518a63",
   "metadata": {},
   "source": [
    "## Session ID"
   ]
  },
  {
   "cell_type": "code",
   "execution_count": 375,
   "id": "056654bf-1229-4811-8532-46ea84ad93a0",
   "metadata": {
    "tags": []
   },
   "outputs": [
    {
     "data": {
      "text/html": [
       "<div>\n",
       "<style scoped>\n",
       "    .dataframe tbody tr th:only-of-type {\n",
       "        vertical-align: middle;\n",
       "    }\n",
       "\n",
       "    .dataframe tbody tr th {\n",
       "        vertical-align: top;\n",
       "    }\n",
       "\n",
       "    .dataframe thead th {\n",
       "        text-align: right;\n",
       "    }\n",
       "</style>\n",
       "<table border=\"1\" class=\"dataframe\">\n",
       "  <thead>\n",
       "    <tr style=\"text-align: right;\">\n",
       "      <th></th>\n",
       "      <th>UserId</th>\n",
       "      <th>ItemId</th>\n",
       "      <th>Rating</th>\n",
       "      <th>Time</th>\n",
       "      <th>Time_diff</th>\n",
       "      <th>SessionId</th>\n",
       "    </tr>\n",
       "  </thead>\n",
       "  <tbody>\n",
       "    <tr>\n",
       "      <th>2327</th>\n",
       "      <td>19</td>\n",
       "      <td>318</td>\n",
       "      <td>4</td>\n",
       "      <td>2001-07-08 10:43:18</td>\n",
       "      <td>0 days 00:00:00</td>\n",
       "      <td>0</td>\n",
       "    </tr>\n",
       "    <tr>\n",
       "      <th>2492</th>\n",
       "      <td>19</td>\n",
       "      <td>1234</td>\n",
       "      <td>5</td>\n",
       "      <td>2001-07-08 10:43:56</td>\n",
       "      <td>0 days 00:00:38</td>\n",
       "      <td>1</td>\n",
       "    </tr>\n",
       "    <tr>\n",
       "      <th>2503</th>\n",
       "      <td>20</td>\n",
       "      <td>1694</td>\n",
       "      <td>3</td>\n",
       "      <td>2001-12-30 08:37:51</td>\n",
       "      <td>174 days 21:53:55</td>\n",
       "      <td>1</td>\n",
       "    </tr>\n",
       "    <tr>\n",
       "      <th>2512</th>\n",
       "      <td>20</td>\n",
       "      <td>1468</td>\n",
       "      <td>3</td>\n",
       "      <td>2001-12-30 08:37:51</td>\n",
       "      <td>0 days 00:00:00</td>\n",
       "      <td>2</td>\n",
       "    </tr>\n",
       "    <tr>\n",
       "      <th>2513</th>\n",
       "      <td>20</td>\n",
       "      <td>3717</td>\n",
       "      <td>2</td>\n",
       "      <td>2001-12-30 08:37:51</td>\n",
       "      <td>0 days 00:00:00</td>\n",
       "      <td>2</td>\n",
       "    </tr>\n",
       "    <tr>\n",
       "      <th>2517</th>\n",
       "      <td>20</td>\n",
       "      <td>2858</td>\n",
       "      <td>4</td>\n",
       "      <td>2001-12-30 08:37:51</td>\n",
       "      <td>0 days 00:00:00</td>\n",
       "      <td>2</td>\n",
       "    </tr>\n",
       "    <tr>\n",
       "      <th>2504</th>\n",
       "      <td>20</td>\n",
       "      <td>2641</td>\n",
       "      <td>4</td>\n",
       "      <td>2001-12-30 08:38:35</td>\n",
       "      <td>0 days 00:00:44</td>\n",
       "      <td>2</td>\n",
       "    </tr>\n",
       "    <tr>\n",
       "      <th>2510</th>\n",
       "      <td>20</td>\n",
       "      <td>1375</td>\n",
       "      <td>3</td>\n",
       "      <td>2001-12-30 08:38:35</td>\n",
       "      <td>0 days 00:00:00</td>\n",
       "      <td>2</td>\n",
       "    </tr>\n",
       "    <tr>\n",
       "      <th>2520</th>\n",
       "      <td>20</td>\n",
       "      <td>3753</td>\n",
       "      <td>5</td>\n",
       "      <td>2001-12-30 08:38:36</td>\n",
       "      <td>0 days 00:00:01</td>\n",
       "      <td>2</td>\n",
       "    </tr>\n",
       "    <tr>\n",
       "      <th>2511</th>\n",
       "      <td>20</td>\n",
       "      <td>1527</td>\n",
       "      <td>5</td>\n",
       "      <td>2001-12-30 08:39:41</td>\n",
       "      <td>0 days 00:01:05</td>\n",
       "      <td>2</td>\n",
       "    </tr>\n",
       "    <tr>\n",
       "      <th>2523</th>\n",
       "      <td>20</td>\n",
       "      <td>1240</td>\n",
       "      <td>4</td>\n",
       "      <td>2001-12-30 08:39:41</td>\n",
       "      <td>0 days 00:00:00</td>\n",
       "      <td>2</td>\n",
       "    </tr>\n",
       "    <tr>\n",
       "      <th>2509</th>\n",
       "      <td>20</td>\n",
       "      <td>1371</td>\n",
       "      <td>4</td>\n",
       "      <td>2001-12-30 08:40:27</td>\n",
       "      <td>0 days 00:00:46</td>\n",
       "      <td>2</td>\n",
       "    </tr>\n",
       "    <tr>\n",
       "      <th>2671</th>\n",
       "      <td>22</td>\n",
       "      <td>1884</td>\n",
       "      <td>4</td>\n",
       "      <td>2001-05-30 00:10:55</td>\n",
       "      <td>-215 days +15:30:28</td>\n",
       "      <td>2</td>\n",
       "    </tr>\n",
       "    <tr>\n",
       "      <th>2776</th>\n",
       "      <td>22</td>\n",
       "      <td>2376</td>\n",
       "      <td>3</td>\n",
       "      <td>2001-05-30 00:12:20</td>\n",
       "      <td>0 days 00:01:25</td>\n",
       "      <td>3</td>\n",
       "    </tr>\n",
       "    <tr>\n",
       "      <th>2827</th>\n",
       "      <td>22</td>\n",
       "      <td>1097</td>\n",
       "      <td>3</td>\n",
       "      <td>2001-05-30 00:14:49</td>\n",
       "      <td>0 days 00:02:29</td>\n",
       "      <td>3</td>\n",
       "    </tr>\n",
       "    <tr>\n",
       "      <th>2839</th>\n",
       "      <td>22</td>\n",
       "      <td>2046</td>\n",
       "      <td>4</td>\n",
       "      <td>2001-05-30 00:15:06</td>\n",
       "      <td>0 days 00:00:17</td>\n",
       "      <td>3</td>\n",
       "    </tr>\n",
       "    <tr>\n",
       "      <th>2610</th>\n",
       "      <td>22</td>\n",
       "      <td>3527</td>\n",
       "      <td>4</td>\n",
       "      <td>2001-05-30 00:15:20</td>\n",
       "      <td>0 days 00:00:14</td>\n",
       "      <td>3</td>\n",
       "    </tr>\n",
       "    <tr>\n",
       "      <th>2778</th>\n",
       "      <td>22</td>\n",
       "      <td>2011</td>\n",
       "      <td>4</td>\n",
       "      <td>2001-05-30 00:15:52</td>\n",
       "      <td>0 days 00:00:32</td>\n",
       "      <td>3</td>\n",
       "    </tr>\n",
       "    <tr>\n",
       "      <th>2809</th>\n",
       "      <td>22</td>\n",
       "      <td>3698</td>\n",
       "      <td>4</td>\n",
       "      <td>2001-05-30 00:15:52</td>\n",
       "      <td>0 days 00:00:00</td>\n",
       "      <td>3</td>\n",
       "    </tr>\n",
       "    <tr>\n",
       "      <th>2709</th>\n",
       "      <td>22</td>\n",
       "      <td>1034</td>\n",
       "      <td>4</td>\n",
       "      <td>2001-05-30 00:17:52</td>\n",
       "      <td>0 days 00:02:00</td>\n",
       "      <td>3</td>\n",
       "    </tr>\n",
       "  </tbody>\n",
       "</table>\n",
       "</div>"
      ],
      "text/plain": [
       "      UserId  ItemId  Rating                 Time           Time_diff  \\\n",
       "2327      19     318       4  2001-07-08 10:43:18     0 days 00:00:00   \n",
       "2492      19    1234       5  2001-07-08 10:43:56     0 days 00:00:38   \n",
       "2503      20    1694       3  2001-12-30 08:37:51   174 days 21:53:55   \n",
       "2512      20    1468       3  2001-12-30 08:37:51     0 days 00:00:00   \n",
       "2513      20    3717       2  2001-12-30 08:37:51     0 days 00:00:00   \n",
       "2517      20    2858       4  2001-12-30 08:37:51     0 days 00:00:00   \n",
       "2504      20    2641       4  2001-12-30 08:38:35     0 days 00:00:44   \n",
       "2510      20    1375       3  2001-12-30 08:38:35     0 days 00:00:00   \n",
       "2520      20    3753       5  2001-12-30 08:38:36     0 days 00:00:01   \n",
       "2511      20    1527       5  2001-12-30 08:39:41     0 days 00:01:05   \n",
       "2523      20    1240       4  2001-12-30 08:39:41     0 days 00:00:00   \n",
       "2509      20    1371       4  2001-12-30 08:40:27     0 days 00:00:46   \n",
       "2671      22    1884       4  2001-05-30 00:10:55 -215 days +15:30:28   \n",
       "2776      22    2376       3  2001-05-30 00:12:20     0 days 00:01:25   \n",
       "2827      22    1097       3  2001-05-30 00:14:49     0 days 00:02:29   \n",
       "2839      22    2046       4  2001-05-30 00:15:06     0 days 00:00:17   \n",
       "2610      22    3527       4  2001-05-30 00:15:20     0 days 00:00:14   \n",
       "2778      22    2011       4  2001-05-30 00:15:52     0 days 00:00:32   \n",
       "2809      22    3698       4  2001-05-30 00:15:52     0 days 00:00:00   \n",
       "2709      22    1034       4  2001-05-30 00:17:52     0 days 00:02:00   \n",
       "\n",
       "      SessionId  \n",
       "2327          0  \n",
       "2492          1  \n",
       "2503          1  \n",
       "2512          2  \n",
       "2513          2  \n",
       "2517          2  \n",
       "2504          2  \n",
       "2510          2  \n",
       "2520          2  \n",
       "2511          2  \n",
       "2523          2  \n",
       "2509          2  \n",
       "2671          2  \n",
       "2776          3  \n",
       "2827          3  \n",
       "2839          3  \n",
       "2610          3  \n",
       "2778          3  \n",
       "2809          3  \n",
       "2709          3  "
      ]
     },
     "execution_count": 375,
     "metadata": {},
     "output_type": "execute_result"
    }
   ],
   "source": [
    "data = data.copy()\n",
    "\n",
    "# Time 각 행 중 이전행과 비교를 통해 Time 의 차이를 구한다\n",
    "data['Time_diff'] = (data['Time'] - data['Time'].shift(1))\n",
    "data['Time_diff'] = data['Time_diff'].fillna(\"0:0:0\") # 첫번째 인덱스는 비교대상이 없으므로 0으로 초기화 해준다.\n",
    "\n",
    "timediff_idx = data.index[data['Time_diff']>'0:30:0'] # 차이가 30분 이상 나는 행들의 인덱스 추출\n",
    "UserId_idx = data.index[data['UserId'] != data['UserId'].shift(1)] # 이전 행과 UserId가 달라진 인덱스 추출\n",
    "\n",
    "total_idx = list(timediff_idx.append(UserId_idx).unique()) # 위에서 구한 두인덱스를 합한 후 유니크한 인덱스만 추출\n",
    "all_idx = list(data.index) # data의 전체 인덱스\n",
    "\n",
    "value = 0\n",
    "dic = {}\n",
    "data['SessionId'] = 0\n",
    "\n",
    "# 전체 인덱 스 중 total_idx가 포함되어 있으면 +1 후 그 값을 대입하고 아니면 이전값 그대로 대입한다.\n",
    "for i in all_idx:\n",
    "    if i in total_idx:\n",
    "        data.loc[i, 'SessionId'] = value\n",
    "        value += 1\n",
    "    else:\n",
    "        data.loc[i, 'SessionId'] = value\n",
    "\n",
    "data.head(20)"
   ]
  },
  {
   "cell_type": "markdown",
   "id": "6134c338-b80f-4e5b-9c3c-19db71f1b065",
   "metadata": {},
   "source": [
    "* Session 아이디를 값을 더해주기 위한 조건은\n",
    "    * Time이 이전 행과 30분 이상 차이가 나거나\n",
    "    * UserId가 달라졌거나 이다.\n",
    "    "
   ]
  },
  {
   "cell_type": "markdown",
   "id": "e3e10118-ff19-4f49-ab85-de6e7b82f5de",
   "metadata": {},
   "source": [
    "## Data Cleansing"
   ]
  },
  {
   "cell_type": "code",
   "execution_count": 376,
   "id": "cc7e6e7c-2120-4af0-87bb-9eb87e12e63d",
   "metadata": {},
   "outputs": [],
   "source": [
    "# short_session을 제거한 다음 unpopular item을 제거하면 다시 길이가 1인 session이 생길 수 있다.\n",
    "# 이를 위해 반복문을 통해 지속적으로 제거 합니다.\n",
    "def cleanse_recursive(data: pd.DataFrame, shortest, least_click) -> pd.DataFrame:\n",
    "    while True:\n",
    "        before_len = len(data)\n",
    "        data = cleanse_short_session(data, shortest)\n",
    "        data = cleanse_unpopular_item(data, least_click)\n",
    "        after_len = len(data)\n",
    "        if before_len == after_len:\n",
    "            break\n",
    "    return data\n",
    "\n",
    "def cleanse_short_session(data: pd.DataFrame, shortest):\n",
    "    session_len = data.groupby('SessionId').size()\n",
    "    session_use = session_len[session_len >= shortest].index\n",
    "    data = data[data['SessionId'].isin(session_use)]\n",
    "    return data\n",
    "\n",
    "def cleanse_unpopular_item(data: pd.DataFrame, least_click):\n",
    "    item_popular = data.groupby('ItemId').size()\n",
    "    item_use = item_popular[item_popular >= least_click].index\n",
    "    data = data[data['ItemId'].isin(item_use)]\n",
    "    return data"
   ]
  },
  {
   "cell_type": "code",
   "execution_count": 377,
   "id": "dede6b1c-3f7f-4b58-bf4a-2825196cf007",
   "metadata": {},
   "outputs": [
    {
     "data": {
      "text/html": [
       "<div>\n",
       "<style scoped>\n",
       "    .dataframe tbody tr th:only-of-type {\n",
       "        vertical-align: middle;\n",
       "    }\n",
       "\n",
       "    .dataframe tbody tr th {\n",
       "        vertical-align: top;\n",
       "    }\n",
       "\n",
       "    .dataframe thead th {\n",
       "        text-align: right;\n",
       "    }\n",
       "</style>\n",
       "<table border=\"1\" class=\"dataframe\">\n",
       "  <thead>\n",
       "    <tr style=\"text-align: right;\">\n",
       "      <th></th>\n",
       "      <th>UserId</th>\n",
       "      <th>ItemId</th>\n",
       "      <th>Rating</th>\n",
       "      <th>Time</th>\n",
       "      <th>Time_diff</th>\n",
       "      <th>SessionId</th>\n",
       "    </tr>\n",
       "  </thead>\n",
       "  <tbody>\n",
       "    <tr>\n",
       "      <th>2513</th>\n",
       "      <td>20</td>\n",
       "      <td>3717</td>\n",
       "      <td>2</td>\n",
       "      <td>2001-12-30 08:37:51</td>\n",
       "      <td>0 days 00:00:00</td>\n",
       "      <td>2</td>\n",
       "    </tr>\n",
       "    <tr>\n",
       "      <th>2517</th>\n",
       "      <td>20</td>\n",
       "      <td>2858</td>\n",
       "      <td>4</td>\n",
       "      <td>2001-12-30 08:37:51</td>\n",
       "      <td>0 days 00:00:00</td>\n",
       "      <td>2</td>\n",
       "    </tr>\n",
       "    <tr>\n",
       "      <th>2504</th>\n",
       "      <td>20</td>\n",
       "      <td>2641</td>\n",
       "      <td>4</td>\n",
       "      <td>2001-12-30 08:38:35</td>\n",
       "      <td>0 days 00:00:44</td>\n",
       "      <td>2</td>\n",
       "    </tr>\n",
       "    <tr>\n",
       "      <th>2510</th>\n",
       "      <td>20</td>\n",
       "      <td>1375</td>\n",
       "      <td>3</td>\n",
       "      <td>2001-12-30 08:38:35</td>\n",
       "      <td>0 days 00:00:00</td>\n",
       "      <td>2</td>\n",
       "    </tr>\n",
       "    <tr>\n",
       "      <th>2520</th>\n",
       "      <td>20</td>\n",
       "      <td>3753</td>\n",
       "      <td>5</td>\n",
       "      <td>2001-12-30 08:38:36</td>\n",
       "      <td>0 days 00:00:01</td>\n",
       "      <td>2</td>\n",
       "    </tr>\n",
       "    <tr>\n",
       "      <th>...</th>\n",
       "      <td>...</td>\n",
       "      <td>...</td>\n",
       "      <td>...</td>\n",
       "      <td>...</td>\n",
       "      <td>...</td>\n",
       "      <td>...</td>\n",
       "    </tr>\n",
       "    <tr>\n",
       "      <th>1000019</th>\n",
       "      <td>6040</td>\n",
       "      <td>2917</td>\n",
       "      <td>4</td>\n",
       "      <td>2001-08-10 23:40:29</td>\n",
       "      <td>0 days 00:00:31</td>\n",
       "      <td>8863</td>\n",
       "    </tr>\n",
       "    <tr>\n",
       "      <th>999988</th>\n",
       "      <td>6040</td>\n",
       "      <td>1921</td>\n",
       "      <td>4</td>\n",
       "      <td>2001-08-10 23:41:04</td>\n",
       "      <td>0 days 00:00:35</td>\n",
       "      <td>8863</td>\n",
       "    </tr>\n",
       "    <tr>\n",
       "      <th>1000172</th>\n",
       "      <td>6040</td>\n",
       "      <td>1784</td>\n",
       "      <td>3</td>\n",
       "      <td>2001-08-10 23:41:04</td>\n",
       "      <td>0 days 00:00:00</td>\n",
       "      <td>8863</td>\n",
       "    </tr>\n",
       "    <tr>\n",
       "      <th>1000167</th>\n",
       "      <td>6040</td>\n",
       "      <td>161</td>\n",
       "      <td>3</td>\n",
       "      <td>2001-08-10 23:41:26</td>\n",
       "      <td>0 days 00:00:22</td>\n",
       "      <td>8863</td>\n",
       "    </tr>\n",
       "    <tr>\n",
       "      <th>1000042</th>\n",
       "      <td>6040</td>\n",
       "      <td>1221</td>\n",
       "      <td>4</td>\n",
       "      <td>2001-08-20 22:44:15</td>\n",
       "      <td>9 days 23:02:49</td>\n",
       "      <td>8863</td>\n",
       "    </tr>\n",
       "  </tbody>\n",
       "</table>\n",
       "<p>45231 rows × 6 columns</p>\n",
       "</div>"
      ],
      "text/plain": [
       "         UserId  ItemId  Rating                 Time       Time_diff  \\\n",
       "2513         20    3717       2  2001-12-30 08:37:51 0 days 00:00:00   \n",
       "2517         20    2858       4  2001-12-30 08:37:51 0 days 00:00:00   \n",
       "2504         20    2641       4  2001-12-30 08:38:35 0 days 00:00:44   \n",
       "2510         20    1375       3  2001-12-30 08:38:35 0 days 00:00:00   \n",
       "2520         20    3753       5  2001-12-30 08:38:36 0 days 00:00:01   \n",
       "...         ...     ...     ...                  ...             ...   \n",
       "1000019    6040    2917       4  2001-08-10 23:40:29 0 days 00:00:31   \n",
       "999988     6040    1921       4  2001-08-10 23:41:04 0 days 00:00:35   \n",
       "1000172    6040    1784       3  2001-08-10 23:41:04 0 days 00:00:00   \n",
       "1000167    6040     161       3  2001-08-10 23:41:26 0 days 00:00:22   \n",
       "1000042    6040    1221       4  2001-08-20 22:44:15 9 days 23:02:49   \n",
       "\n",
       "         SessionId  \n",
       "2513             2  \n",
       "2517             2  \n",
       "2504             2  \n",
       "2510             2  \n",
       "2520             2  \n",
       "...            ...  \n",
       "1000019       8863  \n",
       "999988        8863  \n",
       "1000172       8863  \n",
       "1000167       8863  \n",
       "1000042       8863  \n",
       "\n",
       "[45231 rows x 6 columns]"
      ]
     },
     "execution_count": 377,
     "metadata": {},
     "output_type": "execute_result"
    }
   ],
   "source": [
    "data = cleanse_recursive(data, shortest=3, least_click=20)\n",
    "data"
   ]
  },
  {
   "cell_type": "code",
   "execution_count": 378,
   "id": "d6a53953-9868-405a-9ddd-7f2887b5ca53",
   "metadata": {},
   "outputs": [
    {
     "data": {
      "text/html": [
       "<div>\n",
       "<style scoped>\n",
       "    .dataframe tbody tr th:only-of-type {\n",
       "        vertical-align: middle;\n",
       "    }\n",
       "\n",
       "    .dataframe tbody tr th {\n",
       "        vertical-align: top;\n",
       "    }\n",
       "\n",
       "    .dataframe thead th {\n",
       "        text-align: right;\n",
       "    }\n",
       "</style>\n",
       "<table border=\"1\" class=\"dataframe\">\n",
       "  <thead>\n",
       "    <tr style=\"text-align: right;\">\n",
       "      <th></th>\n",
       "      <th>UserId</th>\n",
       "      <th>ItemId</th>\n",
       "      <th>Rating</th>\n",
       "      <th>Time</th>\n",
       "      <th>SessionId</th>\n",
       "    </tr>\n",
       "  </thead>\n",
       "  <tbody>\n",
       "    <tr>\n",
       "      <th>2513</th>\n",
       "      <td>20</td>\n",
       "      <td>3717</td>\n",
       "      <td>2</td>\n",
       "      <td>2001-12-30 08:37:51</td>\n",
       "      <td>2</td>\n",
       "    </tr>\n",
       "    <tr>\n",
       "      <th>2517</th>\n",
       "      <td>20</td>\n",
       "      <td>2858</td>\n",
       "      <td>4</td>\n",
       "      <td>2001-12-30 08:37:51</td>\n",
       "      <td>2</td>\n",
       "    </tr>\n",
       "    <tr>\n",
       "      <th>2504</th>\n",
       "      <td>20</td>\n",
       "      <td>2641</td>\n",
       "      <td>4</td>\n",
       "      <td>2001-12-30 08:38:35</td>\n",
       "      <td>2</td>\n",
       "    </tr>\n",
       "    <tr>\n",
       "      <th>2510</th>\n",
       "      <td>20</td>\n",
       "      <td>1375</td>\n",
       "      <td>3</td>\n",
       "      <td>2001-12-30 08:38:35</td>\n",
       "      <td>2</td>\n",
       "    </tr>\n",
       "    <tr>\n",
       "      <th>2520</th>\n",
       "      <td>20</td>\n",
       "      <td>3753</td>\n",
       "      <td>5</td>\n",
       "      <td>2001-12-30 08:38:36</td>\n",
       "      <td>2</td>\n",
       "    </tr>\n",
       "    <tr>\n",
       "      <th>...</th>\n",
       "      <td>...</td>\n",
       "      <td>...</td>\n",
       "      <td>...</td>\n",
       "      <td>...</td>\n",
       "      <td>...</td>\n",
       "    </tr>\n",
       "    <tr>\n",
       "      <th>1000019</th>\n",
       "      <td>6040</td>\n",
       "      <td>2917</td>\n",
       "      <td>4</td>\n",
       "      <td>2001-08-10 23:40:29</td>\n",
       "      <td>8863</td>\n",
       "    </tr>\n",
       "    <tr>\n",
       "      <th>999988</th>\n",
       "      <td>6040</td>\n",
       "      <td>1921</td>\n",
       "      <td>4</td>\n",
       "      <td>2001-08-10 23:41:04</td>\n",
       "      <td>8863</td>\n",
       "    </tr>\n",
       "    <tr>\n",
       "      <th>1000172</th>\n",
       "      <td>6040</td>\n",
       "      <td>1784</td>\n",
       "      <td>3</td>\n",
       "      <td>2001-08-10 23:41:04</td>\n",
       "      <td>8863</td>\n",
       "    </tr>\n",
       "    <tr>\n",
       "      <th>1000167</th>\n",
       "      <td>6040</td>\n",
       "      <td>161</td>\n",
       "      <td>3</td>\n",
       "      <td>2001-08-10 23:41:26</td>\n",
       "      <td>8863</td>\n",
       "    </tr>\n",
       "    <tr>\n",
       "      <th>1000042</th>\n",
       "      <td>6040</td>\n",
       "      <td>1221</td>\n",
       "      <td>4</td>\n",
       "      <td>2001-08-20 22:44:15</td>\n",
       "      <td>8863</td>\n",
       "    </tr>\n",
       "  </tbody>\n",
       "</table>\n",
       "<p>45231 rows × 5 columns</p>\n",
       "</div>"
      ],
      "text/plain": [
       "         UserId  ItemId  Rating                 Time  SessionId\n",
       "2513         20    3717       2  2001-12-30 08:37:51          2\n",
       "2517         20    2858       4  2001-12-30 08:37:51          2\n",
       "2504         20    2641       4  2001-12-30 08:38:35          2\n",
       "2510         20    1375       3  2001-12-30 08:38:35          2\n",
       "2520         20    3753       5  2001-12-30 08:38:36          2\n",
       "...         ...     ...     ...                  ...        ...\n",
       "1000019    6040    2917       4  2001-08-10 23:40:29       8863\n",
       "999988     6040    1921       4  2001-08-10 23:41:04       8863\n",
       "1000172    6040    1784       3  2001-08-10 23:41:04       8863\n",
       "1000167    6040     161       3  2001-08-10 23:41:26       8863\n",
       "1000042    6040    1221       4  2001-08-20 22:44:15       8863\n",
       "\n",
       "[45231 rows x 5 columns]"
      ]
     },
     "execution_count": 378,
     "metadata": {},
     "output_type": "execute_result"
    }
   ],
   "source": [
    "# 필요 없어진 Time_diff 컬럼을 삭제해준다.\n",
    "data.drop('Time_diff', axis=1, inplace=True)\n",
    "data"
   ]
  },
  {
   "cell_type": "markdown",
   "id": "cdbe6f45-4863-41c8-b0d5-5cd52a69d163",
   "metadata": {},
   "source": [
    "## Train/Valid/Test split"
   ]
  },
  {
   "cell_type": "code",
   "execution_count": 379,
   "id": "068af6e4-68a0-4245-a9f8-147f308d10d1",
   "metadata": {},
   "outputs": [
    {
     "data": {
      "text/plain": [
       "(datetime.datetime(2003, 3, 1, 2, 49, 8),\n",
       " datetime.datetime(2001, 3, 1, 4, 7, 26))"
      ]
     },
     "execution_count": 379,
     "metadata": {},
     "output_type": "execute_result"
    }
   ],
   "source": [
    "data['Time'].max(), data['Time'].min() "
   ]
  },
  {
   "cell_type": "code",
   "execution_count": 380,
   "id": "4c7ebb18-8bd2-4950-877a-3ccb6a4513d3",
   "metadata": {},
   "outputs": [
    {
     "data": {
      "text/plain": [
       "datetime.datetime(2002, 12, 31, 2, 49, 8)"
      ]
     },
     "execution_count": 380,
     "metadata": {},
     "output_type": "execute_result"
    }
   ],
   "source": [
    "test_time = data['Time'].max() - dt.timedelta(60)\n",
    "test_time"
   ]
  },
  {
   "cell_type": "code",
   "execution_count": 381,
   "id": "8ca2200a-b974-4211-b8b1-7f5c39ac759d",
   "metadata": {},
   "outputs": [
    {
     "data": {
      "text/plain": [
       "datetime.datetime(2002, 9, 2, 2, 49, 8)"
      ]
     },
     "execution_count": 381,
     "metadata": {},
     "output_type": "execute_result"
    }
   ],
   "source": [
    "valid_time = test_time - dt.timedelta(120)\n",
    "valid_time"
   ]
  },
  {
   "cell_type": "markdown",
   "id": "c5768914-546f-4b1f-bbfe-0a6b992fc3cc",
   "metadata": {},
   "source": [
    "* Train/Valid/Test 데이터프레임을 만들 때 사용할 기준을 만들어준다."
   ]
  },
  {
   "cell_type": "code",
   "execution_count": 382,
   "id": "200781d8-2763-4606-a02f-6089681cbcd6",
   "metadata": {},
   "outputs": [
    {
     "data": {
      "text/html": [
       "<div>\n",
       "<style scoped>\n",
       "    .dataframe tbody tr th:only-of-type {\n",
       "        vertical-align: middle;\n",
       "    }\n",
       "\n",
       "    .dataframe tbody tr th {\n",
       "        vertical-align: top;\n",
       "    }\n",
       "\n",
       "    .dataframe thead th {\n",
       "        text-align: right;\n",
       "    }\n",
       "</style>\n",
       "<table border=\"1\" class=\"dataframe\">\n",
       "  <thead>\n",
       "    <tr style=\"text-align: right;\">\n",
       "      <th></th>\n",
       "      <th>UserId</th>\n",
       "      <th>ItemId</th>\n",
       "      <th>Rating</th>\n",
       "      <th>Time</th>\n",
       "      <th>SessionId</th>\n",
       "    </tr>\n",
       "  </thead>\n",
       "  <tbody>\n",
       "    <tr>\n",
       "      <th>1000019</th>\n",
       "      <td>6040</td>\n",
       "      <td>2917</td>\n",
       "      <td>4</td>\n",
       "      <td>2001-08-10 23:40:29</td>\n",
       "      <td>8863</td>\n",
       "    </tr>\n",
       "    <tr>\n",
       "      <th>999988</th>\n",
       "      <td>6040</td>\n",
       "      <td>1921</td>\n",
       "      <td>4</td>\n",
       "      <td>2001-08-10 23:41:04</td>\n",
       "      <td>8863</td>\n",
       "    </tr>\n",
       "    <tr>\n",
       "      <th>1000172</th>\n",
       "      <td>6040</td>\n",
       "      <td>1784</td>\n",
       "      <td>3</td>\n",
       "      <td>2001-08-10 23:41:04</td>\n",
       "      <td>8863</td>\n",
       "    </tr>\n",
       "    <tr>\n",
       "      <th>1000167</th>\n",
       "      <td>6040</td>\n",
       "      <td>161</td>\n",
       "      <td>3</td>\n",
       "      <td>2001-08-10 23:41:26</td>\n",
       "      <td>8863</td>\n",
       "    </tr>\n",
       "    <tr>\n",
       "      <th>1000042</th>\n",
       "      <td>6040</td>\n",
       "      <td>1221</td>\n",
       "      <td>4</td>\n",
       "      <td>2001-08-20 22:44:15</td>\n",
       "      <td>8863</td>\n",
       "    </tr>\n",
       "  </tbody>\n",
       "</table>\n",
       "</div>"
      ],
      "text/plain": [
       "         UserId  ItemId  Rating                 Time  SessionId\n",
       "1000019    6040    2917       4  2001-08-10 23:40:29       8863\n",
       "999988     6040    1921       4  2001-08-10 23:41:04       8863\n",
       "1000172    6040    1784       3  2001-08-10 23:41:04       8863\n",
       "1000167    6040     161       3  2001-08-10 23:41:26       8863\n",
       "1000042    6040    1221       4  2001-08-20 22:44:15       8863"
      ]
     },
     "execution_count": 382,
     "metadata": {},
     "output_type": "execute_result"
    }
   ],
   "source": [
    "train_df = data[data['Time'] <= valid_time]\n",
    "train_df.tail()"
   ]
  },
  {
   "cell_type": "code",
   "execution_count": 383,
   "id": "a908592f-a3f3-43da-9cfe-8530b16e4dfe",
   "metadata": {},
   "outputs": [
    {
     "data": {
      "text/html": [
       "<div>\n",
       "<style scoped>\n",
       "    .dataframe tbody tr th:only-of-type {\n",
       "        vertical-align: middle;\n",
       "    }\n",
       "\n",
       "    .dataframe tbody tr th {\n",
       "        vertical-align: top;\n",
       "    }\n",
       "\n",
       "    .dataframe thead th {\n",
       "        text-align: right;\n",
       "    }\n",
       "</style>\n",
       "<table border=\"1\" class=\"dataframe\">\n",
       "  <thead>\n",
       "    <tr style=\"text-align: right;\">\n",
       "      <th></th>\n",
       "      <th>UserId</th>\n",
       "      <th>ItemId</th>\n",
       "      <th>Rating</th>\n",
       "      <th>Time</th>\n",
       "      <th>SessionId</th>\n",
       "    </tr>\n",
       "  </thead>\n",
       "  <tbody>\n",
       "    <tr>\n",
       "      <th>8704</th>\n",
       "      <td>59</td>\n",
       "      <td>2997</td>\n",
       "      <td>4</td>\n",
       "      <td>2003-01-08 03:02:48</td>\n",
       "      <td>13</td>\n",
       "    </tr>\n",
       "    <tr>\n",
       "      <th>8721</th>\n",
       "      <td>59</td>\n",
       "      <td>2147</td>\n",
       "      <td>2</td>\n",
       "      <td>2003-01-08 03:03:59</td>\n",
       "      <td>14</td>\n",
       "    </tr>\n",
       "    <tr>\n",
       "      <th>8781</th>\n",
       "      <td>59</td>\n",
       "      <td>2369</td>\n",
       "      <td>4</td>\n",
       "      <td>2003-01-08 03:04:24</td>\n",
       "      <td>14</td>\n",
       "    </tr>\n",
       "    <tr>\n",
       "      <th>8797</th>\n",
       "      <td>59</td>\n",
       "      <td>3408</td>\n",
       "      <td>4</td>\n",
       "      <td>2003-01-08 03:04:52</td>\n",
       "      <td>14</td>\n",
       "    </tr>\n",
       "    <tr>\n",
       "      <th>8808</th>\n",
       "      <td>59</td>\n",
       "      <td>2712</td>\n",
       "      <td>3</td>\n",
       "      <td>2003-01-08 03:04:52</td>\n",
       "      <td>14</td>\n",
       "    </tr>\n",
       "    <tr>\n",
       "      <th>...</th>\n",
       "      <td>...</td>\n",
       "      <td>...</td>\n",
       "      <td>...</td>\n",
       "      <td>...</td>\n",
       "      <td>...</td>\n",
       "    </tr>\n",
       "    <tr>\n",
       "      <th>984731</th>\n",
       "      <td>5950</td>\n",
       "      <td>3948</td>\n",
       "      <td>4</td>\n",
       "      <td>2003-02-28 03:13:57</td>\n",
       "      <td>8803</td>\n",
       "    </tr>\n",
       "    <tr>\n",
       "      <th>984682</th>\n",
       "      <td>5950</td>\n",
       "      <td>3578</td>\n",
       "      <td>4</td>\n",
       "      <td>2003-02-28 03:14:30</td>\n",
       "      <td>8803</td>\n",
       "    </tr>\n",
       "    <tr>\n",
       "      <th>984475</th>\n",
       "      <td>5950</td>\n",
       "      <td>3793</td>\n",
       "      <td>3</td>\n",
       "      <td>2003-02-28 03:15:10</td>\n",
       "      <td>8803</td>\n",
       "    </tr>\n",
       "    <tr>\n",
       "      <th>984660</th>\n",
       "      <td>5950</td>\n",
       "      <td>3555</td>\n",
       "      <td>2</td>\n",
       "      <td>2003-02-28 03:15:37</td>\n",
       "      <td>8803</td>\n",
       "    </tr>\n",
       "    <tr>\n",
       "      <th>984733</th>\n",
       "      <td>5950</td>\n",
       "      <td>1262</td>\n",
       "      <td>4</td>\n",
       "      <td>2003-02-28 03:17:38</td>\n",
       "      <td>8803</td>\n",
       "    </tr>\n",
       "  </tbody>\n",
       "</table>\n",
       "<p>2167 rows × 5 columns</p>\n",
       "</div>"
      ],
      "text/plain": [
       "        UserId  ItemId  Rating                 Time  SessionId\n",
       "8704        59    2997       4  2003-01-08 03:02:48         13\n",
       "8721        59    2147       2  2003-01-08 03:03:59         14\n",
       "8781        59    2369       4  2003-01-08 03:04:24         14\n",
       "8797        59    3408       4  2003-01-08 03:04:52         14\n",
       "8808        59    2712       3  2003-01-08 03:04:52         14\n",
       "...        ...     ...     ...                  ...        ...\n",
       "984731    5950    3948       4  2003-02-28 03:13:57       8803\n",
       "984682    5950    3578       4  2003-02-28 03:14:30       8803\n",
       "984475    5950    3793       3  2003-02-28 03:15:10       8803\n",
       "984660    5950    3555       2  2003-02-28 03:15:37       8803\n",
       "984733    5950    1262       4  2003-02-28 03:17:38       8803\n",
       "\n",
       "[2167 rows x 5 columns]"
      ]
     },
     "execution_count": 383,
     "metadata": {},
     "output_type": "execute_result"
    }
   ],
   "source": [
    "test_df = data[data['Time'] > test_time]\n",
    "test_df"
   ]
  },
  {
   "cell_type": "code",
   "execution_count": 384,
   "id": "9a819ed0-c9d5-4681-ab30-f9fceec4c2fc",
   "metadata": {},
   "outputs": [
    {
     "data": {
      "text/html": [
       "<div>\n",
       "<style scoped>\n",
       "    .dataframe tbody tr th:only-of-type {\n",
       "        vertical-align: middle;\n",
       "    }\n",
       "\n",
       "    .dataframe tbody tr th {\n",
       "        vertical-align: top;\n",
       "    }\n",
       "\n",
       "    .dataframe thead th {\n",
       "        text-align: right;\n",
       "    }\n",
       "</style>\n",
       "<table border=\"1\" class=\"dataframe\">\n",
       "  <thead>\n",
       "    <tr style=\"text-align: right;\">\n",
       "      <th></th>\n",
       "      <th>UserId</th>\n",
       "      <th>ItemId</th>\n",
       "      <th>Rating</th>\n",
       "      <th>Time</th>\n",
       "      <th>SessionId</th>\n",
       "    </tr>\n",
       "  </thead>\n",
       "  <tbody>\n",
       "    <tr>\n",
       "      <th>5184</th>\n",
       "      <td>36</td>\n",
       "      <td>2694</td>\n",
       "      <td>3</td>\n",
       "      <td>2002-12-22 17:08:14</td>\n",
       "      <td>12</td>\n",
       "    </tr>\n",
       "    <tr>\n",
       "      <th>5364</th>\n",
       "      <td>36</td>\n",
       "      <td>3786</td>\n",
       "      <td>4</td>\n",
       "      <td>2002-12-22 17:08:41</td>\n",
       "      <td>12</td>\n",
       "    </tr>\n",
       "    <tr>\n",
       "      <th>5262</th>\n",
       "      <td>36</td>\n",
       "      <td>2369</td>\n",
       "      <td>4</td>\n",
       "      <td>2002-12-22 17:09:24</td>\n",
       "      <td>12</td>\n",
       "    </tr>\n",
       "    <tr>\n",
       "      <th>5069</th>\n",
       "      <td>36</td>\n",
       "      <td>2713</td>\n",
       "      <td>1</td>\n",
       "      <td>2002-12-22 17:11:02</td>\n",
       "      <td>12</td>\n",
       "    </tr>\n",
       "    <tr>\n",
       "      <th>5280</th>\n",
       "      <td>36</td>\n",
       "      <td>3174</td>\n",
       "      <td>4</td>\n",
       "      <td>2002-12-22 17:11:25</td>\n",
       "      <td>12</td>\n",
       "    </tr>\n",
       "    <tr>\n",
       "      <th>...</th>\n",
       "      <td>...</td>\n",
       "      <td>...</td>\n",
       "      <td>...</td>\n",
       "      <td>...</td>\n",
       "      <td>...</td>\n",
       "    </tr>\n",
       "    <tr>\n",
       "      <th>959025</th>\n",
       "      <td>5787</td>\n",
       "      <td>441</td>\n",
       "      <td>4</td>\n",
       "      <td>2002-10-06 04:58:05</td>\n",
       "      <td>8711</td>\n",
       "    </tr>\n",
       "    <tr>\n",
       "      <th>958819</th>\n",
       "      <td>5787</td>\n",
       "      <td>3852</td>\n",
       "      <td>3</td>\n",
       "      <td>2002-10-06 04:58:29</td>\n",
       "      <td>8711</td>\n",
       "    </tr>\n",
       "    <tr>\n",
       "      <th>958987</th>\n",
       "      <td>5787</td>\n",
       "      <td>1297</td>\n",
       "      <td>3</td>\n",
       "      <td>2002-10-06 04:58:29</td>\n",
       "      <td>8711</td>\n",
       "    </tr>\n",
       "    <tr>\n",
       "      <th>959090</th>\n",
       "      <td>5787</td>\n",
       "      <td>2706</td>\n",
       "      <td>4</td>\n",
       "      <td>2002-10-06 04:58:29</td>\n",
       "      <td>8711</td>\n",
       "    </tr>\n",
       "    <tr>\n",
       "      <th>992702</th>\n",
       "      <td>5996</td>\n",
       "      <td>168</td>\n",
       "      <td>3</td>\n",
       "      <td>2002-09-03 22:12:26</td>\n",
       "      <td>8847</td>\n",
       "    </tr>\n",
       "  </tbody>\n",
       "</table>\n",
       "<p>3406 rows × 5 columns</p>\n",
       "</div>"
      ],
      "text/plain": [
       "        UserId  ItemId  Rating                 Time  SessionId\n",
       "5184        36    2694       3  2002-12-22 17:08:14         12\n",
       "5364        36    3786       4  2002-12-22 17:08:41         12\n",
       "5262        36    2369       4  2002-12-22 17:09:24         12\n",
       "5069        36    2713       1  2002-12-22 17:11:02         12\n",
       "5280        36    3174       4  2002-12-22 17:11:25         12\n",
       "...        ...     ...     ...                  ...        ...\n",
       "959025    5787     441       4  2002-10-06 04:58:05       8711\n",
       "958819    5787    3852       3  2002-10-06 04:58:29       8711\n",
       "958987    5787    1297       3  2002-10-06 04:58:29       8711\n",
       "959090    5787    2706       4  2002-10-06 04:58:29       8711\n",
       "992702    5996     168       3  2002-09-03 22:12:26       8847\n",
       "\n",
       "[3406 rows x 5 columns]"
      ]
     },
     "execution_count": 384,
     "metadata": {},
     "output_type": "execute_result"
    }
   ],
   "source": [
    "temp_df = data[data['Time'] <= test_time]\n",
    "val_df = temp_df[temp_df['Time'] > valid_time]\n",
    "val_df"
   ]
  },
  {
   "cell_type": "markdown",
   "id": "a5bb2dd8-0236-481c-a490-b321b02ffacd",
   "metadata": {},
   "source": [
    "* data에 들어있는 값은 전처리를 통해 총 2년치의 데이터이다.    \n",
    "  이 데이터를 train/valid/test로 나눈다.\n",
    "    * train : 18개월(30*18)\n",
    "    * valid : 4개월(30*4)\n",
    "    * test : 2개월(30*2)"
   ]
  },
  {
   "cell_type": "code",
   "execution_count": 385,
   "id": "dc060aaf-bbdb-4c26-8e0b-58b939d4eb79",
   "metadata": {},
   "outputs": [],
   "source": [
    "# data에 대한 정보를 살펴봅니다.\n",
    "def stats_info(data: pd.DataFrame, status: str):\n",
    "    print(f'* {status} Set Stats Info\\n'\n",
    "          f'\\t Events: {len(data)}\\n'\n",
    "          f'\\t Sessions: {data[\"SessionId\"].nunique()}\\n'\n",
    "          f'\\t Items: {data[\"ItemId\"].nunique()}\\n'\n",
    "          f'\\t First Time : {data[\"Time\"].min()}\\n'\n",
    "          f'\\t Last Time : {data[\"Time\"].max()}\\n')"
   ]
  },
  {
   "cell_type": "code",
   "execution_count": 386,
   "id": "bf6ff268-3f4f-43d5-b65e-1db506f09bf6",
   "metadata": {},
   "outputs": [
    {
     "name": "stdout",
     "output_type": "stream",
     "text": [
      "* train Set Stats Info\n",
      "\t Events: 39658\n",
      "\t Sessions: 2432\n",
      "\t Items: 1075\n",
      "\t First Time : 2001-03-01 04:07:26\n",
      "\t Last Time : 2002-09-01 09:14:13\n",
      "\n",
      "* valid Set Stats Info\n",
      "\t Events: 3406\n",
      "\t Sessions: 287\n",
      "\t Items: 981\n",
      "\t First Time : 2002-09-02 04:44:55\n",
      "\t Last Time : 2002-12-31 01:47:52\n",
      "\n",
      "* test Set Stats Info\n",
      "\t Events: 2167\n",
      "\t Sessions: 157\n",
      "\t Items: 892\n",
      "\t First Time : 2002-12-31 04:40:24\n",
      "\t Last Time : 2003-03-01 02:49:08\n",
      "\n"
     ]
    }
   ],
   "source": [
    "stats_info(train_df, 'train')\n",
    "stats_info(val_df, 'valid')\n",
    "stats_info(test_df, 'test')"
   ]
  },
  {
   "cell_type": "code",
   "execution_count": 387,
   "id": "60c232a6-411e-499d-a74f-f92feab683fd",
   "metadata": {},
   "outputs": [
    {
     "name": "stderr",
     "output_type": "stream",
     "text": [
      "C:\\Users\\jslee\\AppData\\Local\\Temp/ipykernel_2116/2406853728.py:4: SettingWithCopyWarning: \n",
      "A value is trying to be set on a copy of a slice from a DataFrame.\n",
      "Try using .loc[row_indexer,col_indexer] = value instead\n",
      "\n",
      "See the caveats in the documentation: https://pandas.pydata.org/pandas-docs/stable/user_guide/indexing.html#returning-a-view-versus-a-copy\n",
      "  df['item_idx'] = df['ItemId'].map(lambda x: id2idx.get(x, -1))  # id2idx에 없는 아이템은 모르는 값(-1) 처리 해줍니다.\n"
     ]
    }
   ],
   "source": [
    "# train set에 없는 아이템이 val, test기간에 생길 수 있으므로 train data를 기준으로 인덱싱합니다.\n",
    "id2idx = {item_id : index for index, item_id in enumerate(train_df['ItemId'].unique())}\n",
    "def indexing(df, id2idx):\n",
    "    df['item_idx'] = df['ItemId'].map(lambda x: id2idx.get(x, -1))  # id2idx에 없는 아이템은 모르는 값(-1) 처리 해줍니다.\n",
    "    return df\n",
    "\n",
    "train_df = indexing(train_df, id2idx)\n",
    "val_df = indexing(val_df, id2idx)\n",
    "test_df = indexing(test_df, id2idx)"
   ]
  },
  {
   "cell_type": "code",
   "execution_count": 388,
   "id": "188383bc-1a7c-4214-9396-5acf8abe696f",
   "metadata": {},
   "outputs": [],
   "source": [
    "data_path = Path('data')\n",
    "save_path = data_path / 'processed'\n",
    "save_path.mkdir(parents=True, exist_ok=True)\n",
    "\n",
    "train_df.to_pickle(save_path / 'train.pkl')\n",
    "val_df.to_pickle(save_path / 'valid.pkl')\n",
    "test_df.to_pickle(save_path / 'test.pkl')"
   ]
  },
  {
   "cell_type": "markdown",
   "id": "7668b61b-2be9-4aa9-9e9a-3725ecaad9df",
   "metadata": {},
   "source": [
    "* Train/Valid/Test Dataset을 만들어 줬다."
   ]
  },
  {
   "cell_type": "code",
   "execution_count": null,
   "id": "9a05c77e-e815-4d72-8cae-1af969176683",
   "metadata": {},
   "outputs": [],
   "source": []
  },
  {
   "cell_type": "markdown",
   "id": "4fd4a1ec-3ed2-460a-b866-6f197eea9a5b",
   "metadata": {
    "tags": []
   },
   "source": [
    "# 미니 배치의 구성\n",
    "---"
   ]
  },
  {
   "cell_type": "markdown",
   "id": "fa7638cd-3cd9-4a75-953a-92a9b7f1b6f1",
   "metadata": {},
   "source": [
    "## SessionDataset"
   ]
  },
  {
   "cell_type": "code",
   "execution_count": 389,
   "id": "746cfda5-2e75-44ec-88bf-eab0f369efb5",
   "metadata": {},
   "outputs": [],
   "source": [
    "class SessionDataset:\n",
    "    \"\"\"Credit to yhs-968/pyGRU4REC.\"\"\"\n",
    "\n",
    "    def __init__(self, data):\n",
    "        self.df = data\n",
    "        self.click_offsets = self.get_click_offsets()\n",
    "        self.session_idx = np.arange(self.df['SessionId'].nunique())  # indexing to SessionId\n",
    "\n",
    "    def get_click_offsets(self):\n",
    "        \"\"\"\n",
    "        Return the indexes of the first click of each session IDs,\n",
    "        \"\"\"\n",
    "        offsets = np.zeros(self.df['SessionId'].nunique() + 1, dtype=np.int32)\n",
    "        offsets[1:] = self.df.groupby('SessionId').size().cumsum()\n",
    "        return offsets"
   ]
  },
  {
   "cell_type": "code",
   "execution_count": 390,
   "id": "afdc5df0-1e3e-4be2-8d15-28d4a4448344",
   "metadata": {},
   "outputs": [
    {
     "data": {
      "text/html": [
       "<div>\n",
       "<style scoped>\n",
       "    .dataframe tbody tr th:only-of-type {\n",
       "        vertical-align: middle;\n",
       "    }\n",
       "\n",
       "    .dataframe tbody tr th {\n",
       "        vertical-align: top;\n",
       "    }\n",
       "\n",
       "    .dataframe thead th {\n",
       "        text-align: right;\n",
       "    }\n",
       "</style>\n",
       "<table border=\"1\" class=\"dataframe\">\n",
       "  <thead>\n",
       "    <tr style=\"text-align: right;\">\n",
       "      <th></th>\n",
       "      <th>UserId</th>\n",
       "      <th>ItemId</th>\n",
       "      <th>Rating</th>\n",
       "      <th>Time</th>\n",
       "      <th>SessionId</th>\n",
       "      <th>item_idx</th>\n",
       "    </tr>\n",
       "  </thead>\n",
       "  <tbody>\n",
       "    <tr>\n",
       "      <th>2513</th>\n",
       "      <td>20</td>\n",
       "      <td>3717</td>\n",
       "      <td>2</td>\n",
       "      <td>2001-12-30 08:37:51</td>\n",
       "      <td>2</td>\n",
       "      <td>0</td>\n",
       "    </tr>\n",
       "    <tr>\n",
       "      <th>2517</th>\n",
       "      <td>20</td>\n",
       "      <td>2858</td>\n",
       "      <td>4</td>\n",
       "      <td>2001-12-30 08:37:51</td>\n",
       "      <td>2</td>\n",
       "      <td>1</td>\n",
       "    </tr>\n",
       "    <tr>\n",
       "      <th>2504</th>\n",
       "      <td>20</td>\n",
       "      <td>2641</td>\n",
       "      <td>4</td>\n",
       "      <td>2001-12-30 08:38:35</td>\n",
       "      <td>2</td>\n",
       "      <td>2</td>\n",
       "    </tr>\n",
       "    <tr>\n",
       "      <th>2510</th>\n",
       "      <td>20</td>\n",
       "      <td>1375</td>\n",
       "      <td>3</td>\n",
       "      <td>2001-12-30 08:38:35</td>\n",
       "      <td>2</td>\n",
       "      <td>3</td>\n",
       "    </tr>\n",
       "    <tr>\n",
       "      <th>2520</th>\n",
       "      <td>20</td>\n",
       "      <td>3753</td>\n",
       "      <td>5</td>\n",
       "      <td>2001-12-30 08:38:36</td>\n",
       "      <td>2</td>\n",
       "      <td>4</td>\n",
       "    </tr>\n",
       "    <tr>\n",
       "      <th>2511</th>\n",
       "      <td>20</td>\n",
       "      <td>1527</td>\n",
       "      <td>5</td>\n",
       "      <td>2001-12-30 08:39:41</td>\n",
       "      <td>2</td>\n",
       "      <td>5</td>\n",
       "    </tr>\n",
       "    <tr>\n",
       "      <th>2523</th>\n",
       "      <td>20</td>\n",
       "      <td>1240</td>\n",
       "      <td>4</td>\n",
       "      <td>2001-12-30 08:39:41</td>\n",
       "      <td>2</td>\n",
       "      <td>6</td>\n",
       "    </tr>\n",
       "    <tr>\n",
       "      <th>2509</th>\n",
       "      <td>20</td>\n",
       "      <td>1371</td>\n",
       "      <td>4</td>\n",
       "      <td>2001-12-30 08:40:27</td>\n",
       "      <td>2</td>\n",
       "      <td>7</td>\n",
       "    </tr>\n",
       "    <tr>\n",
       "      <th>2671</th>\n",
       "      <td>22</td>\n",
       "      <td>1884</td>\n",
       "      <td>4</td>\n",
       "      <td>2001-05-30 00:10:55</td>\n",
       "      <td>2</td>\n",
       "      <td>8</td>\n",
       "    </tr>\n",
       "    <tr>\n",
       "      <th>2776</th>\n",
       "      <td>22</td>\n",
       "      <td>2376</td>\n",
       "      <td>3</td>\n",
       "      <td>2001-05-30 00:12:20</td>\n",
       "      <td>3</td>\n",
       "      <td>9</td>\n",
       "    </tr>\n",
       "  </tbody>\n",
       "</table>\n",
       "</div>"
      ],
      "text/plain": [
       "      UserId  ItemId  Rating                 Time  SessionId  item_idx\n",
       "2513      20    3717       2  2001-12-30 08:37:51          2         0\n",
       "2517      20    2858       4  2001-12-30 08:37:51          2         1\n",
       "2504      20    2641       4  2001-12-30 08:38:35          2         2\n",
       "2510      20    1375       3  2001-12-30 08:38:35          2         3\n",
       "2520      20    3753       5  2001-12-30 08:38:36          2         4\n",
       "2511      20    1527       5  2001-12-30 08:39:41          2         5\n",
       "2523      20    1240       4  2001-12-30 08:39:41          2         6\n",
       "2509      20    1371       4  2001-12-30 08:40:27          2         7\n",
       "2671      22    1884       4  2001-05-30 00:10:55          2         8\n",
       "2776      22    2376       3  2001-05-30 00:12:20          3         9"
      ]
     },
     "execution_count": 390,
     "metadata": {},
     "output_type": "execute_result"
    }
   ],
   "source": [
    "tr_dataset = SessionDataset(train_df)\n",
    "tr_dataset.df.head(10)"
   ]
  },
  {
   "cell_type": "code",
   "execution_count": 391,
   "id": "f26465c9-935e-4c01-906b-a48e8f9e4615",
   "metadata": {},
   "outputs": [
    {
     "data": {
      "text/plain": [
       "array([    0,     9,    19, ..., 39633, 39639, 39658])"
      ]
     },
     "execution_count": 391,
     "metadata": {},
     "output_type": "execute_result"
    }
   ],
   "source": [
    "tr_dataset.click_offsets"
   ]
  },
  {
   "cell_type": "code",
   "execution_count": 392,
   "id": "c27f7082-9c99-461f-9c5f-20bb6bb94953",
   "metadata": {},
   "outputs": [
    {
     "data": {
      "text/plain": [
       "array([   0,    1,    2, ..., 2429, 2430, 2431])"
      ]
     },
     "execution_count": 392,
     "metadata": {},
     "output_type": "execute_result"
    }
   ],
   "source": [
    "tr_dataset.session_idx"
   ]
  },
  {
   "cell_type": "markdown",
   "id": "0d8893ac-5e6a-4527-b473-c44f86efb9fb",
   "metadata": {},
   "source": [
    "## SessionDataLoader"
   ]
  },
  {
   "cell_type": "code",
   "execution_count": 393,
   "id": "12d10512-f89c-400c-9faa-4c81b4eeb4b8",
   "metadata": {},
   "outputs": [],
   "source": [
    "class SessionDataLoader:\n",
    "    \"\"\"Credit to yhs-968/pyGRU4REC.\"\"\"\n",
    "\n",
    "    def __init__(self, dataset: SessionDataset, batch_size=50):\n",
    "        self.dataset = dataset\n",
    "        self.batch_size = batch_size\n",
    "\n",
    "    def __iter__(self):\n",
    "        \"\"\" Returns the iterator for producing session-parallel training mini-batches.\n",
    "        Yields:\n",
    "            input (B,):  Item indices that will be encoded as one-hot vectors later.\n",
    "            target (B,): a Variable that stores the target item indices\n",
    "            masks: Numpy array indicating the positions of the sessions to be terminated\n",
    "        \"\"\"\n",
    "\n",
    "        start, end, mask, last_session, finished = self.initialize()  # initialize 메소드에서 확인해주세요.\n",
    "        \"\"\"\n",
    "        start : Index Where Session Start\n",
    "        end : Index Where Session End\n",
    "        mask : indicator for the sessions to be terminated\n",
    "        \"\"\"\n",
    "\n",
    "        while not finished:\n",
    "            min_len = (end - start).min() - 1  # Shortest Length Among Sessions\n",
    "            for i in range(min_len):\n",
    "                # Build inputs & targets\n",
    "                inp = self.dataset.df['item_idx'].values[start + i]\n",
    "                target = self.dataset.df['item_idx'].values[start + i + 1]\n",
    "                yield inp, target, mask\n",
    "\n",
    "            start, end, mask, last_session, finished = self.update_status(start, end, min_len, last_session, finished)\n",
    "\n",
    "    def initialize(self):\n",
    "        first_iters = np.arange(self.batch_size)    # 첫 배치에 사용할 세션 Index를 가져옵니다.\n",
    "        last_session = self.batch_size - 1    # 마지막으로 다루고 있는 세션 Index를 저장해둡니다.\n",
    "        start = self.dataset.click_offsets[self.dataset.session_idx[first_iters]]       # data 상에서 session이 시작된 위치를 가져옵니다.\n",
    "        end = self.dataset.click_offsets[self.dataset.session_idx[first_iters] + 1]  # session이 끝난 위치 바로 다음 위치를 가져옵니다.\n",
    "        mask = np.array([])   # session의 모든 아이템을 다 돌은 경우 mask에 추가해줄 것입니다.\n",
    "        finished = False         # data를 전부 돌았는지 기록하기 위한 변수입니다.\n",
    "        return start, end, mask, last_session, finished\n",
    "\n",
    "    def update_status(self, start: np.ndarray, end: np.ndarray, min_len: int, last_session: int, finished: bool):  \n",
    "        # 다음 배치 데이터를 생성하기 위해 상태를 update합니다.\n",
    "        \n",
    "        start += min_len   # __iter__에서 min_len 만큼 for문을 돌았으므로 start를 min_len 만큼 더해줍니다.\n",
    "        mask = np.arange(self.batch_size)[(end - start) == 1]  \n",
    "        # end는 다음 세션이 시작되는 위치인데 start와 한 칸 차이난다는 것은 session이 끝났다는 뜻입니다. mask에 기록해줍니다.\n",
    "\n",
    "        for i, idx in enumerate(mask, start=1):  # mask에 추가된 세션 개수만큼 새로운 세션을 돌것입니다.\n",
    "            new_session = last_session + i  \n",
    "            if new_session > self.dataset.session_idx[-1]:  # 만약 새로운 세션이 마지막 세션 index보다 크다면 모든 학습데이터를 돈 것입니다.\n",
    "                finished = True\n",
    "                break\n",
    "            # update the next starting/ending point\n",
    "            start[idx] = self.dataset.click_offsets[self.dataset.session_idx[new_session]]     # 종료된 세션 대신 새로운 세션의 시작점을 기록합니다.\n",
    "            end[idx] = self.dataset.click_offsets[self.dataset.session_idx[new_session] + 1]\n",
    "\n",
    "        last_session += len(mask)  # 마지막 세션의 위치를 기록해둡니다.\n",
    "        return start, end, mask, last_session, finished"
   ]
  },
  {
   "cell_type": "code",
   "execution_count": 394,
   "id": "29639664-9130-4332-8296-6d7f3cfc4d00",
   "metadata": {},
   "outputs": [
    {
     "data": {
      "text/html": [
       "<div>\n",
       "<style scoped>\n",
       "    .dataframe tbody tr th:only-of-type {\n",
       "        vertical-align: middle;\n",
       "    }\n",
       "\n",
       "    .dataframe tbody tr th {\n",
       "        vertical-align: top;\n",
       "    }\n",
       "\n",
       "    .dataframe thead th {\n",
       "        text-align: right;\n",
       "    }\n",
       "</style>\n",
       "<table border=\"1\" class=\"dataframe\">\n",
       "  <thead>\n",
       "    <tr style=\"text-align: right;\">\n",
       "      <th></th>\n",
       "      <th>UserId</th>\n",
       "      <th>ItemId</th>\n",
       "      <th>Rating</th>\n",
       "      <th>Time</th>\n",
       "      <th>SessionId</th>\n",
       "      <th>item_idx</th>\n",
       "    </tr>\n",
       "  </thead>\n",
       "  <tbody>\n",
       "    <tr>\n",
       "      <th>2513</th>\n",
       "      <td>20</td>\n",
       "      <td>3717</td>\n",
       "      <td>2</td>\n",
       "      <td>2001-12-30 08:37:51</td>\n",
       "      <td>2</td>\n",
       "      <td>0</td>\n",
       "    </tr>\n",
       "    <tr>\n",
       "      <th>2517</th>\n",
       "      <td>20</td>\n",
       "      <td>2858</td>\n",
       "      <td>4</td>\n",
       "      <td>2001-12-30 08:37:51</td>\n",
       "      <td>2</td>\n",
       "      <td>1</td>\n",
       "    </tr>\n",
       "    <tr>\n",
       "      <th>2504</th>\n",
       "      <td>20</td>\n",
       "      <td>2641</td>\n",
       "      <td>4</td>\n",
       "      <td>2001-12-30 08:38:35</td>\n",
       "      <td>2</td>\n",
       "      <td>2</td>\n",
       "    </tr>\n",
       "    <tr>\n",
       "      <th>2510</th>\n",
       "      <td>20</td>\n",
       "      <td>1375</td>\n",
       "      <td>3</td>\n",
       "      <td>2001-12-30 08:38:35</td>\n",
       "      <td>2</td>\n",
       "      <td>3</td>\n",
       "    </tr>\n",
       "    <tr>\n",
       "      <th>2520</th>\n",
       "      <td>20</td>\n",
       "      <td>3753</td>\n",
       "      <td>5</td>\n",
       "      <td>2001-12-30 08:38:36</td>\n",
       "      <td>2</td>\n",
       "      <td>4</td>\n",
       "    </tr>\n",
       "    <tr>\n",
       "      <th>2511</th>\n",
       "      <td>20</td>\n",
       "      <td>1527</td>\n",
       "      <td>5</td>\n",
       "      <td>2001-12-30 08:39:41</td>\n",
       "      <td>2</td>\n",
       "      <td>5</td>\n",
       "    </tr>\n",
       "    <tr>\n",
       "      <th>2523</th>\n",
       "      <td>20</td>\n",
       "      <td>1240</td>\n",
       "      <td>4</td>\n",
       "      <td>2001-12-30 08:39:41</td>\n",
       "      <td>2</td>\n",
       "      <td>6</td>\n",
       "    </tr>\n",
       "    <tr>\n",
       "      <th>2509</th>\n",
       "      <td>20</td>\n",
       "      <td>1371</td>\n",
       "      <td>4</td>\n",
       "      <td>2001-12-30 08:40:27</td>\n",
       "      <td>2</td>\n",
       "      <td>7</td>\n",
       "    </tr>\n",
       "    <tr>\n",
       "      <th>2671</th>\n",
       "      <td>22</td>\n",
       "      <td>1884</td>\n",
       "      <td>4</td>\n",
       "      <td>2001-05-30 00:10:55</td>\n",
       "      <td>2</td>\n",
       "      <td>8</td>\n",
       "    </tr>\n",
       "    <tr>\n",
       "      <th>2776</th>\n",
       "      <td>22</td>\n",
       "      <td>2376</td>\n",
       "      <td>3</td>\n",
       "      <td>2001-05-30 00:12:20</td>\n",
       "      <td>3</td>\n",
       "      <td>9</td>\n",
       "    </tr>\n",
       "    <tr>\n",
       "      <th>2827</th>\n",
       "      <td>22</td>\n",
       "      <td>1097</td>\n",
       "      <td>3</td>\n",
       "      <td>2001-05-30 00:14:49</td>\n",
       "      <td>3</td>\n",
       "      <td>10</td>\n",
       "    </tr>\n",
       "    <tr>\n",
       "      <th>2839</th>\n",
       "      <td>22</td>\n",
       "      <td>2046</td>\n",
       "      <td>4</td>\n",
       "      <td>2001-05-30 00:15:06</td>\n",
       "      <td>3</td>\n",
       "      <td>11</td>\n",
       "    </tr>\n",
       "    <tr>\n",
       "      <th>2610</th>\n",
       "      <td>22</td>\n",
       "      <td>3527</td>\n",
       "      <td>4</td>\n",
       "      <td>2001-05-30 00:15:20</td>\n",
       "      <td>3</td>\n",
       "      <td>12</td>\n",
       "    </tr>\n",
       "    <tr>\n",
       "      <th>2778</th>\n",
       "      <td>22</td>\n",
       "      <td>2011</td>\n",
       "      <td>4</td>\n",
       "      <td>2001-05-30 00:15:52</td>\n",
       "      <td>3</td>\n",
       "      <td>13</td>\n",
       "    </tr>\n",
       "    <tr>\n",
       "      <th>2809</th>\n",
       "      <td>22</td>\n",
       "      <td>3698</td>\n",
       "      <td>4</td>\n",
       "      <td>2001-05-30 00:15:52</td>\n",
       "      <td>3</td>\n",
       "      <td>14</td>\n",
       "    </tr>\n",
       "  </tbody>\n",
       "</table>\n",
       "</div>"
      ],
      "text/plain": [
       "      UserId  ItemId  Rating                 Time  SessionId  item_idx\n",
       "2513      20    3717       2  2001-12-30 08:37:51          2         0\n",
       "2517      20    2858       4  2001-12-30 08:37:51          2         1\n",
       "2504      20    2641       4  2001-12-30 08:38:35          2         2\n",
       "2510      20    1375       3  2001-12-30 08:38:35          2         3\n",
       "2520      20    3753       5  2001-12-30 08:38:36          2         4\n",
       "2511      20    1527       5  2001-12-30 08:39:41          2         5\n",
       "2523      20    1240       4  2001-12-30 08:39:41          2         6\n",
       "2509      20    1371       4  2001-12-30 08:40:27          2         7\n",
       "2671      22    1884       4  2001-05-30 00:10:55          2         8\n",
       "2776      22    2376       3  2001-05-30 00:12:20          3         9\n",
       "2827      22    1097       3  2001-05-30 00:14:49          3        10\n",
       "2839      22    2046       4  2001-05-30 00:15:06          3        11\n",
       "2610      22    3527       4  2001-05-30 00:15:20          3        12\n",
       "2778      22    2011       4  2001-05-30 00:15:52          3        13\n",
       "2809      22    3698       4  2001-05-30 00:15:52          3        14"
      ]
     },
     "execution_count": 394,
     "metadata": {},
     "output_type": "execute_result"
    }
   ],
   "source": [
    "tr_data_loader = SessionDataLoader(tr_dataset, batch_size=4)\n",
    "tr_dataset.df.head(15)"
   ]
  },
  {
   "cell_type": "code",
   "execution_count": 395,
   "id": "fc5eb3fd-7fff-45b3-814d-008ff8d4ec48",
   "metadata": {},
   "outputs": [
    {
     "data": {
      "text/html": [
       "<div>\n",
       "<style scoped>\n",
       "    .dataframe tbody tr th:only-of-type {\n",
       "        vertical-align: middle;\n",
       "    }\n",
       "\n",
       "    .dataframe tbody tr th {\n",
       "        vertical-align: top;\n",
       "    }\n",
       "\n",
       "    .dataframe thead th {\n",
       "        text-align: right;\n",
       "    }\n",
       "</style>\n",
       "<table border=\"1\" class=\"dataframe\">\n",
       "  <thead>\n",
       "    <tr style=\"text-align: right;\">\n",
       "      <th></th>\n",
       "      <th>UserId</th>\n",
       "      <th>ItemId</th>\n",
       "      <th>Rating</th>\n",
       "      <th>Time</th>\n",
       "      <th>SessionId</th>\n",
       "      <th>item_idx</th>\n",
       "    </tr>\n",
       "  </thead>\n",
       "  <tbody>\n",
       "    <tr>\n",
       "      <th>2513</th>\n",
       "      <td>20</td>\n",
       "      <td>3717</td>\n",
       "      <td>2</td>\n",
       "      <td>2001-12-30 08:37:51</td>\n",
       "      <td>2</td>\n",
       "      <td>0</td>\n",
       "    </tr>\n",
       "    <tr>\n",
       "      <th>2517</th>\n",
       "      <td>20</td>\n",
       "      <td>2858</td>\n",
       "      <td>4</td>\n",
       "      <td>2001-12-30 08:37:51</td>\n",
       "      <td>2</td>\n",
       "      <td>1</td>\n",
       "    </tr>\n",
       "    <tr>\n",
       "      <th>2504</th>\n",
       "      <td>20</td>\n",
       "      <td>2641</td>\n",
       "      <td>4</td>\n",
       "      <td>2001-12-30 08:38:35</td>\n",
       "      <td>2</td>\n",
       "      <td>2</td>\n",
       "    </tr>\n",
       "    <tr>\n",
       "      <th>2510</th>\n",
       "      <td>20</td>\n",
       "      <td>1375</td>\n",
       "      <td>3</td>\n",
       "      <td>2001-12-30 08:38:35</td>\n",
       "      <td>2</td>\n",
       "      <td>3</td>\n",
       "    </tr>\n",
       "    <tr>\n",
       "      <th>2520</th>\n",
       "      <td>20</td>\n",
       "      <td>3753</td>\n",
       "      <td>5</td>\n",
       "      <td>2001-12-30 08:38:36</td>\n",
       "      <td>2</td>\n",
       "      <td>4</td>\n",
       "    </tr>\n",
       "    <tr>\n",
       "      <th>2511</th>\n",
       "      <td>20</td>\n",
       "      <td>1527</td>\n",
       "      <td>5</td>\n",
       "      <td>2001-12-30 08:39:41</td>\n",
       "      <td>2</td>\n",
       "      <td>5</td>\n",
       "    </tr>\n",
       "    <tr>\n",
       "      <th>2523</th>\n",
       "      <td>20</td>\n",
       "      <td>1240</td>\n",
       "      <td>4</td>\n",
       "      <td>2001-12-30 08:39:41</td>\n",
       "      <td>2</td>\n",
       "      <td>6</td>\n",
       "    </tr>\n",
       "    <tr>\n",
       "      <th>2509</th>\n",
       "      <td>20</td>\n",
       "      <td>1371</td>\n",
       "      <td>4</td>\n",
       "      <td>2001-12-30 08:40:27</td>\n",
       "      <td>2</td>\n",
       "      <td>7</td>\n",
       "    </tr>\n",
       "    <tr>\n",
       "      <th>2671</th>\n",
       "      <td>22</td>\n",
       "      <td>1884</td>\n",
       "      <td>4</td>\n",
       "      <td>2001-05-30 00:10:55</td>\n",
       "      <td>2</td>\n",
       "      <td>8</td>\n",
       "    </tr>\n",
       "    <tr>\n",
       "      <th>2776</th>\n",
       "      <td>22</td>\n",
       "      <td>2376</td>\n",
       "      <td>3</td>\n",
       "      <td>2001-05-30 00:12:20</td>\n",
       "      <td>3</td>\n",
       "      <td>9</td>\n",
       "    </tr>\n",
       "    <tr>\n",
       "      <th>2827</th>\n",
       "      <td>22</td>\n",
       "      <td>1097</td>\n",
       "      <td>3</td>\n",
       "      <td>2001-05-30 00:14:49</td>\n",
       "      <td>3</td>\n",
       "      <td>10</td>\n",
       "    </tr>\n",
       "    <tr>\n",
       "      <th>2839</th>\n",
       "      <td>22</td>\n",
       "      <td>2046</td>\n",
       "      <td>4</td>\n",
       "      <td>2001-05-30 00:15:06</td>\n",
       "      <td>3</td>\n",
       "      <td>11</td>\n",
       "    </tr>\n",
       "    <tr>\n",
       "      <th>2610</th>\n",
       "      <td>22</td>\n",
       "      <td>3527</td>\n",
       "      <td>4</td>\n",
       "      <td>2001-05-30 00:15:20</td>\n",
       "      <td>3</td>\n",
       "      <td>12</td>\n",
       "    </tr>\n",
       "    <tr>\n",
       "      <th>2778</th>\n",
       "      <td>22</td>\n",
       "      <td>2011</td>\n",
       "      <td>4</td>\n",
       "      <td>2001-05-30 00:15:52</td>\n",
       "      <td>3</td>\n",
       "      <td>13</td>\n",
       "    </tr>\n",
       "    <tr>\n",
       "      <th>2809</th>\n",
       "      <td>22</td>\n",
       "      <td>3698</td>\n",
       "      <td>4</td>\n",
       "      <td>2001-05-30 00:15:52</td>\n",
       "      <td>3</td>\n",
       "      <td>14</td>\n",
       "    </tr>\n",
       "  </tbody>\n",
       "</table>\n",
       "</div>"
      ],
      "text/plain": [
       "      UserId  ItemId  Rating                 Time  SessionId  item_idx\n",
       "2513      20    3717       2  2001-12-30 08:37:51          2         0\n",
       "2517      20    2858       4  2001-12-30 08:37:51          2         1\n",
       "2504      20    2641       4  2001-12-30 08:38:35          2         2\n",
       "2510      20    1375       3  2001-12-30 08:38:35          2         3\n",
       "2520      20    3753       5  2001-12-30 08:38:36          2         4\n",
       "2511      20    1527       5  2001-12-30 08:39:41          2         5\n",
       "2523      20    1240       4  2001-12-30 08:39:41          2         6\n",
       "2509      20    1371       4  2001-12-30 08:40:27          2         7\n",
       "2671      22    1884       4  2001-05-30 00:10:55          2         8\n",
       "2776      22    2376       3  2001-05-30 00:12:20          3         9\n",
       "2827      22    1097       3  2001-05-30 00:14:49          3        10\n",
       "2839      22    2046       4  2001-05-30 00:15:06          3        11\n",
       "2610      22    3527       4  2001-05-30 00:15:20          3        12\n",
       "2778      22    2011       4  2001-05-30 00:15:52          3        13\n",
       "2809      22    3698       4  2001-05-30 00:15:52          3        14"
      ]
     },
     "execution_count": 395,
     "metadata": {},
     "output_type": "execute_result"
    }
   ],
   "source": [
    "tr_data_loader = SessionDataLoader(tr_dataset, batch_size=4)\n",
    "tr_dataset.df.head(15)"
   ]
  },
  {
   "cell_type": "code",
   "execution_count": 396,
   "id": "2bf61cbc-682e-4387-bd81-adaadf2eb35c",
   "metadata": {},
   "outputs": [],
   "source": [
    "iter_ex = iter(tr_data_loader)"
   ]
  },
  {
   "cell_type": "code",
   "execution_count": 397,
   "id": "20814b9c-6ba6-4d0b-ad62-87538ca43165",
   "metadata": {},
   "outputs": [
    {
     "name": "stdout",
     "output_type": "stream",
     "text": [
      "Model Input Item Idx are : [ 0  9 19 40]\n",
      "Label Item Idx are :       [ 1 10 20 41]\n",
      "Previous Masked Input Idx are []\n"
     ]
    }
   ],
   "source": [
    "inputs, labels, mask =  next(iter_ex)\n",
    "print(f'Model Input Item Idx are : {inputs}')\n",
    "print(f'Label Item Idx are : {\"\":5} {labels}')\n",
    "print(f'Previous Masked Input Idx are {mask}')"
   ]
  },
  {
   "cell_type": "markdown",
   "id": "be397553-7689-45fc-978b-fc3f53c74ba8",
   "metadata": {
    "tags": []
   },
   "source": [
    "# 모델 구성\n",
    "---"
   ]
  },
  {
   "cell_type": "markdown",
   "id": "5681dfee-8fd5-4da9-b85f-13758c94198a",
   "metadata": {
    "tags": []
   },
   "source": [
    "## Evaluation Metric"
   ]
  },
  {
   "cell_type": "code",
   "execution_count": 398,
   "id": "b4341964-ba66-41d0-8453-3976a67d4013",
   "metadata": {},
   "outputs": [],
   "source": [
    "def mrr_k(pred, truth: int, k: int):\n",
    "    indexing = np.where(pred[:k] == truth)[0]\n",
    "    if len(indexing) > 0:\n",
    "        return 1 / (indexing[0] + 1)\n",
    "    else:\n",
    "        return 0\n",
    "\n",
    "\n",
    "def recall_k(pred, truth: int, k: int) -> int:\n",
    "    answer = truth in pred[:k]\n",
    "    return int(answer)"
   ]
  },
  {
   "cell_type": "markdown",
   "id": "d1664919-cce6-4a0d-984e-97c275d7a00d",
   "metadata": {},
   "source": [
    "## Model Architecture"
   ]
  },
  {
   "cell_type": "code",
   "execution_count": 399,
   "id": "d6a3f090-08e5-4ec6-a046-ad99c02c1d6a",
   "metadata": {},
   "outputs": [],
   "source": [
    "import numpy as np\n",
    "import tensorflow as tf\n",
    "from tensorflow.keras.layers import Input, Dense, Dropout, GRU\n",
    "from tensorflow.keras.losses import categorical_crossentropy\n",
    "from tensorflow.keras.models import Model\n",
    "from tensorflow.keras.optimizers import Adam\n",
    "from tensorflow.keras.utils import to_categorical\n",
    "from tqdm import tqdm"
   ]
  },
  {
   "cell_type": "code",
   "execution_count": 400,
   "id": "fd6b24ea-2f3c-4e84-89e9-363f043c6bd2",
   "metadata": {},
   "outputs": [],
   "source": [
    "def create_model(args):\n",
    "    inputs = Input(batch_shape=(args.batch_size, 1, args.num_items))\n",
    "    gru, _ = GRU(args.hsz, stateful=True, return_state=True, name='GRU')(inputs)\n",
    "    dropout = Dropout(args.drop_rate)(gru)\n",
    "    predictions = Dense(args.num_items, activation='softmax')(dropout)\n",
    "    model = Model(inputs=inputs, outputs=[predictions])\n",
    "    model.compile(loss=categorical_crossentropy, optimizer=Adam(args.lr), metrics=['accuracy'])\n",
    "    model.summary()\n",
    "    return model"
   ]
  },
  {
   "cell_type": "code",
   "execution_count": 401,
   "id": "e6866bd3-7a71-40f4-ba8d-271a1683e918",
   "metadata": {},
   "outputs": [],
   "source": [
    "class Args:\n",
    "    def __init__(self, tr, val, test, batch_size, hsz, drop_rate, lr, epochs, k):\n",
    "        self.tr = tr\n",
    "        self.val = val\n",
    "        self.test = test\n",
    "        self.num_items = tr['ItemId'].nunique()\n",
    "        self.num_sessions = tr['SessionId'].nunique()\n",
    "        self.batch_size = batch_size\n",
    "        self.hsz = hsz\n",
    "        self.drop_rate = drop_rate\n",
    "        self.lr = lr\n",
    "        self.epochs = epochs\n",
    "        self.k = k\n",
    "\n",
    "args = Args(train_df, val_df, test_df, batch_size=32, hsz=50, drop_rate=0.1, lr=0.001, epochs=10, k=20)"
   ]
  },
  {
   "cell_type": "code",
   "execution_count": 402,
   "id": "f120f908-d8e6-459a-8d6a-ff95ab5e7b64",
   "metadata": {},
   "outputs": [
    {
     "name": "stdout",
     "output_type": "stream",
     "text": [
      "Model: \"functional_5\"\n",
      "_________________________________________________________________\n",
      "Layer (type)                 Output Shape              Param #   \n",
      "=================================================================\n",
      "input_3 (InputLayer)         [(32, 1, 1075)]           0         \n",
      "_________________________________________________________________\n",
      "GRU (GRU)                    [(32, 50), (32, 50)]      169050    \n",
      "_________________________________________________________________\n",
      "dropout_2 (Dropout)          (32, 50)                  0         \n",
      "_________________________________________________________________\n",
      "dense_2 (Dense)              (32, 1075)                54825     \n",
      "=================================================================\n",
      "Total params: 223,875\n",
      "Trainable params: 223,875\n",
      "Non-trainable params: 0\n",
      "_________________________________________________________________\n"
     ]
    }
   ],
   "source": [
    "model = create_model(args)"
   ]
  },
  {
   "cell_type": "markdown",
   "id": "2215b00f-d5bf-48dd-9d05-6ad033f6fa88",
   "metadata": {},
   "source": [
    "# 모델 학습\n",
    "---"
   ]
  },
  {
   "cell_type": "code",
   "execution_count": 403,
   "id": "7c5c4498-d4ec-4501-bcd0-656c4024cda7",
   "metadata": {},
   "outputs": [],
   "source": [
    "# train 셋으로 학습하면서 valid 셋으로 검증합니다.\n",
    "def train_model(model, args):\n",
    "    train_dataset = SessionDataset(args.tr)\n",
    "    train_loader = SessionDataLoader(train_dataset, batch_size=args.batch_size)\n",
    "\n",
    "    for epoch in range(1, args.epochs + 1):\n",
    "        total_step = len(args.tr) - args.tr['SessionId'].nunique()\n",
    "        tr_loader = tqdm(train_loader, total=total_step // args.batch_size, desc='Train', mininterval=1)\n",
    "        for feat, target, mask in tr_loader:\n",
    "            reset_hidden_states(model, mask)  # 종료된 session은 hidden_state를 초기화합니다. 아래 메서드에서 확인해주세요.\n",
    "\n",
    "            input_ohe = to_categorical(feat, num_classes=args.num_items)\n",
    "            input_ohe = np.expand_dims(input_ohe, axis=1)\n",
    "            target_ohe = to_categorical(target, num_classes=args.num_items)\n",
    "\n",
    "            result = model.train_on_batch(input_ohe, target_ohe)\n",
    "            tr_loader.set_postfix(train_loss=result[0], accuracy = result[1])\n",
    "\n",
    "        val_recall, val_mrr = get_metrics(args.val, model, args, args.k)  # valid set에 대해 검증합니다.\n",
    "\n",
    "        print(f\"\\t - Recall@{args.k} epoch {epoch}: {val_recall:3f}\")\n",
    "        print(f\"\\t - MRR@{args.k}    epoch {epoch}: {val_mrr:3f}\\n\")\n",
    "\n",
    "\n",
    "def reset_hidden_states(model, mask):\n",
    "    gru_layer = model.get_layer(name='GRU')  # model에서 gru layer를 가져옵니다.\n",
    "    hidden_states = gru_layer.states[0].numpy()  # gru_layer의 parameter를 가져옵니다.\n",
    "    for elt in mask:  # mask된 인덱스 즉, 종료된 세션의 인덱스를 돌면서\n",
    "        hidden_states[elt, :] = 0  # parameter를 초기화 합니다.\n",
    "    gru_layer.reset_states(states=hidden_states)\n",
    "\n",
    "\n",
    "def get_metrics(data, model, args, k: int):  # valid셋과 test셋을 평가하는 코드입니다. \n",
    "                                             # train과 거의 같지만 mrr, recall을 구하는 라인이 있습니다.\n",
    "    dataset = SessionDataset(data)\n",
    "    loader = SessionDataLoader(dataset, batch_size=args.batch_size)\n",
    "    recall_list, mrr_list = [], []\n",
    "\n",
    "    total_step = len(data) - data['SessionId'].nunique()\n",
    "    for inputs, label, mask in tqdm(loader, total=total_step // args.batch_size, desc='Evaluation', mininterval=1):\n",
    "        reset_hidden_states(model, mask)\n",
    "        input_ohe = to_categorical(inputs, num_classes=args.num_items)\n",
    "        input_ohe = np.expand_dims(input_ohe, axis=1)\n",
    "\n",
    "        pred = model.predict(input_ohe, batch_size=args.batch_size)\n",
    "        pred_arg = tf.argsort(pred, direction='DESCENDING')  # softmax 값이 큰 순서대로 sorting 합니다.\n",
    "\n",
    "        length = len(inputs)\n",
    "        recall_list.extend([recall_k(pred_arg[i], label[i], k) for i in range(length)])\n",
    "        mrr_list.extend([mrr_k(pred_arg[i], label[i], k) for i in range(length)])\n",
    "\n",
    "    recall, mrr = np.mean(recall_list), np.mean(mrr_list)\n",
    "    return recall, mrr"
   ]
  },
  {
   "cell_type": "code",
   "execution_count": 404,
   "id": "0f22f6c6-edec-4b98-9cdc-94ccc9892419",
   "metadata": {},
   "outputs": [
    {
     "name": "stderr",
     "output_type": "stream",
     "text": [
      "Train:  98%|█████████████████████████████████████████ | 1136/1163 [00:14<00:00, 79.97it/s, accuracy=0, train_loss=6.95]\n",
      "Evaluation:  70%|█████████████████████████████████████████████████                     | 68/97 [00:11<00:04,  6.05it/s]\n"
     ]
    },
    {
     "name": "stdout",
     "output_type": "stream",
     "text": [
      "\t - Recall@20 epoch 1: 0.045496\n",
      "\t - MRR@20    epoch 1: 0.009436\n",
      "\n"
     ]
    },
    {
     "name": "stderr",
     "output_type": "stream",
     "text": [
      "Train:  98%|█████████████████████████████████████████ | 1136/1163 [00:12<00:00, 91.95it/s, accuracy=0, train_loss=6.73]\n",
      "Evaluation:  70%|█████████████████████████████████████████████████                     | 68/97 [00:11<00:04,  6.05it/s]\n"
     ]
    },
    {
     "name": "stdout",
     "output_type": "stream",
     "text": [
      "\t - Recall@20 epoch 2: 0.072610\n",
      "\t - MRR@20    epoch 2: 0.014484\n",
      "\n"
     ]
    },
    {
     "name": "stderr",
     "output_type": "stream",
     "text": [
      "Train:  98%|█████████████████████████████████████████ | 1136/1163 [00:18<00:00, 62.43it/s, accuracy=0, train_loss=6.55]\n",
      "Evaluation:  70%|█████████████████████████████████████████████████                     | 68/97 [00:16<00:06,  4.21it/s]\n"
     ]
    },
    {
     "name": "stdout",
     "output_type": "stream",
     "text": [
      "\t - Recall@20 epoch 3: 0.085938\n",
      "\t - MRR@20    epoch 3: 0.020980\n",
      "\n"
     ]
    },
    {
     "name": "stderr",
     "output_type": "stream",
     "text": [
      "Train:  98%|█████████████████████████████████████████ | 1136/1163 [00:14<00:00, 80.06it/s, accuracy=0, train_loss=6.39]\n",
      "Evaluation:  70%|█████████████████████████████████████████████████                     | 68/97 [00:19<00:08,  3.51it/s]\n"
     ]
    },
    {
     "name": "stdout",
     "output_type": "stream",
     "text": [
      "\t - Recall@20 epoch 4: 0.110294\n",
      "\t - MRR@20    epoch 4: 0.026313\n",
      "\n"
     ]
    },
    {
     "name": "stderr",
     "output_type": "stream",
     "text": [
      "Train:  98%|█████████████████████████████████████████ | 1136/1163 [00:15<00:00, 73.85it/s, accuracy=0, train_loss=6.24]\n",
      "Evaluation:  70%|█████████████████████████████████████████████████                     | 68/97 [00:13<00:05,  4.99it/s]\n"
     ]
    },
    {
     "name": "stdout",
     "output_type": "stream",
     "text": [
      "\t - Recall@20 epoch 5: 0.137868\n",
      "\t - MRR@20    epoch 5: 0.036046\n",
      "\n"
     ]
    },
    {
     "name": "stderr",
     "output_type": "stream",
     "text": [
      "Train:  98%|█████████████████████████████████████████ | 1136/1163 [00:18<00:00, 60.44it/s, accuracy=0, train_loss=6.06]\n",
      "Evaluation:  70%|█████████████████████████████████████████████████                     | 68/97 [00:12<00:05,  5.48it/s]\n"
     ]
    },
    {
     "name": "stdout",
     "output_type": "stream",
     "text": [
      "\t - Recall@20 epoch 6: 0.145221\n",
      "\t - MRR@20    epoch 6: 0.039359\n",
      "\n"
     ]
    },
    {
     "name": "stderr",
     "output_type": "stream",
     "text": [
      "Train:  98%|█████████████████████████████████████████ | 1136/1163 [00:12<00:00, 94.58it/s, accuracy=0, train_loss=5.94]\n",
      "Evaluation:  70%|█████████████████████████████████████████████████                     | 68/97 [00:11<00:04,  6.03it/s]\n"
     ]
    },
    {
     "name": "stdout",
     "output_type": "stream",
     "text": [
      "\t - Recall@20 epoch 7: 0.153493\n",
      "\t - MRR@20    epoch 7: 0.042951\n",
      "\n"
     ]
    },
    {
     "name": "stderr",
     "output_type": "stream",
     "text": [
      "Train:  98%|██████████████████████████████████████████ | 1136/1163 [00:12<00:00, 88.31it/s, accuracy=0, train_loss=5.8]\n",
      "Evaluation:  70%|█████████████████████████████████████████████████                     | 68/97 [00:11<00:04,  5.81it/s]\n"
     ]
    },
    {
     "name": "stdout",
     "output_type": "stream",
     "text": [
      "\t - Recall@20 epoch 8: 0.157169\n",
      "\t - MRR@20    epoch 8: 0.044250\n",
      "\n"
     ]
    },
    {
     "name": "stderr",
     "output_type": "stream",
     "text": [
      "Train:  98%|█████████████████████████████████████████ | 1136/1163 [00:14<00:00, 79.97it/s, accuracy=0, train_loss=5.76]\n",
      "Evaluation:  70%|█████████████████████████████████████████████████                     | 68/97 [00:11<00:04,  5.98it/s]\n"
     ]
    },
    {
     "name": "stdout",
     "output_type": "stream",
     "text": [
      "\t - Recall@20 epoch 9: 0.161305\n",
      "\t - MRR@20    epoch 9: 0.046116\n",
      "\n"
     ]
    },
    {
     "name": "stderr",
     "output_type": "stream",
     "text": [
      "Train:  98%|████████████████████████████████████▏| 1136/1163 [00:14<00:00, 80.97it/s, accuracy=0.0625, train_loss=5.64]\n",
      "Evaluation:  70%|█████████████████████████████████████████████████                     | 68/97 [00:16<00:06,  4.18it/s]"
     ]
    },
    {
     "name": "stdout",
     "output_type": "stream",
     "text": [
      "\t - Recall@20 epoch 10: 0.164982\n",
      "\t - MRR@20    epoch 10: 0.046472\n",
      "\n"
     ]
    },
    {
     "name": "stderr",
     "output_type": "stream",
     "text": [
      "\n"
     ]
    }
   ],
   "source": [
    "train_model(model, args)"
   ]
  },
  {
   "cell_type": "markdown",
   "id": "a1ca51e8-ca88-488e-bb37-f26a06484db1",
   "metadata": {
    "tags": []
   },
   "source": [
    "# 모델 테스트\n",
    "---"
   ]
  },
  {
   "cell_type": "markdown",
   "id": "78c73c7d-d95c-4748-9489-32d4358a7830",
   "metadata": {},
   "source": [
    "## 조건 1"
   ]
  },
  {
   "cell_type": "markdown",
   "id": "a8ff981d-09ac-4846-b30f-8a0c03f2dda6",
   "metadata": {},
   "source": [
    "* batch_size=32, hsz=50, drop_rate=0.1, lr=0.001, epochs=10, k=20\n",
    "* cleanse_recursive(data, shortest=3, least_click=20)"
   ]
  },
  {
   "cell_type": "code",
   "execution_count": 405,
   "id": "a17ea6eb-d30f-4c46-9930-adb72642c5ca",
   "metadata": {},
   "outputs": [
    {
     "name": "stderr",
     "output_type": "stream",
     "text": [
      "Evaluation:  52%|████████████████████████████████████▏                                 | 32/62 [00:06<00:06,  4.66it/s]"
     ]
    },
    {
     "name": "stdout",
     "output_type": "stream",
     "text": [
      "\t - Recall@20: 0.162109\n",
      "\t - MRR@20: 0.053991\n",
      "\n"
     ]
    },
    {
     "name": "stderr",
     "output_type": "stream",
     "text": [
      "\n"
     ]
    }
   ],
   "source": [
    "def test_model(model, args, test):\n",
    "    test_recall, test_mrr = get_metrics(test, model, args, 20)\n",
    "    print(f\"\\t - Recall@{args.k}: {test_recall:3f}\")\n",
    "    print(f\"\\t - MRR@{args.k}: {test_mrr:3f}\\n\")\n",
    "\n",
    "test_model(model, args, test_df)"
   ]
  },
  {
   "cell_type": "markdown",
   "id": "8b4a1fc6-1f05-4954-a709-a578366dadc5",
   "metadata": {},
   "source": [
    "## 조건 2"
   ]
  },
  {
   "cell_type": "markdown",
   "id": "cfd6a022-485e-4a67-b52c-f986d594da16",
   "metadata": {},
   "source": [
    "* batch_size=32, hsz=50, drop_rate=0.1, lr=0.001, epochs=20, k=20\n",
    "* cleanse_recursive(data, shortest=3, least_click=20)\n",
    "* epochs 횟수만 20으로 증가시켜 보았다."
   ]
  },
  {
   "cell_type": "code",
   "execution_count": 409,
   "id": "96e2faf4-6f2c-463b-b6df-5648c796e382",
   "metadata": {},
   "outputs": [
    {
     "name": "stdout",
     "output_type": "stream",
     "text": [
      "Model: \"functional_9\"\n",
      "_________________________________________________________________\n",
      "Layer (type)                 Output Shape              Param #   \n",
      "=================================================================\n",
      "input_5 (InputLayer)         [(32, 1, 1075)]           0         \n",
      "_________________________________________________________________\n",
      "GRU (GRU)                    [(32, 50), (32, 50)]      169050    \n",
      "_________________________________________________________________\n",
      "dropout_4 (Dropout)          (32, 50)                  0         \n",
      "_________________________________________________________________\n",
      "dense_4 (Dense)              (32, 1075)                54825     \n",
      "=================================================================\n",
      "Total params: 223,875\n",
      "Trainable params: 223,875\n",
      "Non-trainable params: 0\n",
      "_________________________________________________________________\n"
     ]
    }
   ],
   "source": [
    "args = Args(train_df, val_df, test_df, batch_size=32, hsz=50, drop_rate=0.1, lr=0.001, epochs=20, k=20)\n",
    "model = create_model(args)"
   ]
  },
  {
   "cell_type": "code",
   "execution_count": 410,
   "id": "8aeddd56-26d0-4a78-911e-6d12e7e364f5",
   "metadata": {},
   "outputs": [
    {
     "name": "stderr",
     "output_type": "stream",
     "text": [
      "Train:  98%|█████████████████████████████████████████ | 1136/1163 [00:16<00:00, 70.88it/s, accuracy=0, train_loss=6.96]\n",
      "Evaluation:  70%|█████████████████████████████████████████████████                     | 68/97 [00:11<00:05,  5.70it/s]\n"
     ]
    },
    {
     "name": "stdout",
     "output_type": "stream",
     "text": [
      "\t - Recall@20 epoch 1: 0.044577\n",
      "\t - MRR@20    epoch 1: 0.009734\n",
      "\n"
     ]
    },
    {
     "name": "stderr",
     "output_type": "stream",
     "text": [
      "Train:  98%|█████████████████████████████████████████ | 1136/1163 [00:13<00:00, 86.88it/s, accuracy=0, train_loss=6.83]\n",
      "Evaluation:  70%|█████████████████████████████████████████████████                     | 68/97 [00:11<00:04,  5.97it/s]\n"
     ]
    },
    {
     "name": "stdout",
     "output_type": "stream",
     "text": [
      "\t - Recall@20 epoch 2: 0.061581\n",
      "\t - MRR@20    epoch 2: 0.012626\n",
      "\n"
     ]
    },
    {
     "name": "stderr",
     "output_type": "stream",
     "text": [
      "Train:  98%|█████████████████████████████████████████ | 1136/1163 [00:12<00:00, 91.39it/s, accuracy=0, train_loss=6.62]\n",
      "Evaluation:  70%|█████████████████████████████████████████████████                     | 68/97 [00:10<00:04,  6.24it/s]\n"
     ]
    },
    {
     "name": "stdout",
     "output_type": "stream",
     "text": [
      "\t - Recall@20 epoch 3: 0.082261\n",
      "\t - MRR@20    epoch 3: 0.019761\n",
      "\n"
     ]
    },
    {
     "name": "stderr",
     "output_type": "stream",
     "text": [
      "Train:  98%|█████████████████████████████████████████ | 1136/1163 [00:12<00:00, 89.96it/s, accuracy=0, train_loss=6.44]\n",
      "Evaluation:  70%|█████████████████████████████████████████████████                     | 68/97 [00:10<00:04,  6.29it/s]\n"
     ]
    },
    {
     "name": "stdout",
     "output_type": "stream",
     "text": [
      "\t - Recall@20 epoch 4: 0.100184\n",
      "\t - MRR@20    epoch 4: 0.024790\n",
      "\n"
     ]
    },
    {
     "name": "stderr",
     "output_type": "stream",
     "text": [
      "Train:  98%|█████████████████████████████████████████ | 1136/1163 [00:12<00:00, 89.35it/s, accuracy=0, train_loss=6.29]\n",
      "Evaluation:  70%|█████████████████████████████████████████████████                     | 68/97 [00:11<00:04,  5.91it/s]\n"
     ]
    },
    {
     "name": "stdout",
     "output_type": "stream",
     "text": [
      "\t - Recall@20 epoch 5: 0.118107\n",
      "\t - MRR@20    epoch 5: 0.031031\n",
      "\n"
     ]
    },
    {
     "name": "stderr",
     "output_type": "stream",
     "text": [
      "Train:  98%|█████████████████████████████████████████ | 1136/1163 [00:12<00:00, 93.07it/s, accuracy=0, train_loss=6.15]\n",
      "Evaluation:  70%|█████████████████████████████████████████████████                     | 68/97 [00:10<00:04,  6.40it/s]\n"
     ]
    },
    {
     "name": "stdout",
     "output_type": "stream",
     "text": [
      "\t - Recall@20 epoch 6: 0.130515\n",
      "\t - MRR@20    epoch 6: 0.034113\n",
      "\n"
     ]
    },
    {
     "name": "stderr",
     "output_type": "stream",
     "text": [
      "Train:  98%|█████████████████████████████████████████ | 1136/1163 [00:12<00:00, 91.97it/s, accuracy=0, train_loss=5.98]\n",
      "Evaluation:  70%|█████████████████████████████████████████████████                     | 68/97 [00:10<00:04,  6.49it/s]\n"
     ]
    },
    {
     "name": "stdout",
     "output_type": "stream",
     "text": [
      "\t - Recall@20 epoch 7: 0.145221\n",
      "\t - MRR@20    epoch 7: 0.039138\n",
      "\n"
     ]
    },
    {
     "name": "stderr",
     "output_type": "stream",
     "text": [
      "Train:  98%|█████████████████████████████████████ | 1136/1163 [00:12<00:00, 93.82it/s, accuracy=0.0625, train_loss=5.8]\n",
      "Evaluation:  70%|█████████████████████████████████████████████████                     | 68/97 [00:10<00:04,  6.51it/s]\n"
     ]
    },
    {
     "name": "stdout",
     "output_type": "stream",
     "text": [
      "\t - Recall@20 epoch 8: 0.152574\n",
      "\t - MRR@20    epoch 8: 0.040707\n",
      "\n"
     ]
    },
    {
     "name": "stderr",
     "output_type": "stream",
     "text": [
      "Train:  98%|████████████████████████████████████▏| 1136/1163 [00:12<00:00, 94.22it/s, accuracy=0.0625, train_loss=5.67]\n",
      "Evaluation:  70%|█████████████████████████████████████████████████                     | 68/97 [00:10<00:04,  6.53it/s]\n"
     ]
    },
    {
     "name": "stdout",
     "output_type": "stream",
     "text": [
      "\t - Recall@20 epoch 9: 0.156250\n",
      "\t - MRR@20    epoch 9: 0.042889\n",
      "\n"
     ]
    },
    {
     "name": "stderr",
     "output_type": "stream",
     "text": [
      "Train:  98%|████████████████████████████████████▏| 1136/1163 [00:11<00:00, 95.89it/s, accuracy=0.0625, train_loss=5.54]\n",
      "Evaluation:  70%|█████████████████████████████████████████████████                     | 68/97 [00:10<00:04,  6.49it/s]\n"
     ]
    },
    {
     "name": "stdout",
     "output_type": "stream",
     "text": [
      "\t - Recall@20 epoch 10: 0.155790\n",
      "\t - MRR@20    epoch 10: 0.044291\n",
      "\n"
     ]
    },
    {
     "name": "stderr",
     "output_type": "stream",
     "text": [
      "Train:  98%|████████████████████████████████████▏| 1136/1163 [00:12<00:00, 88.57it/s, accuracy=0.0625, train_loss=5.44]\n",
      "Evaluation:  70%|█████████████████████████████████████████████████                     | 68/97 [00:11<00:04,  5.95it/s]\n"
     ]
    },
    {
     "name": "stdout",
     "output_type": "stream",
     "text": [
      "\t - Recall@20 epoch 11: 0.153493\n",
      "\t - MRR@20    epoch 11: 0.043427\n",
      "\n"
     ]
    },
    {
     "name": "stderr",
     "output_type": "stream",
     "text": [
      "Train:  98%|████████████████████████████████████▏| 1136/1163 [00:12<00:00, 89.36it/s, accuracy=0.0312, train_loss=5.39]\n",
      "Evaluation:  70%|█████████████████████████████████████████████████                     | 68/97 [00:11<00:04,  6.03it/s]\n"
     ]
    },
    {
     "name": "stdout",
     "output_type": "stream",
     "text": [
      "\t - Recall@20 epoch 12: 0.154871\n",
      "\t - MRR@20    epoch 12: 0.043965\n",
      "\n"
     ]
    },
    {
     "name": "stderr",
     "output_type": "stream",
     "text": [
      "Train:  98%|████████████████████████████████████▏| 1136/1163 [00:12<00:00, 93.04it/s, accuracy=0.0938, train_loss=5.33]\n",
      "Evaluation:  70%|█████████████████████████████████████████████████                     | 68/97 [00:11<00:04,  6.16it/s]\n"
     ]
    },
    {
     "name": "stdout",
     "output_type": "stream",
     "text": [
      "\t - Recall@20 epoch 13: 0.152574\n",
      "\t - MRR@20    epoch 13: 0.043409\n",
      "\n"
     ]
    },
    {
     "name": "stderr",
     "output_type": "stream",
     "text": [
      "Train:  98%|████████████████████████████████████▏| 1136/1163 [00:11<00:00, 97.12it/s, accuracy=0.0625, train_loss=5.26]\n",
      "Evaluation:  70%|█████████████████████████████████████████████████                     | 68/97 [00:11<00:04,  5.89it/s]\n"
     ]
    },
    {
     "name": "stdout",
     "output_type": "stream",
     "text": [
      "\t - Recall@20 epoch 14: 0.151195\n",
      "\t - MRR@20    epoch 14: 0.042942\n",
      "\n"
     ]
    },
    {
     "name": "stderr",
     "output_type": "stream",
     "text": [
      "Train:  98%|████████████████████████████████████▏| 1136/1163 [00:12<00:00, 94.31it/s, accuracy=0.0625, train_loss=5.14]\n",
      "Evaluation:  70%|█████████████████████████████████████████████████                     | 68/97 [00:10<00:04,  6.40it/s]\n"
     ]
    },
    {
     "name": "stdout",
     "output_type": "stream",
     "text": [
      "\t - Recall@20 epoch 15: 0.146599\n",
      "\t - MRR@20    epoch 15: 0.042148\n",
      "\n"
     ]
    },
    {
     "name": "stderr",
     "output_type": "stream",
     "text": [
      "Train:  98%|████████████████████████████████████▏| 1136/1163 [00:12<00:00, 90.94it/s, accuracy=0.0625, train_loss=4.91]\n",
      "Evaluation:  70%|█████████████████████████████████████████████████                     | 68/97 [00:12<00:05,  5.66it/s]\n"
     ]
    },
    {
     "name": "stdout",
     "output_type": "stream",
     "text": [
      "\t - Recall@20 epoch 16: 0.144301\n",
      "\t - MRR@20    epoch 16: 0.041348\n",
      "\n"
     ]
    },
    {
     "name": "stderr",
     "output_type": "stream",
     "text": [
      "Train:  98%|████████████████████████████████████▏| 1136/1163 [00:11<00:00, 94.74it/s, accuracy=0.0938, train_loss=4.81]\n",
      "Evaluation:  70%|█████████████████████████████████████████████████                     | 68/97 [00:11<00:05,  5.76it/s]\n"
     ]
    },
    {
     "name": "stdout",
     "output_type": "stream",
     "text": [
      "\t - Recall@20 epoch 17: 0.142923\n",
      "\t - MRR@20    epoch 17: 0.041135\n",
      "\n"
     ]
    },
    {
     "name": "stderr",
     "output_type": "stream",
     "text": [
      "Train:  98%|████████████████████████████████████▏| 1136/1163 [00:12<00:00, 90.02it/s, accuracy=0.0938, train_loss=4.82]\n",
      "Evaluation:  70%|█████████████████████████████████████████████████                     | 68/97 [00:11<00:04,  6.11it/s]\n"
     ]
    },
    {
     "name": "stdout",
     "output_type": "stream",
     "text": [
      "\t - Recall@20 epoch 18: 0.142463\n",
      "\t - MRR@20    epoch 18: 0.039906\n",
      "\n"
     ]
    },
    {
     "name": "stderr",
     "output_type": "stream",
     "text": [
      "Train:  98%|████████████████████████████████████▏| 1136/1163 [00:11<00:00, 95.24it/s, accuracy=0.0625, train_loss=4.77]\n",
      "Evaluation:  70%|█████████████████████████████████████████████████                     | 68/97 [00:10<00:04,  6.25it/s]\n"
     ]
    },
    {
     "name": "stdout",
     "output_type": "stream",
     "text": [
      "\t - Recall@20 epoch 19: 0.141085\n",
      "\t - MRR@20    epoch 19: 0.040148\n",
      "\n"
     ]
    },
    {
     "name": "stderr",
     "output_type": "stream",
     "text": [
      "Train:  98%|████████████████████████████████████▏| 1136/1163 [00:12<00:00, 90.99it/s, accuracy=0.0625, train_loss=4.67]\n",
      "Evaluation:  70%|█████████████████████████████████████████████████                     | 68/97 [00:11<00:04,  6.14it/s]"
     ]
    },
    {
     "name": "stdout",
     "output_type": "stream",
     "text": [
      "\t - Recall@20 epoch 20: 0.140625\n",
      "\t - MRR@20    epoch 20: 0.039842\n",
      "\n"
     ]
    },
    {
     "name": "stderr",
     "output_type": "stream",
     "text": [
      "\n"
     ]
    }
   ],
   "source": [
    "train_model(model, args)"
   ]
  },
  {
   "cell_type": "code",
   "execution_count": 412,
   "id": "85f58a59-e91f-4773-9aba-170aeb30ee24",
   "metadata": {},
   "outputs": [
    {
     "name": "stderr",
     "output_type": "stream",
     "text": [
      "Evaluation:  52%|████████████████████████████████████▏                                 | 32/62 [00:04<00:04,  6.52it/s]"
     ]
    },
    {
     "name": "stdout",
     "output_type": "stream",
     "text": [
      "\t - Recall@20: 0.163086\n",
      "\t - MRR@20: 0.056542\n",
      "\n"
     ]
    },
    {
     "name": "stderr",
     "output_type": "stream",
     "text": [
      "\n"
     ]
    }
   ],
   "source": [
    "test_model(model, args, test_df)"
   ]
  },
  {
   "cell_type": "markdown",
   "id": "2e821453-e884-40bc-99f5-6ce2d3c97a46",
   "metadata": {},
   "source": [
    "* 조건 1에서 epoch 횟수만 늘렸을 때는 Recall과 MMR에 별 차이가 없다."
   ]
  },
  {
   "cell_type": "markdown",
   "id": "f8afdad9-3b33-41cb-88cd-4cde086aad34",
   "metadata": {},
   "source": [
    "## 조건 3"
   ]
  },
  {
   "cell_type": "markdown",
   "id": "e5e5a51b-e784-4c06-abf6-f24ebbfef3bc",
   "metadata": {},
   "source": [
    "batch_size=32, hsz=50, drop_rate=0.1, lr=0.001, epochs=10, k=20   \n",
    "cleanse_recursive(data, shortest=3, least_click=20)   \n",
    "epochs 횟수를 10으로 원복시키고 batch_size를 16으로 변경해보았다.   "
   ]
  },
  {
   "cell_type": "code",
   "execution_count": 413,
   "id": "55db7158-1c62-409b-8aac-0e3399ac5bfb",
   "metadata": {},
   "outputs": [
    {
     "name": "stdout",
     "output_type": "stream",
     "text": [
      "Model: \"functional_11\"\n",
      "_________________________________________________________________\n",
      "Layer (type)                 Output Shape              Param #   \n",
      "=================================================================\n",
      "input_6 (InputLayer)         [(16, 1, 1075)]           0         \n",
      "_________________________________________________________________\n",
      "GRU (GRU)                    [(16, 50), (16, 50)]      169050    \n",
      "_________________________________________________________________\n",
      "dropout_5 (Dropout)          (16, 50)                  0         \n",
      "_________________________________________________________________\n",
      "dense_5 (Dense)              (16, 1075)                54825     \n",
      "=================================================================\n",
      "Total params: 223,875\n",
      "Trainable params: 223,875\n",
      "Non-trainable params: 0\n",
      "_________________________________________________________________\n"
     ]
    }
   ],
   "source": [
    "args = Args(train_df, val_df, test_df, batch_size=16, hsz=50, drop_rate=0.1, lr=0.001, epochs=10, k=20)\n",
    "model = create_model(args)"
   ]
  },
  {
   "cell_type": "code",
   "execution_count": 414,
   "id": "a55a7bf0-6f99-4b54-96b5-f9d001d4fb43",
   "metadata": {},
   "outputs": [
    {
     "name": "stderr",
     "output_type": "stream",
     "text": [
      "Train:  99%|█████████████████████████████████████████▌| 2300/2326 [00:28<00:00, 79.47it/s, accuracy=0, train_loss=6.76]\n",
      "Evaluation:  84%|████████████████████████████████████████████████████████▊           | 162/194 [00:19<00:03,  8.50it/s]\n"
     ]
    },
    {
     "name": "stdout",
     "output_type": "stream",
     "text": [
      "\t - Recall@20 epoch 1: 0.053627\n",
      "\t - MRR@20    epoch 1: 0.013465\n",
      "\n"
     ]
    },
    {
     "name": "stderr",
     "output_type": "stream",
     "text": [
      "Train:  99%|█████████████████████████████████████████▌| 2300/2326 [00:24<00:00, 95.00it/s, accuracy=0, train_loss=6.49]\n",
      "Evaluation:  84%|████████████████████████████████████████████████████████▊           | 162/194 [00:17<00:03,  9.12it/s]\n"
     ]
    },
    {
     "name": "stdout",
     "output_type": "stream",
     "text": [
      "\t - Recall@20 epoch 2: 0.079861\n",
      "\t - MRR@20    epoch 2: 0.018597\n",
      "\n"
     ]
    },
    {
     "name": "stderr",
     "output_type": "stream",
     "text": [
      "Train:  99%|█████████████████████████████████████████▌| 2300/2326 [00:24<00:00, 93.49it/s, accuracy=0, train_loss=6.28]\n",
      "Evaluation:  84%|████████████████████████████████████████████████████████▊           | 162/194 [00:17<00:03,  9.04it/s]\n"
     ]
    },
    {
     "name": "stdout",
     "output_type": "stream",
     "text": [
      "\t - Recall@20 epoch 3: 0.105710\n",
      "\t - MRR@20    epoch 3: 0.027966\n",
      "\n"
     ]
    },
    {
     "name": "stderr",
     "output_type": "stream",
     "text": [
      "Train:  99%|█████████████████████████████████████████▌| 2300/2326 [00:26<00:00, 85.65it/s, accuracy=0, train_loss=5.99]\n",
      "Evaluation:  84%|████████████████████████████████████████████████████████▊           | 162/194 [00:18<00:03,  8.96it/s]\n"
     ]
    },
    {
     "name": "stdout",
     "output_type": "stream",
     "text": [
      "\t - Recall@20 epoch 4: 0.128086\n",
      "\t - MRR@20    epoch 4: 0.033910\n",
      "\n"
     ]
    },
    {
     "name": "stderr",
     "output_type": "stream",
     "text": [
      "Train:  99%|█████████████████████████████████████████▌| 2300/2326 [00:24<00:00, 93.06it/s, accuracy=0, train_loss=5.75]\n",
      "Evaluation:  84%|████████████████████████████████████████████████████████▊           | 162/194 [00:18<00:03,  8.82it/s]\n"
     ]
    },
    {
     "name": "stdout",
     "output_type": "stream",
     "text": [
      "\t - Recall@20 epoch 5: 0.149691\n",
      "\t - MRR@20    epoch 5: 0.037773\n",
      "\n"
     ]
    },
    {
     "name": "stderr",
     "output_type": "stream",
     "text": [
      "Train:  99%|█████████████████████████████████████████▌| 2300/2326 [00:27<00:00, 84.91it/s, accuracy=0, train_loss=5.71]\n",
      "Evaluation:  84%|████████████████████████████████████████████████████████▊           | 162/194 [00:18<00:03,  8.97it/s]\n"
     ]
    },
    {
     "name": "stdout",
     "output_type": "stream",
     "text": [
      "\t - Recall@20 epoch 6: 0.151620\n",
      "\t - MRR@20    epoch 6: 0.041152\n",
      "\n"
     ]
    },
    {
     "name": "stderr",
     "output_type": "stream",
     "text": [
      "Train:  99%|█████████████████████████████████████████▌| 2300/2326 [00:30<00:00, 75.47it/s, accuracy=0, train_loss=5.54]\n",
      "Evaluation:  84%|████████████████████████████████████████████████████████▊           | 162/194 [00:18<00:03,  8.53it/s]\n"
     ]
    },
    {
     "name": "stdout",
     "output_type": "stream",
     "text": [
      "\t - Recall@20 epoch 7: 0.151620\n",
      "\t - MRR@20    epoch 7: 0.041878\n",
      "\n"
     ]
    },
    {
     "name": "stderr",
     "output_type": "stream",
     "text": [
      "Train:  99%|█████████████████████████████████████████▌| 2300/2326 [00:24<00:00, 92.41it/s, accuracy=0, train_loss=5.54]\n",
      "Evaluation:  84%|████████████████████████████████████████████████████████▊           | 162/194 [00:17<00:03,  9.00it/s]\n"
     ]
    },
    {
     "name": "stdout",
     "output_type": "stream",
     "text": [
      "\t - Recall@20 epoch 8: 0.153164\n",
      "\t - MRR@20    epoch 8: 0.042332\n",
      "\n"
     ]
    },
    {
     "name": "stderr",
     "output_type": "stream",
     "text": [
      "Train:  99%|█████████████████████████████████████████▌| 2300/2326 [00:30<00:00, 76.57it/s, accuracy=0, train_loss=5.41]\n",
      "Evaluation:  84%|████████████████████████████████████████████████████████▊           | 162/194 [00:18<00:03,  8.73it/s]\n"
     ]
    },
    {
     "name": "stdout",
     "output_type": "stream",
     "text": [
      "\t - Recall@20 epoch 9: 0.148148\n",
      "\t - MRR@20    epoch 9: 0.041992\n",
      "\n"
     ]
    },
    {
     "name": "stderr",
     "output_type": "stream",
     "text": [
      "Train:  99%|██████████████████████████████████████████▌| 2300/2326 [00:29<00:00, 76.75it/s, accuracy=0, train_loss=5.4]\n",
      "Evaluation:  84%|████████████████████████████████████████████████████████▊           | 162/194 [00:17<00:03,  9.24it/s]"
     ]
    },
    {
     "name": "stdout",
     "output_type": "stream",
     "text": [
      "\t - Recall@20 epoch 10: 0.145448\n",
      "\t - MRR@20    epoch 10: 0.041534\n",
      "\n"
     ]
    },
    {
     "name": "stderr",
     "output_type": "stream",
     "text": [
      "\n"
     ]
    }
   ],
   "source": [
    "train_model(model, args)"
   ]
  },
  {
   "cell_type": "code",
   "execution_count": 415,
   "id": "74455800-79f0-492f-861d-1f32f129ccdc",
   "metadata": {},
   "outputs": [
    {
     "name": "stderr",
     "output_type": "stream",
     "text": [
      "Evaluation:  68%|██████████████████████████████████████████████▉                      | 85/125 [00:09<00:04,  8.74it/s]"
     ]
    },
    {
     "name": "stdout",
     "output_type": "stream",
     "text": [
      "\t - Recall@20: 0.177206\n",
      "\t - MRR@20: 0.055700\n",
      "\n"
     ]
    },
    {
     "name": "stderr",
     "output_type": "stream",
     "text": [
      "\n"
     ]
    }
   ],
   "source": [
    "test_model(model, args, test_df)"
   ]
  },
  {
   "cell_type": "markdown",
   "id": "82d4ad5b-09da-4121-85fe-dc96b97ba4f6",
   "metadata": {},
   "source": [
    "* batch size 32->16 하였을때 결과치가 좋아졌다. 더 줄여보자."
   ]
  },
  {
   "cell_type": "markdown",
   "id": "ab26cf5b-3fdb-4887-9728-38f0950e569e",
   "metadata": {},
   "source": [
    "## 조건 4"
   ]
  },
  {
   "cell_type": "markdown",
   "id": "6c811495-e2dd-4d52-895a-dede88917532",
   "metadata": {},
   "source": [
    "batch_size=8, hsz=50, drop_rate=0.1, lr=0.001, epochs=10, k=20\n",
    "cleanse_recursive(data, shortest=3, least_click=20)\n",
    "epochs 횟수를 10으로 원복시키고 batch_size를 16으로 변경해보았다."
   ]
  },
  {
   "cell_type": "code",
   "execution_count": 416,
   "id": "ae9c054b-404b-4566-b95e-79236aacfb1d",
   "metadata": {
    "tags": []
   },
   "outputs": [
    {
     "name": "stdout",
     "output_type": "stream",
     "text": [
      "Model: \"functional_13\"\n",
      "_________________________________________________________________\n",
      "Layer (type)                 Output Shape              Param #   \n",
      "=================================================================\n",
      "input_7 (InputLayer)         [(8, 1, 1075)]            0         \n",
      "_________________________________________________________________\n",
      "GRU (GRU)                    [(8, 50), (8, 50)]        169050    \n",
      "_________________________________________________________________\n",
      "dropout_6 (Dropout)          (8, 50)                   0         \n",
      "_________________________________________________________________\n",
      "dense_6 (Dense)              (8, 1075)                 54825     \n",
      "=================================================================\n",
      "Total params: 223,875\n",
      "Trainable params: 223,875\n",
      "Non-trainable params: 0\n",
      "_________________________________________________________________\n"
     ]
    }
   ],
   "source": [
    "args = Args(train_df, val_df, test_df, batch_size=8, hsz=50, drop_rate=0.1, lr=0.001, epochs=10, k=20)\n",
    "model = create_model(args)"
   ]
  },
  {
   "cell_type": "code",
   "execution_count": null,
   "id": "66547deb-1ae3-4665-8dc4-51bd10d075bc",
   "metadata": {},
   "outputs": [
    {
     "name": "stderr",
     "output_type": "stream",
     "text": [
      "Train: 100%|█████████████████████████████████████████▊| 4639/4653 [00:58<00:00, 79.15it/s, accuracy=0, train_loss=6.74]\n",
      "Evaluation:  93%|██████████████████████████████████████████████████████████████▉     | 360/389 [00:29<00:02, 12.33it/s]\n"
     ]
    },
    {
     "name": "stdout",
     "output_type": "stream",
     "text": [
      "\t - Recall@20 epoch 1: 0.062153\n",
      "\t - MRR@20    epoch 1: 0.012038\n",
      "\n"
     ]
    },
    {
     "name": "stderr",
     "output_type": "stream",
     "text": [
      "Train: 100%|█████████████████████████████████████████▊| 4639/4653 [00:58<00:00, 79.35it/s, accuracy=0, train_loss=6.39]\n",
      "Evaluation:  93%|██████████████████████████████████████████████████████████████▉     | 360/389 [00:29<00:02, 12.07it/s]\n"
     ]
    },
    {
     "name": "stdout",
     "output_type": "stream",
     "text": [
      "\t - Recall@20 epoch 2: 0.097917\n",
      "\t - MRR@20    epoch 2: 0.022269\n",
      "\n"
     ]
    },
    {
     "name": "stderr",
     "output_type": "stream",
     "text": [
      "Train: 100%|█████████████████████████████████████████▊| 4639/4653 [00:55<00:00, 83.44it/s, accuracy=0, train_loss=5.99]\n",
      "Evaluation:  93%|██████████████████████████████████████████████████████████████▉     | 360/389 [00:28<00:02, 12.72it/s]\n"
     ]
    },
    {
     "name": "stdout",
     "output_type": "stream",
     "text": [
      "\t - Recall@20 epoch 3: 0.125694\n",
      "\t - MRR@20    epoch 3: 0.030269\n",
      "\n"
     ]
    },
    {
     "name": "stderr",
     "output_type": "stream",
     "text": [
      "Train: 100%|█████████████████████████████████████████▊| 4639/4653 [00:55<00:00, 83.55it/s, accuracy=0, train_loss=5.83]\n",
      "Evaluation:  93%|██████████████████████████████████████████████████████████████▉     | 360/389 [00:28<00:02, 12.86it/s]\n"
     ]
    },
    {
     "name": "stdout",
     "output_type": "stream",
     "text": [
      "\t - Recall@20 epoch 4: 0.139236\n",
      "\t - MRR@20    epoch 4: 0.035219\n",
      "\n"
     ]
    },
    {
     "name": "stderr",
     "output_type": "stream",
     "text": [
      "Train: 100%|█████████████████████████████████████████▊| 4639/4653 [00:54<00:00, 84.65it/s, accuracy=0, train_loss=5.69]\n",
      "Evaluation:  93%|██████████████████████████████████████████████████████████████▉     | 360/389 [00:30<00:02, 11.71it/s]\n"
     ]
    },
    {
     "name": "stdout",
     "output_type": "stream",
     "text": [
      "\t - Recall@20 epoch 5: 0.141667\n",
      "\t - MRR@20    epoch 5: 0.038866\n",
      "\n"
     ]
    },
    {
     "name": "stderr",
     "output_type": "stream",
     "text": [
      "Train:  72%|███████████████████████████▌          | 3372/4653 [00:41<00:15, 83.81it/s, accuracy=0.125, train_loss=5.38]"
     ]
    }
   ],
   "source": [
    "train_model(model, args)"
   ]
  },
  {
   "cell_type": "code",
   "execution_count": null,
   "id": "982829b1-9839-4a17-899b-1c51dc42a49d",
   "metadata": {},
   "outputs": [],
   "source": [
    "test_model(model, args, test_df)"
   ]
  },
  {
   "cell_type": "markdown",
   "id": "78576916-7f2f-493f-a252-9d6954f204f9",
   "metadata": {},
   "source": [
    "# 회고"
   ]
  },
  {
   "attachments": {
    "10f25817-d7f0-4f3a-b121-7766e5764d90.png": {
     "image/png": "[encoded data removed]"
    }
   },
   "cell_type": "markdown",
   "id": "6314983a-282c-4656-8d4e-b82005c353c4",
   "metadata": {},
   "source": [
    "![image.png](attachment:10f25817-d7f0-4f3a-b121-7766e5764d90.png)"
   ]
  },
  {
   "cell_type": "markdown",
   "id": "e368f89d-4771-45d3-9092-8351ffe9b50b",
   "metadata": {},
   "source": [
    "- 이번 프로젝트에서 **어려웠던 점,**\n",
    "- 프로젝트를 진행하면서 **알아낸 점** 혹은 **아직 모호한 점**.\n",
    "- 루브릭 평가 지표를 맞추기 위해 **시도한 것들**.\n",
    "- 만약에 루브릭 평가 관련 지표를 **달성 하지 못했을 때, 이유에 관한 추정**.\n",
    "- **자기 다짐**"
   ]
  },
  {
   "cell_type": "markdown",
   "id": "722163e1-48d7-430a-af64-c9ce327883ce",
   "metadata": {},
   "source": [
    "* 조건 1   \n",
    "    * batch_size=32, hsz=50, drop_rate=0.1, lr=0.001, epochs=10, k=20   \n",
    "        - Recall: 0.162109\n",
    "        - MRR: 0.053991\n",
    "\n",
    "* 조건 2   \n",
    "    * batch_size=32, hsz=50, drop_rate=0.1, lr=0.001, epochs=20, k=20    \n",
    "        -  Recall: 0.163086\n",
    "        - MRR: 0.056542\n",
    "\n",
    "* 조건 3   \n",
    "    * batch_size=16, hsz=50, drop_rate=0.1, lr=0.001, epochs=10, k=20   \n",
    "        - Recall@20: 0.177206\n",
    "        - MRR@20: 0.055700\n",
    "* 조건 3   \n",
    "    * batch_size=16, hsz=50, drop_rate=0.1, lr=0.001, epochs=10, k=20   \n",
    "        - Recall@20: 0.177206\n",
    "        - MRR@20: 0.055700\n",
    "* 조건 3   \n",
    "    * batch_size=8, hsz=50, drop_rate=0.1, lr=0.001, epochs=10, k=20   \n",
    "        - Recall@20: 0.177206\n",
    "        - MRR@20: 0.055700\n",
    "        \n",
    "이번 프로젝트에서 어려웠던점은 SessionId 컬럼을 만들어주는게 어려웠다. 어떤 기준으로 SessionId를 만들어줄 지 고민을 많이 하였다. 또한 Index Error가 자주 발생하였지만 batch size 조원들이 알려줘서 금방 조치할 수 있었다.   \n",
    "프로젝트를 진행하면서 알아낸것은 추천 알고리즘에 대한 큰 구도를 이해할 수 있었지만 소스량이 많아 전부 이해하지는 못하였다.   \n",
    "루브릭을 맞추기위해서는 Recall과 MRR을 높이기 위해 여러 조건으로 학습 및 테스트를 진행하였고, SessionId 컬럼을 만들어 주기 위해 노력하였다.   \n",
    "자기 다짐은 시각화 다루는 것에 더 능숙해저야 할 것 같다. 시각화를 좀 더 잘 다뤘다면, 세부 내용이나 학습 결과등을 좀 더 쉽게 파악할 수 있었을 거 같은데 아직 미숙하여 시각화를 많이 다루지 못하여 아쉽다.\n",
    "또한, 다른 조원들과 비교하였을때 결과치가 기대에 못 미쳐 여러 시도들(Session 여러 조건으로 나누기, 모델 구조 변경, 데이터 전처리 등등...)을 해볼 수 있었을 거 같았은데 시간에 쫓겨 많은 시도를 못해봐서 아쉽다."
   ]
  }
 ],
 "metadata": {
  "kernelspec": {
   "display_name": "Python 3 (ipykernel)",
   "language": "python",
   "name": "python3"
  },
  "language_info": {
   "codemirror_mode": {
    "name": "ipython",
    "version": 3
   },
   "file_extension": ".py",
   "mimetype": "text/x-python",
   "name": "python",
   "nbconvert_exporter": "python",
   "pygments_lexer": "ipython3",
   "version": "3.8.11"
  },
  "toc-autonumbering": true,
  "toc-showmarkdowntxt": false
 },
 "nbformat": 4,
 "nbformat_minor": 5
}
