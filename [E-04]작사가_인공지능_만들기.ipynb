{
 "cells": [
  {
   "cell_type": "markdown",
   "id": "million-eligibility",
   "metadata": {},
   "source": [
    "# 정규 표현식을 이용한 corpus 생성\n",
    "---"
   ]
  },
  {
   "cell_type": "code",
   "execution_count": 43,
   "id": "considerable-council",
   "metadata": {},
   "outputs": [
    {
     "name": "stdout",
     "output_type": "stream",
     "text": [
      "데이터 크기: 187088\n",
      "Examples:\n",
      " ['I hear you callin\\', \"Here I come baby\"', 'To save you, oh oh', \"Baby no more stallin'\"]\n"
     ]
    }
   ],
   "source": [
    "import os, re\n",
    "import numpy as np\n",
    "import tensorflow as tf\n",
    "import glob\n",
    "\n",
    "txt_file_path = os.getenv('HOME') + '/aiffel/lyricist/data/lyrics/*'\n",
    "\n",
    "txt_list = glob.glob(txt_file_path)\n",
    "\n",
    "raw_corpus = []\n",
    "\n",
    "#여러 개의 txt파일을 모두 읽어서 raw_corpus에 넣자\n",
    "for txt_file in txt_list:\n",
    "    with open(txt_file, \"r\") as f:\n",
    "        raw = f.read().splitlines()\n",
    "        raw_corpus.extend(raw)\n",
    "        \n",
    "print(\"데이터 크기:\", len(raw_corpus))\n",
    "print(\"Examples:\\n\", raw_corpus[:3])"
   ]
  },
  {
   "cell_type": "markdown",
   "id": "permanent-distinction",
   "metadata": {},
   "source": [
    "# 데이터 정제\n",
    "---"
   ]
  },
  {
   "cell_type": "code",
   "execution_count": 44,
   "id": "burning-annex",
   "metadata": {},
   "outputs": [
    {
     "data": {
      "text/plain": [
       "['<start> i hear you callin , here i come baby <end>',\n",
       " '<start> to save you , oh oh <end>',\n",
       " '<start> baby no more stallin <end>',\n",
       " '<start> these hands have been longing to touch you baby <end>',\n",
       " '<start> and now that you ve come around , to seein it my way <end>',\n",
       " '<start> it s unbelieveable how your body s calling for me <end>',\n",
       " '<start> my body s callin for you <end>',\n",
       " '<start> my body s callin for you <end>',\n",
       " '<start> my body s callin for you tell me , what s your desire <end>',\n",
       " '<start> baby your wish is my deal oh yes it is baby <end>']"
      ]
     },
     "execution_count": 44,
     "metadata": {},
     "output_type": "execute_result"
    }
   ],
   "source": [
    "# 입력된 문장을\n",
    "#       1. 소문자로 바꾸고, 양쪽 공백을 지운다.\n",
    "#       2. 특수문자 양쪽에 공백을 넣고\n",
    "#       3. 여러개의 공백은 하나의 공백으로 바꾼다\n",
    "#       4. a-zA-Z?.!,¿가 아닌 모든 문자를 하나의 공백으로 바꿉니다\n",
    "#       5. 다시 양쪽 공백을 지운다\n",
    "#       6. 문장 시작에는 <start>, 끝에는 <end>를 추가한다.\n",
    "# 이 순서로 처리해주면 문제가 되는 상황을 방지할 수 있다!\n",
    "\n",
    "def preprocess_sentence(sentence):\n",
    "    sentence = sentence.lower().strip() # 1\n",
    "    sentence = re.sub(r\"([?.!,¿])\", r\" \\1 \", sentence) # 2\n",
    "    sentence = re.sub(r'[\" \"]+', \" \", sentence) # 3\n",
    "    sentence = re.sub(r\"[^a-zA-Z?.!,¿]+\", \" \", sentence) # 4\n",
    "    sentence = sentence.strip() # 5\n",
    "    if sentence: # 비어있는 sentence 제외\n",
    "        sentence = '<start> ' + sentence + ' <end>' # 6\n",
    "        return sentence\n",
    "\n",
    "corpus = []\n",
    "\n",
    "for sentence in raw_corpus:\n",
    "    # 우리가 원하지 않는 문장은 corpus에 포함하지 않는다\n",
    "    if len(sentence) == 0: continue \n",
    "    if sentence[-1] == \":\": continue\n",
    "    # preprocess_sentence() 리턴값이 비어있거나 나온 결과 값을 split하여 길이가 15이상이면 건너뛴다\n",
    "    if preprocess_sentence(sentence) == None or len(preprocess_sentence(sentence).split(' ')) > 15:\n",
    "        continue\n",
    "    preprocessed_sentence = preprocess_sentence(sentence) \n",
    "    corpus.append(preprocessed_sentence)\n",
    "\n",
    "corpus[:10]"
   ]
  },
  {
   "cell_type": "markdown",
   "id": "willing-sending",
   "metadata": {},
   "source": [
    "# tf.keras.preprocessing.text.Tokenizer를 이용한 corpus를 텐서로 변환\n",
    "---"
   ]
  },
  {
   "cell_type": "code",
   "execution_count": 45,
   "id": "tutorial-venue",
   "metadata": {},
   "outputs": [
    {
     "name": "stdout",
     "output_type": "stream",
     "text": [
      "1 : <unk>\n",
      "2 : <start>\n",
      "3 : <end>\n",
      "4 : i\n",
      "5 : ,\n",
      "6 : the\n",
      "7 : you\n",
      "8 : and\n",
      "9 : a\n",
      "10 : to\n",
      "11 : it\n"
     ]
    }
   ],
   "source": [
    "def tokenize(corpus):\n",
    "    # 12000단어를 기억할 수 있는 tokenizer를 만든다\n",
    "    # 우리는 이미 문장을 정제했으니 filer가 필요 없다\n",
    "    # 12000단어에 포함되지 못한 단어는 '<unk>'로 바꾼다\n",
    "    tokenizer = tf.keras.preprocessing.text.Tokenizer(\n",
    "        num_words=12000, # 단어장의 크기\n",
    "        filters=' ',\n",
    "        oov_token = \"<unk>\"\n",
    "    )\n",
    "    # corpus를 이용해 tokenizer 내부의 단어장을 완성한다.\n",
    "    tokenizer.fit_on_texts(corpus)\n",
    "    # 준비한 tokenizer를 이용해 corpus를 Tensor로 변환한다\n",
    "    tensor = tokenizer.texts_to_sequences(corpus)\n",
    "    # 입력 데이터의 시퀀스 길이를 일정하게 맞춰준다\n",
    "    # 만약 시퀀스가 짧다면 문장 뒤에 패딩을 붙여 길이를 맞춰준다\n",
    "    # 문장 앞에 패딩을 붙여 길이를 맞추고 싶다면 padding='pre'를 사용한다\n",
    "    tensor = tf.keras.preprocessing.sequence.pad_sequences(tensor, padding='post',maxlen=15) \n",
    "    return tensor, tokenizer\n",
    " \n",
    "tensor, tokenizer = tokenize(corpus)\n",
    "\n",
    "for idx in tokenizer.index_word:\n",
    "    print(idx, \":\", tokenizer.index_word[idx])\n",
    "    \n",
    "    if idx > 10: break;"
   ]
  },
  {
   "cell_type": "markdown",
   "id": "flexible-juvenile",
   "metadata": {},
   "source": [
    "# 평가 데이터셋 분리\n",
    "---"
   ]
  },
  {
   "cell_type": "code",
   "execution_count": 46,
   "id": "driven-expense",
   "metadata": {},
   "outputs": [
    {
     "name": "stdout",
     "output_type": "stream",
     "text": [
      "enc_train shape: (124768, 14)\n",
      "enc_val shape: (31192, 14)\n",
      "dec_train shape: (124768, 14)\n",
      "dec_val shape: (31192, 14)\n"
     ]
    }
   ],
   "source": [
    "from sklearn.model_selection import train_test_split\n",
    "\n",
    "enc_train, enc_val, dec_train, dec_val = train_test_split(tensor[:, :-1], tensor[:, 1:], test_size=0.2, shuffle=True, random_state=7)\n",
    "\n",
    "print(\"enc_train shape:\", enc_train.shape)\n",
    "print(\"enc_val shape:\", enc_val.shape)\n",
    "print(\"dec_train shape:\", dec_train.shape)\n",
    "print(\"dec_val shape:\", dec_val.shape)"
   ]
  },
  {
   "cell_type": "markdown",
   "id": "sized-egyptian",
   "metadata": {},
   "source": [
    "# train, val Dataset building\n",
    "---"
   ]
  },
  {
   "cell_type": "code",
   "execution_count": 47,
   "id": "alone-porcelain",
   "metadata": {},
   "outputs": [
    {
     "name": "stdout",
     "output_type": "stream",
     "text": [
      "train :  <BatchDataset shapes: ((256, 14), (256, 14)), types: (tf.int32, tf.int32)>\n",
      "val :  <BatchDataset shapes: ((256, 14), (256, 14)), types: (tf.int32, tf.int32)>\n"
     ]
    }
   ],
   "source": [
    "BUFFER_SIZE = len(enc_train)\n",
    "BATCH_SIZE = 256\n",
    "steps_per_epoch = len(enc_train) // BATCH_SIZE\n",
    "\n",
    "# tokenizer 가 구축한 단어사전 내 14000개, 여기 포함되지 않은 0:<pad>를 포함하여 120001개\n",
    "VOCAB_SIZE = tokenizer.num_words + 1\n",
    "\n",
    "# 준비한 데이터 소스로부터 데이터셋을 만듭니다\n",
    "# 데이터셋에 대해서는 아래 문서를 참고하세요\n",
    "# 자세히 알아둘수록 도움이 많이 되는 중요한 문서입니다\n",
    "# https://www.tensorflow.org/api_docs/python/tf/data/Dataset\n",
    "\n",
    "#train data 데이터셋화\n",
    "dataset_train = tf.data.Dataset.from_tensor_slices((enc_train, dec_train)).shuffle(BUFFER_SIZE)\n",
    "dataset_train = dataset_train.batch(BATCH_SIZE, drop_remainder=True)\n",
    "print('train : ', dataset_train)\n",
    "\n",
    "BUFFER_SIZE = len(enc_val)\n",
    "BATCH_SIZE = 256\n",
    "steps_per_epoch = len(enc_val) // BATCH_SIZE\n",
    "\n",
    "#val data 데이터셋화\n",
    "dataset_val = tf.data.Dataset.from_tensor_slices((enc_val, dec_val)).shuffle(BUFFER_SIZE)\n",
    "dataset_val = dataset_val.batch(BATCH_SIZE, drop_remainder=True)\n",
    "print('val : ', dataset_val)"
   ]
  },
  {
   "cell_type": "markdown",
   "id": "vital-orchestra",
   "metadata": {},
   "source": [
    "# 모델 만들기\n",
    "---"
   ]
  },
  {
   "cell_type": "code",
   "execution_count": 48,
   "id": "little-composition",
   "metadata": {},
   "outputs": [
    {
     "name": "stdout",
     "output_type": "stream",
     "text": [
      "<__main__.TextGenerator object at 0x7fd0642c1610>\n"
     ]
    }
   ],
   "source": [
    "class TextGenerator(tf.keras.Model):\n",
    "    def __init__(self, vocab_size, embedding_size, hidden_size):\n",
    "        super().__init__()\n",
    "        \n",
    "        # EMbedding 레이어는 이 인덱스 값을 해당 인덱스 번째의 워드 벡터로 바꿔준다.\n",
    "        self.embedding = tf.keras.layers.Embedding(vocab_size, embedding_size) # 워드 벡터의 차원수, 즉 단어가 추상적으로 표현되는 크기\n",
    "        self.rnn_1 = tf.keras.layers.LSTM(hidden_size, return_sequences=True) \n",
    "        self.rnn_2 = tf.keras.layers.LSTM(hidden_size, return_sequences=True)\n",
    "        self.linear = tf.keras.layers.Dense(vocab_size)\n",
    "        \n",
    "    def call(self, x):\n",
    "        out = self.embedding(x)\n",
    "        out = self.rnn_1(out)\n",
    "        out = self.rnn_2(out)\n",
    "        out = self.linear(out)\n",
    "        \n",
    "        return out\n",
    "    \n",
    "#embedding_size = 256\n",
    "#hidden_size = 1024\n",
    "embedding_size = 170\n",
    "hidden_size = 2048\n",
    "model = TextGenerator(tokenizer.num_words + 1, embedding_size, hidden_size)\n",
    "print(model)"
   ]
  },
  {
   "cell_type": "markdown",
   "id": "honey-magic",
   "metadata": {},
   "source": [
    "# 모델 학습\n",
    "---"
   ]
  },
  {
   "cell_type": "code",
   "execution_count": 49,
   "id": "surprising-thinking",
   "metadata": {},
   "outputs": [
    {
     "name": "stdout",
     "output_type": "stream",
     "text": [
      "Epoch 1/10\n",
      "487/487 [==============================] - 487s 961ms/step - loss: 3.9206 - val_loss: 2.9859\n",
      "Epoch 2/10\n",
      "487/487 [==============================] - 471s 968ms/step - loss: 2.8943 - val_loss: 2.7245\n",
      "Epoch 3/10\n",
      "487/487 [==============================] - 472s 969ms/step - loss: 2.5728 - val_loss: 2.5472\n",
      "Epoch 4/10\n",
      "487/487 [==============================] - 471s 967ms/step - loss: 2.2710 - val_loss: 2.4147\n",
      "Epoch 5/10\n",
      "487/487 [==============================] - 471s 968ms/step - loss: 1.9875 - val_loss: 2.3156\n",
      "Epoch 6/10\n",
      "487/487 [==============================] - 471s 967ms/step - loss: 1.7340 - val_loss: 2.2436\n",
      "Epoch 7/10\n",
      "487/487 [==============================] - 471s 967ms/step - loss: 1.5150 - val_loss: 2.1963\n",
      "Epoch 8/10\n",
      "487/487 [==============================] - 471s 966ms/step - loss: 1.3324 - val_loss: 2.1729\n",
      "Epoch 9/10\n",
      "487/487 [==============================] - 471s 967ms/step - loss: 1.1933 - val_loss: 2.1729\n",
      "Epoch 10/10\n",
      "487/487 [==============================] - 471s 967ms/step - loss: 1.0960 - val_loss: 2.1822\n"
     ]
    },
    {
     "data": {
      "text/plain": [
       "<tensorflow.python.keras.callbacks.History at 0x7fd07c0cf450>"
      ]
     },
     "execution_count": 49,
     "metadata": {},
     "output_type": "execute_result"
    }
   ],
   "source": [
    "optimizer = tf.keras.optimizers.Adam()\n",
    "loss = tf.keras.losses.SparseCategoricalCrossentropy(\n",
    "    from_logits=True,\n",
    "    reduction='none'\n",
    ")\n",
    "\n",
    "model.compile(loss=loss, optimizer=optimizer)\n",
    "model.fit(dataset_train, validation_data=dataset_val, epochs=10)\n"
   ]
  },
  {
   "cell_type": "code",
   "execution_count": 29,
   "id": "monetary-holmes",
   "metadata": {},
   "outputs": [],
   "source": [
    "def generate_text(model, tokenizer, init_sentence=\"<start>\", max_len=20):\n",
    "    # 테스트를 위해서 입력받은 init_sentence도 텐서로 변환합니다\n",
    "    test_input = tokenizer.texts_to_sequences([init_sentence])\n",
    "    test_tensor = tf.convert_to_tensor(test_input, dtype=tf.int64)\n",
    "    end_token = tokenizer.word_index[\"<end>\"]\n",
    "    \n",
    "    # 단어 하나씩 예측해 문장을 만듭니다.\n",
    "    #     1. 입력받은 문장의 텐서를 입력합니다\n",
    "    #     2. 예측된 값 중 가장 높은 확률인 word index를 뽑아냅니다\n",
    "    #     3. 2에서 예측된 word index를 문장 뒤에 붙입니다\n",
    "    #     4. 모델이 <end>를 예측했거나, max_len에 도달했다면 문장 생성을 마칩니다.\n",
    "    while True:\n",
    "        # 1\n",
    "        predict = model(test_tensor)\n",
    "        # 2\n",
    "        predict_word = tf.argmax(tf.nn.softmax(predict, axis=-1), axis=-1)[:, -1]\n",
    "        # 3\n",
    "        test_tensor = tf.concat([test_tensor, tf.expand_dims(predict_word, axis=0)], axis=-1)\n",
    "        # 4\n",
    "        if predict_word.numpy()[0] == end_token: break\n",
    "        if test_tensor.shape[1] >= max_len: break\n",
    "            \n",
    "    generated =\"\"\n",
    "    # tokenizer를 이용해 word index를 단어로 하나씩 변환한다\n",
    "    for word_index in test_tensor[0].numpy():\n",
    "        generated += tokenizer.index_word[word_index] + \" \"\n",
    "        \n",
    "    return generated"
   ]
  },
  {
   "cell_type": "markdown",
   "id": "regulated-spirituality",
   "metadata": {},
   "source": [
    "## TEST\n",
    "---"
   ]
  },
  {
   "cell_type": "code",
   "execution_count": 58,
   "id": "arctic-slide",
   "metadata": {},
   "outputs": [
    {
     "data": {
      "text/plain": [
       "'<start> i love you so , <end> '"
      ]
     },
     "execution_count": 58,
     "metadata": {},
     "output_type": "execute_result"
    }
   ],
   "source": [
    "generate_text(model, tokenizer, init_sentence=\"<start> i love\", max_len=20)"
   ]
  },
  {
   "cell_type": "code",
   "execution_count": 51,
   "id": "bottom-continuity",
   "metadata": {},
   "outputs": [
    {
     "data": {
      "text/plain": [
       "'<start> rain on me a million <end> '"
      ]
     },
     "execution_count": 51,
     "metadata": {},
     "output_type": "execute_result"
    }
   ],
   "source": [
    "generate_text(model, tokenizer, init_sentence=\"<start> rain\", max_len=20)"
   ]
  },
  {
   "cell_type": "code",
   "execution_count": 57,
   "id": "former-quantum",
   "metadata": {},
   "outputs": [
    {
     "data": {
      "text/plain": [
       "'<start> he sleep , he umm and he learns he he <end> '"
      ]
     },
     "execution_count": 57,
     "metadata": {},
     "output_type": "execute_result"
    }
   ],
   "source": [
    "generate_text(model, tokenizer, init_sentence=\"<start> he sleep\", max_len=20)"
   ]
  },
  {
   "cell_type": "code",
   "execution_count": 60,
   "id": "controversial-paraguay",
   "metadata": {},
   "outputs": [
    {
     "data": {
      "text/plain": [
       "'<start> she go make the crew you want to find me <end> '"
      ]
     },
     "execution_count": 60,
     "metadata": {},
     "output_type": "execute_result"
    }
   ],
   "source": [
    "generate_text(model, tokenizer, init_sentence=\"<start> she go\")"
   ]
  },
  {
   "cell_type": "code",
   "execution_count": 53,
   "id": "according-graduation",
   "metadata": {},
   "outputs": [
    {
     "data": {
      "text/plain": [
       "'<start> i hate you but i love you <end> '"
      ]
     },
     "execution_count": 53,
     "metadata": {},
     "output_type": "execute_result"
    }
   ],
   "source": [
    "generate_text(model, tokenizer, init_sentence=\"<start> i hate\")"
   ]
  },
  {
   "cell_type": "code",
   "execution_count": 54,
   "id": "narrative-socket",
   "metadata": {},
   "outputs": [
    {
     "data": {
      "text/plain": [
       "'<start> she like the way the dough fold up rolls roll up <end> '"
      ]
     },
     "execution_count": 54,
     "metadata": {},
     "output_type": "execute_result"
    }
   ],
   "source": [
    "generate_text(model, tokenizer, init_sentence=\"<start> she like\")"
   ]
  },
  {
   "cell_type": "code",
   "execution_count": 61,
   "id": "protected-cologne",
   "metadata": {},
   "outputs": [
    {
     "data": {
      "text/plain": [
       "'<start> he hate the way i walked out the door <end> '"
      ]
     },
     "execution_count": 61,
     "metadata": {},
     "output_type": "execute_result"
    }
   ],
   "source": [
    "generate_text(model, tokenizer, init_sentence=\"<start> he hate\")"
   ]
  },
  {
   "cell_type": "code",
   "execution_count": 62,
   "id": "loving-flower",
   "metadata": {},
   "outputs": [
    {
     "data": {
      "text/plain": [
       "'<start> he late as he <unk> <end> '"
      ]
     },
     "execution_count": 62,
     "metadata": {},
     "output_type": "execute_result"
    }
   ],
   "source": [
    "generate_text(model, tokenizer, init_sentence=\"<start> he late\")"
   ]
  },
  {
   "cell_type": "code",
   "execution_count": 63,
   "id": "qualified-columbia",
   "metadata": {},
   "outputs": [
    {
     "data": {
      "text/plain": [
       "'<start> back home in the back while a nigga <unk> <end> '"
      ]
     },
     "execution_count": 63,
     "metadata": {},
     "output_type": "execute_result"
    }
   ],
   "source": [
    "generate_text(model, tokenizer, init_sentence=\"<start> back home\")"
   ]
  },
  {
   "cell_type": "markdown",
   "id": "continuous-christmas",
   "metadata": {},
   "source": [
    "## 회고\n",
    "___"
   ]
  },
  {
   "cell_type": "markdown",
   "id": "matched-claim",
   "metadata": {},
   "source": [
    "- 이번 프로젝트에서 **어려웠던 점,**\n",
    "    * 학습 시간과의 싸움\n",
    "    * 문장의 완성도를 위해 데이터 전처리 과정(정규식, 토큰 15개 이상 삭제, 비어있는 문장 삭제 등등..)\n",
    "    * 단어장의 크기(num_words) 12000, 학습 횟수(epoch) 10회 이하, 학습 데이터 개수 124960 이하 조건으로 Validation loss 2.2 수치를 만들기가 매우 힘들었다.\n",
    "- 프로젝트를 진행하면서 **알아낸 점** 혹은 **아직 모호한 점**.\n",
    "    * NLP에서 전처리의 중요성, 학습 횟수, 하이퍼 파라미터의 중요성을 알았다. \n",
    "    * 하이퍼 파라미터를 너무 높게 설정 시, 시간도 오래 걸리게 되고 오버 피팅이 발생할 수 있다.\n",
    "    * 하이퍼 파라미터 (embedding_size, hidden_size) 모델 학습 과정에서 어떤식으로 구동되는지 모호하다.\n",
    "- 루브릭 평가 지표를 맞추기 위해 **시도한 것들**.\n",
    "    * 데이터 전처리 과정에서 문장의 완결성 및 학습 데이터 갯수의 조건을 맞추기 위해 정규화 이후 문장을 분석하면서 데이터 정규식 표현에서 여러가지를 시도했었다.\n",
    "    * 하이퍼 파라미터 (embedding_size, hidden_size) 를 조절해나가며 validation loss 2.2 이하로 맞추기 위해 노력하였다.\n",
    "- **자기 다짐**\n",
    "    * NLP에서 데이터 전처리 과정이 굉장히 중요하니 데이터 분석에 시간을 많이 투자하여 완벽한 데이터를 만든 후 모델링을 시작해야 된다.\n",
    "    * 다음부터는 내가 진행한 테스트에 대해 기록을 하면서 진행하도록 하자. (그래프로 표현하도록 해보자)"
   ]
  }
 ],
 "metadata": {
  "kernelspec": {
   "display_name": "Python 3",
   "language": "python",
   "name": "python3"
  },
  "language_info": {
   "codemirror_mode": {
    "name": "ipython",
    "version": 3
   },
   "file_extension": ".py",
   "mimetype": "text/x-python",
   "name": "python",
   "nbconvert_exporter": "python",
   "pygments_lexer": "ipython3",
   "version": "3.7.9"
  }
 },
 "nbformat": 4,
 "nbformat_minor": 5
}
