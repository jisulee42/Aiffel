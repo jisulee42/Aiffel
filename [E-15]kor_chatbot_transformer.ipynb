{
 "cells": [
  {
   "cell_type": "code",
   "execution_count": 1,
   "source": [
    "import tensorflow as tf\r\n",
    "import tensorflow_datasets as tfds\r\n",
    "import os\r\n",
    "import re\r\n",
    "import numpy as np\r\n",
    "import matplotlib.pyplot as plt\r\n",
    "import pandas as pd\r\n",
    "print(\"슝=3\")"
   ],
   "outputs": [
    {
     "output_type": "stream",
     "name": "stdout",
     "text": [
      "슝=3\n"
     ]
    }
   ],
   "metadata": {}
  },
  {
   "cell_type": "markdown",
   "source": [
    "# Step1. 데이터 수집하기\n",
    "---"
   ],
   "metadata": {
    "tags": []
   }
  },
  {
   "cell_type": "code",
   "execution_count": 2,
   "source": [
    "# 챗봇 데어티(KOR) 렁크\r\n",
    "# https://github.com/songys/Chatbot_data/blob/master/ChatbotData.csv\r\n",
    "chatbot_data = pd.read_csv('ChatbotData.csv')\r\n",
    "display(chatbot_data.head())\r\n",
    "# 기존 노드와는 다른 형태의 데이터이므로 기존 노드에서 제시한 데이터와 비슷한 형태로 변경해준다.\r\n",
    "# label은 일상다반서 0, 이별(부정) 1, 사랑(긍정) 2로 레이블링되는데 여기서는 사용하지 않는다.\r\n",
    "questions_arr = chatbot_data['Q'].values\r\n",
    "answers_arr = chatbot_data['A'].values\r\n",
    "\r\n",
    "print(questions_arr)\r\n",
    "print(answers_arr)"
   ],
   "outputs": [
    {
     "output_type": "display_data",
     "data": {
      "text/html": [
       "<div>\n",
       "<style scoped>\n",
       "    .dataframe tbody tr th:only-of-type {\n",
       "        vertical-align: middle;\n",
       "    }\n",
       "\n",
       "    .dataframe tbody tr th {\n",
       "        vertical-align: top;\n",
       "    }\n",
       "\n",
       "    .dataframe thead th {\n",
       "        text-align: right;\n",
       "    }\n",
       "</style>\n",
       "<table border=\"1\" class=\"dataframe\">\n",
       "  <thead>\n",
       "    <tr style=\"text-align: right;\">\n",
       "      <th></th>\n",
       "      <th>Q</th>\n",
       "      <th>A</th>\n",
       "      <th>label</th>\n",
       "    </tr>\n",
       "  </thead>\n",
       "  <tbody>\n",
       "    <tr>\n",
       "      <th>0</th>\n",
       "      <td>12시 땡!</td>\n",
       "      <td>하루가 또 가네요.</td>\n",
       "      <td>0</td>\n",
       "    </tr>\n",
       "    <tr>\n",
       "      <th>1</th>\n",
       "      <td>1지망 학교 떨어졌어</td>\n",
       "      <td>위로해 드립니다.</td>\n",
       "      <td>0</td>\n",
       "    </tr>\n",
       "    <tr>\n",
       "      <th>2</th>\n",
       "      <td>3박4일 놀러가고 싶다</td>\n",
       "      <td>여행은 언제나 좋죠.</td>\n",
       "      <td>0</td>\n",
       "    </tr>\n",
       "    <tr>\n",
       "      <th>3</th>\n",
       "      <td>3박4일 정도 놀러가고 싶다</td>\n",
       "      <td>여행은 언제나 좋죠.</td>\n",
       "      <td>0</td>\n",
       "    </tr>\n",
       "    <tr>\n",
       "      <th>4</th>\n",
       "      <td>PPL 심하네</td>\n",
       "      <td>눈살이 찌푸려지죠.</td>\n",
       "      <td>0</td>\n",
       "    </tr>\n",
       "  </tbody>\n",
       "</table>\n",
       "</div>"
      ],
      "text/plain": [
       "                 Q            A  label\n",
       "0           12시 땡!   하루가 또 가네요.      0\n",
       "1      1지망 학교 떨어졌어    위로해 드립니다.      0\n",
       "2     3박4일 놀러가고 싶다  여행은 언제나 좋죠.      0\n",
       "3  3박4일 정도 놀러가고 싶다  여행은 언제나 좋죠.      0\n",
       "4          PPL 심하네   눈살이 찌푸려지죠.      0"
      ]
     },
     "metadata": {}
    },
    {
     "output_type": "stream",
     "name": "stdout",
     "text": [
      "['12시 땡!' '1지망 학교 떨어졌어' '3박4일 놀러가고 싶다' ... '흑기사 해주는 짝남.'\n",
      " '힘든 연애 좋은 연애라는게 무슨 차이일까?' '힘들어서 결혼할까봐']\n",
      "['하루가 또 가네요.' '위로해 드립니다.' '여행은 언제나 좋죠.' ... '설렜겠어요.'\n",
      " '잘 헤어질 수 있는 사이 여부인 거 같아요.' '도피성 결혼은 하지 않길 바라요.']\n"
     ]
    }
   ],
   "metadata": {}
  },
  {
   "cell_type": "markdown",
   "source": [
    "# Step2. 데이터 전처리하기\n",
    "---"
   ],
   "metadata": {}
  },
  {
   "cell_type": "markdown",
   "source": [
    "영어 데이터와는 전혀 다른 데이터인 만큼 영어 데이터에 사용했던 전처리와 일부 동일한 전처리도 필요하겠지만 전체적으로는 다른 전처리를 수행해야 할 수도 있다."
   ],
   "metadata": {}
  },
  {
   "cell_type": "code",
   "execution_count": 3,
   "source": [
    "# 전처리 함수\r\n",
    "def preprocess_sentence(sentence):\r\n",
    "    sentence = sentence.lower().strip()\r\n",
    "\r\n",
    "    # 단어와 구두점(punctuation) 사이의 거리를 만듭니다.\r\n",
    "    # 예를 들어서 \"I am a student.\" => \"I am a student .\"와 같이\r\n",
    "    # student와 온점 사이에 거리를 만듭니다.\r\n",
    "    sentence = re.sub(r\"([?.!,])\", r\" \\1 \", sentence)\r\n",
    "    sentence = re.sub(r'[\" \"]+', \" \", sentence)\r\n",
    "\r\n",
    "    # (a-z, A-Z, \".\", \"?\", \"!\", \",\")를 제외한 모든 문자를 공백인 ' '로 대체합니다.\r\n",
    "    #sentence = re.sub(r\"[^a-zA-Z?.!,]+\", \" \", sentence)\r\n",
    "    sentence = re.sub(r\"[^ㄱ-ㅣ가-힣a-zA-Z0-9?.!,]+\", \" \", sentence)\r\n",
    "    sentence = sentence.strip()\r\n",
    "    return sentence\r\n",
    "print(\"슝=3\")"
   ],
   "outputs": [
    {
     "output_type": "stream",
     "name": "stdout",
     "text": [
      "슝=3\n"
     ]
    }
   ],
   "metadata": {}
  },
  {
   "cell_type": "markdown",
   "source": [
    "영어 데이터와 형식이 달라 질문과 답변 데이터셋 구성하기 위한 함수(load_conversations)를 수정하였다."
   ],
   "metadata": {}
  },
  {
   "cell_type": "code",
   "execution_count": 4,
   "source": [
    "def load_conversations():\r\n",
    "    inputs, outputs = [], []\r\n",
    "    \r\n",
    "    for i in questions_arr:\r\n",
    "        inputs.append(preprocess_sentence(i))\r\n",
    "        \r\n",
    "    for i in answers_arr:\r\n",
    "        outputs.append(preprocess_sentence(i))\r\n",
    "        \r\n",
    "    return inputs, outputs\r\n",
    "print(\"슝=3\")"
   ],
   "outputs": [
    {
     "output_type": "stream",
     "name": "stdout",
     "text": [
      "슝=3\n"
     ]
    }
   ],
   "metadata": {}
  },
  {
   "cell_type": "markdown",
   "source": [
    "질문과 답변이 병렬적으로 잘 저장은 되었는지, 그리고 전처리 함수에서 의도했던 전처리가 진행되었는지 확인해보자.(실제 데이터와 확인해보면 좀더 명확힐 파악할 수 있다.)"
   ],
   "metadata": {}
  },
  {
   "cell_type": "code",
   "execution_count": 5,
   "source": [
    "questions, answers = load_conversations()\r\n",
    "\r\n",
    "print('Q : ', questions[32])\r\n",
    "print('A : ', answers[32])\r\n",
    "\r\n",
    "print('Q : ', questions[20])\r\n",
    "print('A : ', answers[20])"
   ],
   "outputs": [
    {
     "output_type": "stream",
     "name": "stdout",
     "text": [
      "Q :  가족들이랑 어디 가지 ?\n",
      "A :  온 가족이 모두 마음에 드는 곳으로 가보세요 .\n",
      "Q :  가스비 비싼데 감기 걸리겠어\n",
      "A :  따뜻하게 사세요 !\n"
     ]
    }
   ],
   "metadata": {}
  },
  {
   "cell_type": "markdown",
   "source": [
    "# Step3. SubwordTextEncoder 사용하기\n",
    "---"
   ],
   "metadata": {
    "tags": []
   }
  },
  {
   "cell_type": "markdown",
   "source": [
    "* **작업 진행 순서**\n",
    "    * TensorFlow Datasets SubwordTextEncoder를 토크나이저로 사용한다.   \n",
    "    단어보다 더 작은 단위인 Subword를 기준으로 토크나이징하고,  각 토큰을 고유한 정수로 인코딩한다.\n",
    "    * 각 문장을 토큰화하고 각 문장의 시작과 끝을 나타내는 START_TOKEN 및 END_TOKEN을 추가한다.\n",
    "    * 최대 길이 MAX_LENGTH인 40을 넘는 문장들은 필터링한다.\n",
    "    * MAX_LENGTH보다 길이가 짧은 문장들은 40에 맞도록 패딩 한다."
   ],
   "metadata": {}
  },
  {
   "cell_type": "markdown",
   "source": [
    "## 단어장 만들기"
   ],
   "metadata": {}
  },
  {
   "cell_type": "code",
   "execution_count": 6,
   "source": [
    "import tensorflow_datasets as tfds\r\n",
    "print(\"살짝 오래 걸릴 수 있어요. 스트레칭 한 번 해볼까요? 👐\")\r\n",
    "\r\n",
    "# 질문과 답변 데이터셋에 대해서 Vocabulary 생성. (Tensorflow 2.3.0 이상) (클라우드는 2.4 입니다)\r\n",
    "tokenizer = tfds.deprecated.text.SubwordTextEncoder.build_from_corpus(questions + answers, target_vocab_size=2**13)\r\n",
    "#tokenizer = tfds.features.text.SubwordTextEncoder.build_from_corpus(questions + answers, target_vocab_size=2**13) #Tensorflow 2.2.0 이하 버전\r\n",
    "print(\"슝=3 \")"
   ],
   "outputs": [
    {
     "output_type": "stream",
     "name": "stdout",
     "text": [
      "살짝 오래 걸릴 수 있어요. 스트레칭 한 번 해볼까요? 👐\n",
      "슝=3 \n"
     ]
    }
   ],
   "metadata": {}
  },
  {
   "cell_type": "markdown",
   "source": [
    "디코더의 문장 생성 과정에서 사용할 '시작 토큰'과 '종료 토큰'에 대해서도 임의로 단어장에 추가하여 정수를 부여해준다.   \n",
    "기존 생성된 단어장의 번호와 겹치지 않도록 각각 단어장의 크기보다 1이 큰 수를 번호로 부여하자."
   ],
   "metadata": {}
  },
  {
   "cell_type": "code",
   "execution_count": 7,
   "source": [
    "# 시작 토큰과 종료 토큰에 고유한 정수를 부여하자.\r\n",
    "START_TOKEN, END_TOKEN = [tokenizer.vocab_size], [tokenizer.vocab_size+1]\r\n",
    "print('START_TOKEN의 번호 : ', [tokenizer.vocab_size])\r\n",
    "print('END_TOKEN의 번호 : ', [tokenizer.vocab_size+1])\r\n",
    "\r\n",
    "# 시작 토큰과 종료 토큰을 고려하여 +2를 하여 단어장의 크기를 산정하자.\r\n",
    "VOCAB_SIZE = tokenizer.vocab_size + 2\r\n",
    "print(VOCAB_SIZE)"
   ],
   "outputs": [
    {
     "output_type": "stream",
     "name": "stdout",
     "text": [
      "START_TOKEN의 번호 :  [8170]\n",
      "END_TOKEN의 번호 :  [8171]\n",
      "8172\n"
     ]
    }
   ],
   "metadata": {}
  },
  {
   "cell_type": "markdown",
   "source": [
    "## 각 단어를 고유한 정수로 인코딩(Integer encoding) & 패딩(Padding)"
   ],
   "metadata": {}
  },
  {
   "cell_type": "markdown",
   "source": [
    "tensorflow_datasets의 SubwordTextEncoder를 사용해 tokenizer를 정의하고 단어장을 만들었다면, tokenizer.encode()로 각 단어를 정수로 변환할 수 있고 또는 tokenizer.decode()를 통해 정수시퀀스를 단어 시퀀스로 변환할 수 있다."
   ],
   "metadata": {}
  },
  {
   "cell_type": "code",
   "execution_count": 8,
   "source": [
    "# 임의의 22번째 샘플에 대해서 정수 인코딩 작업을 수행.\r\n",
    "# 각 토큰을 고유한 정수로 변환\r\n",
    "\r\n",
    "print('정수 인코딩 후의 21번째 질문 샘플: {}'.format(tokenizer.encode(questions[21])))\r\n",
    "print('정수 인코딩 후의 21번째 답변 샘플: {}'.format(tokenizer.encode(answers[21])))"
   ],
   "outputs": [
    {
     "output_type": "stream",
     "name": "stdout",
     "text": [
      "정수 인코딩 후의 21번째 질문 샘플: [5761, 610, 2490, 4163]\n",
      "정수 인코딩 후의 21번째 답변 샘플: [2356, 7510, 7, 6273, 97, 1]\n"
     ]
    }
   ],
   "metadata": {}
  },
  {
   "cell_type": "code",
   "execution_count": 9,
   "source": [
    "questions_len = [len(s.split()) for s in questions]\r\n",
    "answers_len = [len(s.split()) for s in answers]\r\n",
    "\r\n",
    "print('Questions 최대 길이 : {}'.format(np.max(questions_len)))\r\n",
    "print('Answers 최대 길이 : {}'.format(np.max(answers_len)))"
   ],
   "outputs": [
    {
     "output_type": "stream",
     "name": "stdout",
     "text": [
      "Questions 최대 길이 : 16\n",
      "Answers 최대 길이 : 24\n"
     ]
    }
   ],
   "metadata": {}
  },
  {
   "cell_type": "markdown",
   "source": [
    "질문과 답변 셋에 대해서 전부 정수 인코딩을 수행하고 문장의 최대 길이 및 해당 최대 길이로 패딩한다."
   ],
   "metadata": {}
  },
  {
   "cell_type": "code",
   "execution_count": 10,
   "source": [
    "# 샘플의 최대 허용 길이 또는 패딩 후의 최종 길이\r\n",
    "MAX_LENGTH = 24\r\n",
    "\r\n",
    "# 정수 인코딩, 최대 길이를 초과하는 샘플 제거, 패딩\r\n",
    "def tokenize_and_filter(inputs, outputs):\r\n",
    "    tokenized_inputs, tokenized_outputs = [], []\r\n",
    "  \r\n",
    "    for (sentence1, sentence2) in zip(inputs, outputs):\r\n",
    "    # 정수 인코딩 과정에서 시작 토큰과 종료 토큰을 추가\r\n",
    "        sentence1 = START_TOKEN + tokenizer.encode(sentence1) + END_TOKEN\r\n",
    "        sentence2 = START_TOKEN + tokenizer.encode(sentence2) + END_TOKEN\r\n",
    "\r\n",
    "    # 최대 길이 24 이하인 경우에만 데이터셋으로 허용\r\n",
    "        if len(sentence1) <= MAX_LENGTH and len(sentence2) <= MAX_LENGTH:\r\n",
    "            tokenized_inputs.append(sentence1)\r\n",
    "            tokenized_outputs.append(sentence2)\r\n",
    "  \r\n",
    "    # 최대 길이 24 모든 데이터셋을 패딩\r\n",
    "    tokenized_inputs = tf.keras.preprocessing.sequence.pad_sequences(\r\n",
    "        tokenized_inputs, maxlen=MAX_LENGTH, padding='post')\r\n",
    "    tokenized_outputs = tf.keras.preprocessing.sequence.pad_sequences(\r\n",
    "        tokenized_outputs, maxlen=MAX_LENGTH, padding='post')\r\n",
    "  \r\n",
    "    return tokenized_inputs, tokenized_outputs\r\n",
    "print(\"슝=3\")"
   ],
   "outputs": [
    {
     "output_type": "stream",
     "name": "stdout",
     "text": [
      "슝=3\n"
     ]
    }
   ],
   "metadata": {}
  },
  {
   "cell_type": "markdown",
   "source": [
    "정수 인코딩 과정을 수행하면서 샘플의 길이를 40으로 제한하였지만 해당 데이터에는 샘플의 길이가 40이 넘는 데이터가 없으므로 길이가 유지되었다."
   ],
   "metadata": {}
  },
  {
   "cell_type": "code",
   "execution_count": 11,
   "source": [
    "questions, answers = tokenize_and_filter(questions, answers)\r\n",
    "print('단어장의 크기 :',(VOCAB_SIZE))\r\n",
    "print('필터링 후의 질문 샘플 개수: {}'.format(len(questions)))\r\n",
    "print('필터링 후의 답변 샘플 개수: {}'.format(len(answers)))"
   ],
   "outputs": [
    {
     "output_type": "stream",
     "name": "stdout",
     "text": [
      "단어장의 크기 : 8172\n",
      "필터링 후의 질문 샘플 개수: 11815\n",
      "필터링 후의 답변 샘플 개수: 11815\n"
     ]
    }
   ],
   "metadata": {}
  },
  {
   "cell_type": "markdown",
   "source": [
    "## 교사 강요(Teacher Forcing)사용하기"
   ],
   "metadata": {}
  },
  {
   "cell_type": "markdown",
   "source": [
    "교사 강요(teacher forcing)란, 테스트 과정에서 t 시점의 출력이 t+1 시점의 입력으로 사용되는 RNN 모델을 훈련시킬 때 사용하는 훈련 기법이다.\n",
    "\n",
    "훈련할 때 교사 강요를 사용할 경우, 모델이 t 시점에서 예측한 값을 t+1 시점에 입력으로 사용하지 않고, t 시점의 레이블. 즉, 실제 알고있는 정답을 t+1 시점의 입력으로 사용한다.\n",
    "\n",
    "[위키독스 https://wikidocs.net/46496](https://wikidocs.net/46496)"
   ],
   "metadata": {}
  },
  {
   "cell_type": "code",
   "execution_count": 12,
   "source": [
    "BATCH_SIZE = 64\r\n",
    "BUFFER_SIZE = 20000\r\n",
    "\r\n",
    "# 디코더는 이전의 target을 다음의 input으로 사용합니다.\r\n",
    "# 이에 따라 outputs에서는 START_TOKEN을 제거하겠습니다.\r\n",
    "dataset = tf.data.Dataset.from_tensor_slices((\r\n",
    "    {\r\n",
    "        'inputs': questions,\r\n",
    "        'dec_inputs': answers[:, :-1]\r\n",
    "    },\r\n",
    "    {\r\n",
    "        'outputs': answers[:, 1:]\r\n",
    "    },\r\n",
    "))\r\n",
    "\r\n",
    "dataset = dataset.cache()\r\n",
    "dataset = dataset.shuffle(BUFFER_SIZE)\r\n",
    "dataset = dataset.batch(BATCH_SIZE)\r\n",
    "dataset = dataset.prefetch(tf.data.experimental.AUTOTUNE)\r\n",
    "print(\"슝=3\")"
   ],
   "outputs": [
    {
     "output_type": "stream",
     "name": "stdout",
     "text": [
      "슝=3\n"
     ]
    }
   ],
   "metadata": {}
  },
  {
   "cell_type": "markdown",
   "source": [
    "# Step4. 모델 구성하기\n",
    "---"
   ],
   "metadata": {}
  },
  {
   "cell_type": "markdown",
   "source": [
    "## 포지셔널 인코딩 레이어"
   ],
   "metadata": {}
  },
  {
   "cell_type": "markdown",
   "source": [
    "이전 실습 과정등을 통해 모델을 구성해보자.   \r\n",
    "트랜스포머는 단어를 한개씩 순차적으로 받는게 아니라 문장에 있는 단어 전체를 한꺼번에 입력으로 받기 때문에 각 단어가 문장의 몇번째 어순으로 입력되었는지를 모델에 추가로 알려주기 위해, 단어의 임베딩 벡터에다가 위치 정보를 가진 벡터값을 더해서 모델의 입력으로 한다.   \r\n",
    "포지셔널 인코딩층을 만들어보자."
   ],
   "metadata": {}
  },
  {
   "cell_type": "code",
   "execution_count": 13,
   "source": [
    "# 포지셔널 인코딩 레이어\r\n",
    "class PositionalEncoding(tf.keras.layers.Layer):\r\n",
    "\r\n",
    "    def __init__(self, position, d_model):\r\n",
    "        super(PositionalEncoding, self).__init__()\r\n",
    "        self.pos_encoding = self.positional_encoding(position, d_model)\r\n",
    "\r\n",
    "    def get_angles(self, position, i, d_model):\r\n",
    "        angles = 1 / tf.pow(10000, (2 * (i // 2)) / tf.cast(d_model, tf.float32))\r\n",
    "        return position * angles\r\n",
    "\r\n",
    "    def positional_encoding(self, position, d_model):\r\n",
    "      # 각도 배열 생성\r\n",
    "        angle_rads = self.get_angles(\r\n",
    "            position=tf.range(position, dtype=tf.float32)[:, tf.newaxis],\r\n",
    "            i=tf.range(d_model, dtype=tf.float32)[tf.newaxis, :],\r\n",
    "            d_model=d_model)\r\n",
    "\r\n",
    "        # 배열의 짝수 인덱스에는 sin 함수 적용\r\n",
    "        sines = tf.math.sin(angle_rads[:, 0::2])\r\n",
    "         # 배열의 홀수 인덱스에는 cosine 함수 적용\r\n",
    "        cosines = tf.math.cos(angle_rads[:, 1::2])\r\n",
    "\r\n",
    "         # sin과 cosine이 교차되도록 재배열\r\n",
    "        pos_encoding = tf.stack([sines, cosines], axis=0)\r\n",
    "        pos_encoding = tf.transpose(pos_encoding,[1, 2, 0]) \r\n",
    "        pos_encoding = tf.reshape(pos_encoding, [position, d_model])\r\n",
    "\r\n",
    "        pos_encoding = pos_encoding[tf.newaxis, ...]\r\n",
    "        return tf.cast(pos_encoding, tf.float32)\r\n",
    "\r\n",
    "    def call(self, inputs):\r\n",
    "        return inputs + self.pos_encoding[:, :tf.shape(inputs)[1], :]\r\n",
    "\r\n",
    "print(\"슝=3\")"
   ],
   "outputs": [
    {
     "output_type": "stream",
     "name": "stdout",
     "text": [
      "슝=3\n"
     ]
    }
   ],
   "metadata": {}
  },
  {
   "cell_type": "code",
   "execution_count": 14,
   "source": [
    "sample_pos_encoding = PositionalEncoding(50, 512)\r\n",
    "\r\n",
    "plt.pcolormesh(sample_pos_encoding.pos_encoding.numpy()[0], cmap='RdBu')\r\n",
    "plt.xlabel('Depth')\r\n",
    "plt.xlim((0, 512))\r\n",
    "plt.ylabel('Position')\r\n",
    "plt.colorbar()\r\n",
    "plt.show()"
   ],
   "outputs": [
    {
     "output_type": "display_data",
     "data": {
      "image/png": "[encoded data removed]",
      "text/plain": [
       "<Figure size 432x288 with 2 Axes>"
      ]
     },
     "metadata": {
      "needs_background": "light"
     }
    }
   ],
   "metadata": {}
  },
  {
   "cell_type": "markdown",
   "source": [
    "## 스케일드 닷 프로덕트 어텐션\r\n",
    "\r\n",
    "단어들 간의 유사도를 구하는 메커니즘을 어텐션이라 한다. 어텐션 함수는 주어진 쿼리에 대해서 모든 키와의 유사도를 각각 구한다. 그리고 구해낸 이 유사도를 키와 맵핑되어있는 각각의 값에 반영해준다. 이 유사도가 반영된 값을 모두 더해주면 어텐션 값을 구할 수 있다.\r\n",
    "내적을 통해 단어 벡터 간 유사도를 구한 후에, 특정 값을 분모로 나눠주는 방식으로 Q와 K의 유사도를 구한 것이다."
   ],
   "metadata": {}
  },
  {
   "cell_type": "code",
   "execution_count": 15,
   "source": [
    "# 스케일드 닷 프로덕트 어텐션 함수\r\n",
    "def scaled_dot_product_attention(query, key, value, mask):\r\n",
    "    # 어텐션 가중치는 Q와 K의 닷 프로덕트\r\n",
    "    matmul_qk = tf.matmul(query, key, transpose_b=True)\r\n",
    "    \r\n",
    "    # 가중치를 정규화\r\n",
    "    depth = tf.cast(tf.shape(key)[-1], tf.float32)\r\n",
    "    logits = matmul_qk / tf.math.sqrt(depth)\r\n",
    "    \r\n",
    "    # 패딩에 마스크 추가\r\n",
    "    if mask is not None:\r\n",
    "        logits += (mask * -1e9)\r\n",
    "        \r\n",
    "    # softmax 적용\r\n",
    "    attention_weights = tf.nn.softmax(logits, axis=-1)\r\n",
    "    \r\n",
    "    # 최종 어텐션은 가중치와 V의 닷 프로덕트\r\n",
    "    output = tf.matmul(attention_weights, value)\r\n",
    "    return output\r\n",
    "\r\n",
    "print(\"슝=3\")"
   ],
   "outputs": [
    {
     "output_type": "stream",
     "name": "stdout",
     "text": [
      "슝=3\n"
     ]
    }
   ],
   "metadata": {}
  },
  {
   "cell_type": "markdown",
   "source": [
    "## 멀티 헤드 어텐션"
   ],
   "metadata": {}
  },
  {
   "cell_type": "markdown",
   "source": [
    "어텐션을 병렬로 수행하는 것을 멀티 헤드 어텐션이라 부른다."
   ],
   "metadata": {}
  },
  {
   "cell_type": "code",
   "execution_count": 16,
   "source": [
    "class MultiHeadAttention(tf.keras.layers.Layer):\r\n",
    "\r\n",
    "    def __init__(self, d_model, num_heads, name=\"multi_head_attention\"):\r\n",
    "        super(MultiHeadAttention, self).__init__(name=name)\r\n",
    "        self.num_heads = num_heads\r\n",
    "        self.d_model = d_model\r\n",
    "\r\n",
    "        assert d_model % self.num_heads == 0\r\n",
    "\r\n",
    "        self.depth = d_model // self.num_heads\r\n",
    "\r\n",
    "        self.query_dense = tf.keras.layers.Dense(units=d_model)\r\n",
    "        self.key_dense = tf.keras.layers.Dense(units=d_model)\r\n",
    "        self.value_dense = tf.keras.layers.Dense(units=d_model)\r\n",
    "\r\n",
    "        self.dense = tf.keras.layers.Dense(units=d_model)\r\n",
    "\r\n",
    "    def split_heads(self, inputs, batch_size):\r\n",
    "        inputs = tf.reshape(\r\n",
    "            inputs, shape=(batch_size, -1, self.num_heads, self.depth))\r\n",
    "        return tf.transpose(inputs, perm=[0, 2, 1, 3])\r\n",
    "\r\n",
    "    def call(self, inputs):\r\n",
    "        query, key, value, mask = inputs['query'], inputs['key'], inputs['value'], inputs['mask']\r\n",
    "        batch_size = tf.shape(query)[0]\r\n",
    "\r\n",
    "        # Q, K, V에 각각 Dense를 적용합니다\r\n",
    "        query = self.query_dense(query)\r\n",
    "        key = self.key_dense(key)\r\n",
    "        value = self.value_dense(value)\r\n",
    "\r\n",
    "        # 병렬 연산을 위한 머리를 여러 개 만듭니다\r\n",
    "        query = self.split_heads(query, batch_size)\r\n",
    "        key = self.split_heads(key, batch_size)\r\n",
    "        value = self.split_heads(value, batch_size)\r\n",
    "\r\n",
    "        # 스케일드 닷 프로덕트 어텐션 함수\r\n",
    "        scaled_attention = scaled_dot_product_attention(query, key, value, mask)\r\n",
    "\r\n",
    "        scaled_attention = tf.transpose(scaled_attention, perm=[0, 2, 1, 3])\r\n",
    "\r\n",
    "        # 어텐션 연산 후에 각 결과를 다시 연결(concatenate)합니다\r\n",
    "        concat_attention = tf.reshape(scaled_attention,\r\n",
    "                                      (batch_size, -1, self.d_model))\r\n",
    "\r\n",
    "        # 최종 결과에도 Dense를 한 번 더 적용합니다\r\n",
    "        outputs = self.dense(concat_attention)\r\n",
    "\r\n",
    "        return outputs\r\n",
    "    \r\n",
    "print(\"슝=3\")"
   ],
   "outputs": [
    {
     "output_type": "stream",
     "name": "stdout",
     "text": [
      "슝=3\n"
     ]
    }
   ],
   "metadata": {}
  },
  {
   "cell_type": "markdown",
   "source": [
    "## 마스킹\r\n",
    "\r\n",
    "마스킹이란 특정 값들을 가려 실제 연산에 방해가 되지 않도록 하는 기법이다.   \r\n",
    "트랜스포머에서는 2가지를 사용한다.\r\n",
    "\r\n",
    "* 패딩 마스킹\r\n",
    "  * 문장의 길이가 서로 다를 때, 모든 문장의 길이를 동일하게 해주기 위해 정해진 길이보다 짧은 문장은 숫자 0 을 채워서 문장의 길이를 맞춰준다.\r\n",
    "* 룩 어헤드 마스킹(다음 단어 가리기)\r\n",
    "  * 트랜스포머 같은 경우 한번에 한 단어가 아닌 한 문장이 입력으로 사용 되기 때문에 decoder층에서 위치와 상관없이 모든 단어를 참고에서 다음 단어를 예측할 수 있다.   \r\n",
    "    (우리는 이전 단어들을 바탕으로 다음 단어를 예측해야 한다!)\r\n",
    "  * 그걸 막기 위해 사용한다."
   ],
   "metadata": {}
  },
  {
   "cell_type": "code",
   "execution_count": 17,
   "source": [
    "def create_padding_mask(x):\r\n",
    "    mask = tf.cast(tf.math.equal(x, 0), tf.float32)\r\n",
    "    # (batch_size, 1, 1, sequence length)\r\n",
    "    return mask[:, tf.newaxis, tf.newaxis, :]\r\n",
    "print(\"슝=3\")"
   ],
   "outputs": [
    {
     "output_type": "stream",
     "name": "stdout",
     "text": [
      "슝=3\n"
     ]
    }
   ],
   "metadata": {}
  },
  {
   "cell_type": "code",
   "execution_count": 18,
   "source": [
    "def create_look_ahead_mask(x):\r\n",
    "    seq_len = tf.shape(x)[1]\r\n",
    "    look_ahead_mask = 1 - tf.linalg.band_part(tf.ones((seq_len, seq_len)), -1, 0)\r\n",
    "    padding_mask = create_padding_mask(x)\r\n",
    "    return tf.maximum(look_ahead_mask, padding_mask)\r\n",
    "print(\"슝=3\")"
   ],
   "outputs": [
    {
     "output_type": "stream",
     "name": "stdout",
     "text": [
      "슝=3\n"
     ]
    }
   ],
   "metadata": {}
  },
  {
   "cell_type": "markdown",
   "source": [
    "## 인코더\r\n",
    "\r\n",
    "하나의 인코더 층은 총 2개의 서브층으로 나누어 진다.   \r\n",
    "바로 셀프 어텐션과 피드 포워드 신경망이다."
   ],
   "metadata": {}
  },
  {
   "cell_type": "code",
   "execution_count": 19,
   "source": [
    "# 인코더 하나의 레이어를 함수로 구현.\r\n",
    "# 이 하나의 레이어 안에는 두 개의 서브 레이어가 존재합니다.\r\n",
    "def encoder_layer(units, d_model, num_heads, dropout, name=\"encoder_layer\"):\r\n",
    "    inputs = tf.keras.Input(shape=(None, d_model), name=\"inputs\")\r\n",
    "\r\n",
    "    # 패딩 마스크 사용\r\n",
    "    padding_mask = tf.keras.Input(shape=(1, 1, None), name=\"padding_mask\")\r\n",
    "\r\n",
    "    # 첫 번째 서브 레이어 : 멀티 헤드 어텐션 수행 (셀프 어텐션)\r\n",
    "    attention = MultiHeadAttention(\r\n",
    "        d_model, num_heads, name=\"attention\")({\r\n",
    "            'query': inputs,\r\n",
    "            'key': inputs,\r\n",
    "            'value': inputs,\r\n",
    "            'mask': padding_mask\r\n",
    "        })\r\n",
    "\r\n",
    "    # 어텐션의 결과는 Dropout과 Layer Normalization이라는 훈련을 돕는 테크닉을 수행\r\n",
    "    attention = tf.keras.layers.Dropout(rate=dropout)(attention)\r\n",
    "    attention = tf.keras.layers.LayerNormalization(\r\n",
    "        epsilon=1e-6)(inputs + attention)\r\n",
    "\r\n",
    "    # 두 번째 서브 레이어 : 2개의 완전연결층\r\n",
    "    outputs = tf.keras.layers.Dense(units=units, activation='relu')(attention)\r\n",
    "    outputs = tf.keras.layers.Dense(units=d_model)(outputs)\r\n",
    "\r\n",
    "    # 완전연결층의 결과는 Dropout과 LayerNormalization이라는 훈련을 돕는 테크닉을 수행\r\n",
    "    outputs = tf.keras.layers.Dropout(rate=dropout)(outputs)\r\n",
    "    outputs = tf.keras.layers.LayerNormalization(\r\n",
    "        epsilon=1e-6)(attention + outputs)\r\n",
    "\r\n",
    "    return tf.keras.Model(\r\n",
    "        inputs=[inputs, padding_mask], outputs=outputs, name=name)\r\n",
    "print(\"슝=3\")"
   ],
   "outputs": [
    {
     "output_type": "stream",
     "name": "stdout",
     "text": [
      "슝=3\n"
     ]
    }
   ],
   "metadata": {}
  },
  {
   "cell_type": "markdown",
   "source": [
    "임베딩 층과 포지셔널 인코딩을 연결하고, 사용자가 원하는 만큼(num_layers) 인코더 층을 쌓음으로써 트랜스 포머의 인코더가 완성된다."
   ],
   "metadata": {}
  },
  {
   "cell_type": "code",
   "execution_count": 20,
   "source": [
    "def encoder(vocab_size, num_layers, units, d_model, num_heads, dropout, name=\"encoder\"):\r\n",
    "    inputs = tf.keras.Input(shape=(None,), name=\"inputs\")\r\n",
    "    \r\n",
    "    # 패딩 마스크 사용\r\n",
    "    padding_mask = tf.keras.Input(shape=(1,1,None), name=\"padding_mask\")\r\n",
    "    \r\n",
    "    # 임베딩 레이어\r\n",
    "    embeddings = tf.keras.layers.Embedding(vocab_size, d_model)(inputs)\r\n",
    "    embeddings *= tf.math.sqrt(tf.cast(d_model, tf.float32))\r\n",
    "    \r\n",
    "    # 포지셔널 인코딩\r\n",
    "    embeddings = PositionalEncoding(vocab_size, d_model)(embeddings)\r\n",
    "    \r\n",
    "    outputs = tf.keras.layers.Dropout(rate=dropout)(embeddings)\r\n",
    "    \r\n",
    "    # num_layers 만큼 쌓아올린 인코더의 층.\r\n",
    "    for i in range(num_layers):\r\n",
    "        outputs = encoder_layer(\r\n",
    "            units=units,\r\n",
    "            d_model=d_model,\r\n",
    "            num_heads=num_heads,\r\n",
    "            dropout=dropout,\r\n",
    "            name=\"encoder_layer_{}\".format(i),\r\n",
    "        )([outputs, padding_mask])\r\n",
    "        \r\n",
    "    return tf.keras.Model(\r\n",
    "        inputs=[inputs, padding_mask], outputs=outputs, name=name)\r\n",
    "\r\n",
    "print(\"슝=3\")"
   ],
   "outputs": [
    {
     "output_type": "stream",
     "name": "stdout",
     "text": [
      "슝=3\n"
     ]
    }
   ],
   "metadata": {}
  },
  {
   "cell_type": "markdown",
   "source": [
    "## 디코더\r\n",
    "\r\n",
    "디코더는 세 개의 서브층으로 구성된다.   \r\n",
    "셀프 어텐션, 인코더-디코더 어텐션 두개의 어텐션 모두 스케일드 닷 프로덕트 어텐션을 멀티 헤드 어텐션으로 병렬적으로 수행한다."
   ],
   "metadata": {}
  },
  {
   "cell_type": "code",
   "execution_count": 21,
   "source": [
    "# 디코더 하나의 레이어를 함수로 구현.\r\n",
    "# 이 하나의 레이어 안에는 세 개의 서브 레이어가 존재합니다.\r\n",
    "def decoder_layer(units, d_model, num_heads, dropout, name=\"decoder_layer\"):\r\n",
    "    inputs = tf.keras.Input(shape=(None, d_model), name=\"inputs\")\r\n",
    "    enc_outputs = tf.keras.Input(shape=(None, d_model), name=\"encoder_outputs\")\r\n",
    "    look_ahead_mask = tf.keras.Input(\r\n",
    "        shape=(1, None, None), name=\"look_ahead_mask\")\r\n",
    "    padding_mask = tf.keras.Input(shape=(1, 1, None), name='padding_mask')\r\n",
    "\r\n",
    "    # 첫 번째 서브 레이어 : 멀티 헤드 어텐션 수행 (셀프 어텐션)\r\n",
    "    attention1 = MultiHeadAttention(\r\n",
    "        d_model, num_heads, name=\"attention_1\")(inputs={\r\n",
    "            'query': inputs,\r\n",
    "            'key': inputs,\r\n",
    "            'value': inputs,\r\n",
    "            'mask': look_ahead_mask\r\n",
    "        })\r\n",
    "\r\n",
    "    # 멀티 헤드 어텐션의 결과는 LayerNormalization이라는 훈련을 돕는 테크닉을 수행\r\n",
    "    attention1 = tf.keras.layers.LayerNormalization(\r\n",
    "        epsilon=1e-6)(attention1 + inputs)\r\n",
    "\r\n",
    "    # 두 번째 서브 레이어 : 마스크드 멀티 헤드 어텐션 수행 (인코더-디코더 어텐션)\r\n",
    "    attention2 = MultiHeadAttention(\r\n",
    "        d_model, num_heads, name=\"attention_2\")(inputs={\r\n",
    "            'query': attention1,\r\n",
    "            'key': enc_outputs,\r\n",
    "            'value': enc_outputs,\r\n",
    "            'mask': padding_mask\r\n",
    "        })\r\n",
    "\r\n",
    "    # 마스크드 멀티 헤드 어텐션의 결과는\r\n",
    "    # Dropout과 LayerNormalization이라는 훈련을 돕는 테크닉을 수행\r\n",
    "    attention2 = tf.keras.layers.Dropout(rate=dropout)(attention2)\r\n",
    "    attention2 = tf.keras.layers.LayerNormalization(\r\n",
    "        epsilon=1e-6)(attention2 + attention1)\r\n",
    "\r\n",
    "    # 세 번째 서브 레이어 : 2개의 완전연결층\r\n",
    "    outputs = tf.keras.layers.Dense(units=units, activation='relu')(attention2)\r\n",
    "    outputs = tf.keras.layers.Dense(units=d_model)(outputs)\r\n",
    "\r\n",
    "    # 완전연결층의 결과는 Dropout과 LayerNormalization 수행\r\n",
    "    outputs = tf.keras.layers.Dropout(rate=dropout)(outputs)\r\n",
    "    outputs = tf.keras.layers.LayerNormalization(\r\n",
    "        epsilon=1e-6)(outputs + attention2)\r\n",
    "\r\n",
    "    return tf.keras.Model(\r\n",
    "        inputs=[inputs, enc_outputs, look_ahead_mask, padding_mask],\r\n",
    "        outputs=outputs,\r\n",
    "        name=name)\r\n",
    "print(\"슝=3\")"
   ],
   "outputs": [
    {
     "output_type": "stream",
     "name": "stdout",
     "text": [
      "슝=3\n"
     ]
    }
   ],
   "metadata": {}
  },
  {
   "cell_type": "markdown",
   "source": [
    "디코더 층은 임베딩 층과 포지셔널 인코딩을 연결하고, 사용자가 원하는 만큼(num_layers) 디코더 층을 쌓아 트랜스포머의 디코더가 완성된다."
   ],
   "metadata": {}
  },
  {
   "cell_type": "code",
   "execution_count": 22,
   "source": [
    "def decoder(vocab_size, num_layers, units, d_model, num_heads, dropout, name='decoder'):\r\n",
    "    inputs = tf.keras.Input(shape=(None,), name='inputs')\r\n",
    "    enc_outputs = tf.keras.Input(shape=(None, d_model), name='encoder_outputs')\r\n",
    "    look_ahead_mask = tf.keras.Input(\r\n",
    "        shape=(1, None, None), name='look_ahead_mask')\r\n",
    "\r\n",
    "    # 패딩 마스크\r\n",
    "    padding_mask = tf.keras.Input(shape=(1, 1, None), name='padding_mask')\r\n",
    "    \r\n",
    "    # 임베딩 레이어\r\n",
    "    embeddings = tf.keras.layers.Embedding(vocab_size, d_model)(inputs)\r\n",
    "    embeddings *= tf.math.sqrt(tf.cast(d_model, tf.float32))\r\n",
    "\r\n",
    "    # 포지셔널 인코딩\r\n",
    "    embeddings = PositionalEncoding(vocab_size, d_model)(embeddings)\r\n",
    "\r\n",
    "    # Dropout이라는 훈련을 돕는 테크닉을 수행\r\n",
    "    outputs = tf.keras.layers.Dropout(rate=dropout)(embeddings)\r\n",
    "\r\n",
    "    for i in range(num_layers):\r\n",
    "        outputs = decoder_layer(\r\n",
    "            units=units,\r\n",
    "            d_model=d_model,\r\n",
    "            num_heads=num_heads,\r\n",
    "            dropout=dropout,\r\n",
    "            name='decoder_layer_{}'.format(i),\r\n",
    "        )(inputs=[outputs, enc_outputs, look_ahead_mask, padding_mask])\r\n",
    "\r\n",
    "    return tf.keras.Model(\r\n",
    "        inputs=[inputs, enc_outputs, look_ahead_mask, padding_mask],\r\n",
    "        outputs=outputs,\r\n",
    "        name=name)\r\n",
    "print(\"슝=3\")"
   ],
   "outputs": [
    {
     "output_type": "stream",
     "name": "stdout",
     "text": [
      "슝=3\n"
     ]
    }
   ],
   "metadata": {}
  },
  {
   "cell_type": "markdown",
   "source": [
    "## Transformer\r\n",
    "인코더 층 함수와 디코더 층 함수를 사용하여 트랜스포머 함수를 정의한다."
   ],
   "metadata": {}
  },
  {
   "cell_type": "code",
   "execution_count": 23,
   "source": [
    "def transformer(vocab_size, num_layers, units, d_model, num_heads, dropout, name=\"transformer\"):\r\n",
    "    inputs = tf.keras.Input(shape=(None,), name=\"inputs\")\r\n",
    "    dec_inputs = tf.keras.Input(shape=(None,), name=\"dec_inputs\")\r\n",
    "\r\n",
    "    # 인코더에서 패딩을 위한 마스크\r\n",
    "    enc_padding_mask = tf.keras.layers.Lambda(\r\n",
    "        create_padding_mask, output_shape=(1, 1, None),\r\n",
    "        name='enc_padding_mask')(inputs)\r\n",
    "\r\n",
    "    # 디코더에서 미래의 토큰을 마스크 하기 위해서 사용합니다.\r\n",
    "    # 내부적으로 패딩 마스크도 포함되어져 있습니다.\r\n",
    "    look_ahead_mask = tf.keras.layers.Lambda(\r\n",
    "        create_look_ahead_mask,\r\n",
    "        output_shape=(1, None, None),\r\n",
    "        name='look_ahead_mask')(dec_inputs)\r\n",
    "\r\n",
    "    # 두 번째 어텐션 블록에서 인코더의 벡터들을 마스킹\r\n",
    "    # 디코더에서 패딩을 위한 마스크\r\n",
    "    dec_padding_mask = tf.keras.layers.Lambda(\r\n",
    "        create_padding_mask, output_shape=(1, 1, None),\r\n",
    "        name='dec_padding_mask')(inputs)\r\n",
    "\r\n",
    "    # 인코더\r\n",
    "    enc_outputs = encoder(\r\n",
    "        vocab_size=vocab_size,\r\n",
    "        num_layers=num_layers,\r\n",
    "        units=units,\r\n",
    "        d_model=d_model,\r\n",
    "        num_heads=num_heads,\r\n",
    "        dropout=dropout,\r\n",
    "      )(inputs=[inputs, enc_padding_mask])\r\n",
    "\r\n",
    "    # 디코더\r\n",
    "    dec_outputs = decoder(\r\n",
    "        vocab_size=vocab_size,\r\n",
    "        num_layers=num_layers,\r\n",
    "        units=units,\r\n",
    "        d_model=d_model,\r\n",
    "        num_heads=num_heads,\r\n",
    "        dropout=dropout,\r\n",
    "      )(inputs=[dec_inputs, enc_outputs, look_ahead_mask, dec_padding_mask])\r\n",
    "\r\n",
    "    # 완전연결층\r\n",
    "    outputs = tf.keras.layers.Dense(units=vocab_size, name=\"outputs\")(dec_outputs)\r\n",
    "\r\n",
    "    return tf.keras.Model(inputs=[inputs, dec_inputs], outputs=outputs, name=name)\r\n",
    "print(\"슝=3\")"
   ],
   "outputs": [
    {
     "output_type": "stream",
     "name": "stdout",
     "text": [
      "슝=3\n"
     ]
    }
   ],
   "metadata": {}
  },
  {
   "cell_type": "markdown",
   "source": [
    "## 모델 생성\r\n",
    "\r\n",
    "논문에서는 num_layers는 6, d-Model은 512을 사용하였지만 빠르고 원활한 훈련을 위해 여기에서는 보다 작은 값을 사용한다."
   ],
   "metadata": {}
  },
  {
   "cell_type": "code",
   "execution_count": 24,
   "source": [
    "tf.keras.backend.clear_session()\r\n",
    "\r\n",
    "# 하이퍼파라미터\r\n",
    "NUM_LAYERS = 2 # 인코더와 디코더의 층의 개수\r\n",
    "D_MODEL = 256 # 인코더와 디코더 내부의 입, 출력의 고정 차원\r\n",
    "NUM_HEADS = 8 # 멀티 헤드 어텐션에서의 헤드 수 \r\n",
    "UNITS = 512 # 피드 포워드 신경망의 은닉층의 크기\r\n",
    "DROPOUT = 0.1 # 드롭아웃의 비율\r\n",
    "\r\n",
    "model = transformer(\r\n",
    "    vocab_size=VOCAB_SIZE,\r\n",
    "    num_layers=NUM_LAYERS,\r\n",
    "    units=UNITS,\r\n",
    "    d_model=D_MODEL,\r\n",
    "    num_heads=NUM_HEADS,\r\n",
    "    dropout=DROPOUT)\r\n",
    "\r\n",
    "model.summary()"
   ],
   "outputs": [
    {
     "output_type": "stream",
     "name": "stdout",
     "text": [
      "Model: \"transformer\"\n",
      "__________________________________________________________________________________________________\n",
      "Layer (type)                    Output Shape         Param #     Connected to                     \n",
      "==================================================================================================\n",
      "inputs (InputLayer)             [(None, None)]       0                                            \n",
      "__________________________________________________________________________________________________\n",
      "dec_inputs (InputLayer)         [(None, None)]       0                                            \n",
      "__________________________________________________________________________________________________\n",
      "enc_padding_mask (Lambda)       (None, 1, 1, None)   0           inputs[0][0]                     \n",
      "__________________________________________________________________________________________________\n",
      "encoder (Functional)            (None, None, 256)    3146240     inputs[0][0]                     \n",
      "                                                                 enc_padding_mask[0][0]           \n",
      "__________________________________________________________________________________________________\n",
      "look_ahead_mask (Lambda)        (None, 1, None, None 0           dec_inputs[0][0]                 \n",
      "__________________________________________________________________________________________________\n",
      "dec_padding_mask (Lambda)       (None, 1, 1, None)   0           inputs[0][0]                     \n",
      "__________________________________________________________________________________________________\n",
      "decoder (Functional)            (None, None, 256)    3673600     dec_inputs[0][0]                 \n",
      "                                                                 encoder[0][0]                    \n",
      "                                                                 look_ahead_mask[0][0]            \n",
      "                                                                 dec_padding_mask[0][0]           \n",
      "__________________________________________________________________________________________________\n",
      "outputs (Dense)                 (None, None, 8172)   2100204     decoder[0][0]                    \n",
      "==================================================================================================\n",
      "Total params: 8,920,044\n",
      "Trainable params: 8,920,044\n",
      "Non-trainable params: 0\n",
      "__________________________________________________________________________________________________\n"
     ]
    }
   ],
   "metadata": {}
  },
  {
   "cell_type": "markdown",
   "source": [
    "## 손실 함수\r\n",
    "\r\n",
    "레이블인 시퀀스에 패딩이 되어 있으므로, loss를 계산할 떄 패딩 마스크를 적용해야 한다."
   ],
   "metadata": {}
  },
  {
   "cell_type": "code",
   "execution_count": 25,
   "source": [
    "def loss_function(y_true, y_pred):\r\n",
    "    y_true = tf.reshape(y_true, shape=(-1, MAX_LENGTH - 1))\r\n",
    "    \r\n",
    "    loss = tf.keras.losses.SparseCategoricalCrossentropy(\r\n",
    "        from_logits=True, reduction='none')(y_true, y_pred)\r\n",
    "\r\n",
    "    mask = tf.cast(tf.not_equal(y_true, 0), tf.float32)\r\n",
    "    loss = tf.multiply(loss, mask)\r\n",
    "\r\n",
    "    return tf.reduce_mean(loss)\r\n",
    "print(\"슝=3\")"
   ],
   "outputs": [
    {
     "output_type": "stream",
     "name": "stdout",
     "text": [
      "슝=3\n"
     ]
    }
   ],
   "metadata": {}
  },
  {
   "cell_type": "markdown",
   "source": [
    "## 커스텀 된 학습률(Learning rate)\r\n",
    "\r\n",
    "커스텀 된 학습률이란 모델 학습 초기에 Learning rete를 급격히 높였다가, 이후 train step이 진행됨에 따라 서서히 낮추어 가면서 안정적으로 수렴하게 하는 고급 기법"
   ],
   "metadata": {}
  },
  {
   "cell_type": "code",
   "execution_count": 26,
   "source": [
    "class CustomSchedule(tf.keras.optimizers.schedules.LearningRateSchedule):\r\n",
    "\r\n",
    "    def __init__(self, d_model, warmup_steps=4000):\r\n",
    "        super(CustomSchedule, self).__init__()\r\n",
    "\r\n",
    "        self.d_model = d_model\r\n",
    "        self.d_model = tf.cast(self.d_model, tf.float32)\r\n",
    "\r\n",
    "        self.warmup_steps = warmup_steps\r\n",
    "\r\n",
    "    def __call__(self, step):\r\n",
    "        arg1 = tf.math.rsqrt(step)\r\n",
    "        arg2 = step * (self.warmup_steps**-1.5)\r\n",
    "\r\n",
    "        return tf.math.rsqrt(self.d_model) * tf.math.minimum(arg1, arg2)\r\n",
    "print(\"슝=3\")"
   ],
   "outputs": [
    {
     "output_type": "stream",
     "name": "stdout",
     "text": [
      "슝=3\n"
     ]
    }
   ],
   "metadata": {}
  },
  {
   "cell_type": "code",
   "execution_count": 27,
   "source": [
    "sample_learning_rate = CustomSchedule(d_model=128)\r\n",
    "\r\n",
    "plt.plot(sample_learning_rate(tf.range(200000, dtype=tf.float32)))\r\n",
    "plt.ylabel(\"Learning Rate\")\r\n",
    "plt.xlabel(\"Train Step\")"
   ],
   "outputs": [
    {
     "output_type": "execute_result",
     "data": {
      "text/plain": [
       "Text(0.5, 0, 'Train Step')"
      ]
     },
     "metadata": {},
     "execution_count": 27
    },
    {
     "output_type": "display_data",
     "data": {
      "image/png": "[encoded data removed]",
      "text/plain": [
       "<Figure size 432x288 with 1 Axes>"
      ]
     },
     "metadata": {
      "needs_background": "light"
     }
    }
   ],
   "metadata": {}
  },
  {
   "cell_type": "markdown",
   "source": [
    "## 모델 컴파일\r\n",
    "\r\n",
    "손실 함수와 커스텀 된 학습률을 사용하여 모델을 컴파일한다."
   ],
   "metadata": {}
  },
  {
   "cell_type": "code",
   "execution_count": 28,
   "source": [
    "learning_rate = CustomSchedule(D_MODEL)\r\n",
    "\r\n",
    "optimizer = tf.keras.optimizers.Adam(\r\n",
    "    learning_rate, beta_1=0.9, beta_2=0.98, epsilon=1e-9)\r\n",
    "\r\n",
    "def accuracy(y_true, y_pred):\r\n",
    "    y_true = tf.reshape(y_true, shape=(-1, MAX_LENGTH - 1))\r\n",
    "    return tf.keras.metrics.sparse_categorical_accuracy(y_true, y_pred)\r\n",
    "\r\n",
    "model.compile(optimizer=optimizer, loss=loss_function, metrics=[accuracy])\r\n",
    "print(\"슝=3\")"
   ],
   "outputs": [
    {
     "output_type": "stream",
     "name": "stdout",
     "text": [
      "슝=3\n"
     ]
    }
   ],
   "metadata": {}
  },
  {
   "cell_type": "markdown",
   "source": [
    "## 모델 훈련"
   ],
   "metadata": {}
  },
  {
   "cell_type": "code",
   "execution_count": 29,
   "source": [
    "EPOCHS = 20\r\n",
    "model.fit(dataset, epochs=EPOCHS, verbose=1)"
   ],
   "outputs": [
    {
     "output_type": "stream",
     "name": "stdout",
     "text": [
      "Epoch 1/20\n",
      "185/185 [==============================] - 183s 930ms/step - loss: 2.4503 - accuracy: 0.0523\n",
      "Epoch 2/20\n",
      "185/185 [==============================] - 146s 792ms/step - loss: 1.9830 - accuracy: 0.0840\n",
      "Epoch 3/20\n",
      "185/185 [==============================] - 143s 775ms/step - loss: 1.6922 - accuracy: 0.0856\n",
      "Epoch 4/20\n",
      "185/185 [==============================] - 143s 770ms/step - loss: 1.5670 - accuracy: 0.0920\n",
      "Epoch 5/20\n",
      "185/185 [==============================] - 136s 737ms/step - loss: 1.4693 - accuracy: 0.0979\n",
      "Epoch 6/20\n",
      "185/185 [==============================] - 138s 744ms/step - loss: 1.3709 - accuracy: 0.1044\n",
      "Epoch 7/20\n",
      "185/185 [==============================] - 135s 730ms/step - loss: 1.2604 - accuracy: 0.1145\n",
      "Epoch 8/20\n",
      "185/185 [==============================] - 112s 607ms/step - loss: 1.1393 - accuracy: 0.1275\n",
      "Epoch 9/20\n",
      "185/185 [==============================] - 123s 663ms/step - loss: 1.0050 - accuracy: 0.1421\n",
      "Epoch 10/20\n",
      "185/185 [==============================] - 134s 722ms/step - loss: 0.8667 - accuracy: 0.1581\n",
      "Epoch 11/20\n",
      "185/185 [==============================] - 140s 757ms/step - loss: 0.7263 - accuracy: 0.1752\n",
      "Epoch 12/20\n",
      "185/185 [==============================] - 129s 697ms/step - loss: 0.5901 - accuracy: 0.1936\n",
      "Epoch 13/20\n",
      "185/185 [==============================] - 147s 797ms/step - loss: 0.4639 - accuracy: 0.2122\n",
      "Epoch 14/20\n",
      "185/185 [==============================] - 130s 705ms/step - loss: 0.3535 - accuracy: 0.2297\n",
      "Epoch 15/20\n",
      "185/185 [==============================] - 131s 706ms/step - loss: 0.2607 - accuracy: 0.2456\n",
      "Epoch 16/20\n",
      "185/185 [==============================] - 141s 761ms/step - loss: 0.1869 - accuracy: 0.2588\n",
      "Epoch 17/20\n",
      "185/185 [==============================] - 177s 955ms/step - loss: 0.1371 - accuracy: 0.2680\n",
      "Epoch 18/20\n",
      "185/185 [==============================] - 142s 766ms/step - loss: 0.1028 - accuracy: 0.2742\n",
      "Epoch 19/20\n",
      "185/185 [==============================] - 152s 822ms/step - loss: 0.0870 - accuracy: 0.2768\n",
      "Epoch 20/20\n",
      "185/185 [==============================] - 162s 878ms/step - loss: 0.0775 - accuracy: 0.2783\n"
     ]
    },
    {
     "output_type": "execute_result",
     "data": {
      "text/plain": [
       "<keras.callbacks.History at 0x1e7e06aa970>"
      ]
     },
     "metadata": {},
     "execution_count": 29
    }
   ],
   "metadata": {}
  },
  {
   "cell_type": "markdown",
   "source": [
    "# Step5. 모델 평가하기\n",
    "---"
   ],
   "metadata": {
    "tags": []
   }
  },
  {
   "cell_type": "markdown",
   "source": [
    "1. 새로운 입력 문장에 대해서는 훈련 때와 동일한 전처리를 거친다.\r\n",
    "2. 입력 문장을 토크나이징하고, START_TOKEN과 END_TOKEN을 추가한다.\r\n",
    "3. 패딩 마스킹과 룩 어헤드 마스킹을 계산한다.\r\n",
    "4. 디코더는 입력 시퀀스로부터 다음 단어를 예측한다.\r\n",
    "5. 디코더는 예측된 다음 단어를 기존의 입력 시퀀스에 추가하여 새로운 입력으로 사용한다.\r\n",
    "6. END_TOKEN이 예측되거나 문장의 최대 길이에 도달하면 디코더는 동작을 멈춘다.\r\n",
    "\r\n",
    "위 과정을 포함한 decoder_inference 함수를 만든다."
   ],
   "metadata": {}
  },
  {
   "cell_type": "code",
   "execution_count": 30,
   "source": [
    "def decoder_inference(sentence):\r\n",
    "    sentence = preprocess_sentence(sentence)\r\n",
    "\r\n",
    "    # 입력된 문장을 정수 인코딩 후, 시작 토큰과 종료 토큰을 앞뒤로 추가.\r\n",
    "    # ex) Where have you been? → [[8331   86   30    5 1059    7 8332]]\r\n",
    "    sentence = tf.expand_dims(\r\n",
    "        START_TOKEN + tokenizer.encode(sentence) + END_TOKEN, axis=0)\r\n",
    "\r\n",
    "    # 디코더의 현재까지의 예측한 출력 시퀀스가 지속적으로 저장되는 변수.\r\n",
    "    # 처음에는 예측한 내용이 없음으로 시작 토큰만 별도 저장. ex) 8331\r\n",
    "    output_sequence = tf.expand_dims(START_TOKEN, 0)\r\n",
    "\r\n",
    "    # 디코더의 인퍼런스 단계\r\n",
    "    for i in range(MAX_LENGTH):\r\n",
    "        # 디코더는 최대 MAX_LENGTH의 길이만큼 다음 단어 예측을 반복합니다.\r\n",
    "        predictions = model(inputs=[sentence, output_sequence], training=False)\r\n",
    "        predictions = predictions[:, -1:, :]\r\n",
    "\r\n",
    "        # 현재 예측한 단어의 정수\r\n",
    "        predicted_id = tf.cast(tf.argmax(predictions, axis=-1), tf.int32)\r\n",
    "\r\n",
    "        # 만약 현재 예측한 단어가 종료 토큰이라면 for문을 종료\r\n",
    "        if tf.equal(predicted_id, END_TOKEN[0]):\r\n",
    "            break\r\n",
    "\r\n",
    "        # 예측한 단어들은 지속적으로 output_sequence에 추가됩니다.\r\n",
    "        # 이 output_sequence는 다시 디코더의 입력이 됩니다.\r\n",
    "        output_sequence = tf.concat([output_sequence, predicted_id], axis=-1)\r\n",
    "\r\n",
    "    return tf.squeeze(output_sequence, axis=0)\r\n",
    "print(\"슝=3\")"
   ],
   "outputs": [
    {
     "output_type": "stream",
     "name": "stdout",
     "text": [
      "슝=3\n"
     ]
    }
   ],
   "metadata": {}
  },
  {
   "cell_type": "code",
   "execution_count": 44,
   "source": [
    "def sentence_generation(sentence):\r\n",
    "    # 입력 문장에 대해서 디코더를 동작 시켜 예측된 정수 시퀀스를 리턴받습니다.\r\n",
    "    prediction = decoder_inference(sentence)\r\n",
    "\r\n",
    "    # 정수 시퀀스를 다시 텍스트 시퀀스로 변환합니다.\r\n",
    "    predicted_sentence = tokenizer.decode(\r\n",
    "        [i for i in prediction if i < tokenizer.vocab_size])\r\n",
    "\r\n",
    "    print('입력 : {}'.format(sentence))\r\n",
    "    print('출력 : {}'.format(predicted_sentence))\r\n",
    "    print('-'*30)\r\n",
    "    return predicted_sentence\r\n",
    "print(\"슝=3\")"
   ],
   "outputs": [
    {
     "output_type": "stream",
     "name": "stdout",
     "text": [
      "슝=3\n"
     ]
    }
   ],
   "metadata": {}
  },
  {
   "cell_type": "code",
   "execution_count": 57,
   "source": [
    " sentence_generation('이름이 뭐야?')"
   ],
   "outputs": [
    {
     "output_type": "stream",
     "name": "stdout",
     "text": [
      "입력 : 이름이 뭐야?\n",
      "출력 : 위로봇이요 .\n",
      "------------------------------\n"
     ]
    },
    {
     "output_type": "execute_result",
     "data": {
      "text/plain": [
       "'위로봇이요 .'"
      ]
     },
     "metadata": {},
     "execution_count": 57
    }
   ],
   "metadata": {}
  },
  {
   "cell_type": "code",
   "execution_count": 59,
   "source": [
    " sentence_generation('기분이 어때?')"
   ],
   "outputs": [
    {
     "output_type": "stream",
     "name": "stdout",
     "text": [
      "입력 : 기분이 어때?\n",
      "출력 : 한 번 떠난 마음은 쉽게 돌아오지 않나봐요 .\n",
      "------------------------------\n"
     ]
    },
    {
     "output_type": "execute_result",
     "data": {
      "text/plain": [
       "'한 번 떠난 마음은 쉽게 돌아오지 않나봐요 .'"
      ]
     },
     "metadata": {},
     "execution_count": 59
    }
   ],
   "metadata": {}
  },
  {
   "cell_type": "code",
   "execution_count": 46,
   "source": [
    " sentence_generation('안녕?')"
   ],
   "outputs": [
    {
     "output_type": "stream",
     "name": "stdout",
     "text": [
      "입력 : 안녕?\n",
      "출력 : 안녕하세요 .\n",
      "------------------------------\n"
     ]
    },
    {
     "output_type": "execute_result",
     "data": {
      "text/plain": [
       "'안녕하세요 .'"
      ]
     },
     "metadata": {},
     "execution_count": 46
    }
   ],
   "metadata": {}
  },
  {
   "cell_type": "code",
   "execution_count": 47,
   "source": [
    " sentence_generation('속상해')"
   ],
   "outputs": [
    {
     "output_type": "stream",
     "name": "stdout",
     "text": [
      "입력 : 속상해\n",
      "출력 : 기분전환을 해보세요 .\n",
      "------------------------------\n"
     ]
    },
    {
     "output_type": "execute_result",
     "data": {
      "text/plain": [
       "'기분전환을 해보세요 .'"
      ]
     },
     "metadata": {},
     "execution_count": 47
    }
   ],
   "metadata": {}
  },
  {
   "cell_type": "code",
   "execution_count": 48,
   "source": [
    " sentence_generation('배고파')"
   ],
   "outputs": [
    {
     "output_type": "stream",
     "name": "stdout",
     "text": [
      "입력 : 배고파\n",
      "출력 : 뭐 좀 챙겨드세요 .\n",
      "------------------------------\n"
     ]
    },
    {
     "output_type": "execute_result",
     "data": {
      "text/plain": [
       "'뭐 좀 챙겨드세요 .'"
      ]
     },
     "metadata": {},
     "execution_count": 48
    }
   ],
   "metadata": {}
  },
  {
   "cell_type": "code",
   "execution_count": 49,
   "source": [
    " sentence_generation('뭐해?')"
   ],
   "outputs": [
    {
     "output_type": "stream",
     "name": "stdout",
     "text": [
      "입력 : 뭐해?\n",
      "출력 : 장 보러 갈 타이밍이네요 .\n",
      "------------------------------\n"
     ]
    },
    {
     "output_type": "execute_result",
     "data": {
      "text/plain": [
       "'장 보러 갈 타이밍이네요 .'"
      ]
     },
     "metadata": {},
     "execution_count": 49
    }
   ],
   "metadata": {}
  },
  {
   "cell_type": "code",
   "execution_count": 50,
   "source": [
    " sentence_generation('기분이 어때?')"
   ],
   "outputs": [
    {
     "output_type": "stream",
     "name": "stdout",
     "text": [
      "입력 : 기분이 어때?\n",
      "출력 : 한 번 떠난 마음은 쉽게 돌아오지 않나봐요 .\n",
      "------------------------------\n"
     ]
    },
    {
     "output_type": "execute_result",
     "data": {
      "text/plain": [
       "'한 번 떠난 마음은 쉽게 돌아오지 않나봐요 .'"
      ]
     },
     "metadata": {},
     "execution_count": 50
    }
   ],
   "metadata": {}
  },
  {
   "cell_type": "code",
   "execution_count": 60,
   "source": [
    " sentence_generation('신난다')"
   ],
   "outputs": [
    {
     "output_type": "stream",
     "name": "stdout",
     "text": [
      "입력 : 신난다\n",
      "출력 : 심호흡해보세요 .\n",
      "------------------------------\n"
     ]
    },
    {
     "output_type": "execute_result",
     "data": {
      "text/plain": [
       "'심호흡해보세요 .'"
      ]
     },
     "metadata": {},
     "execution_count": 60
    }
   ],
   "metadata": {}
  },
  {
   "cell_type": "code",
   "execution_count": 55,
   "source": [
    " sentence_generation('우울하다')"
   ],
   "outputs": [
    {
     "output_type": "stream",
     "name": "stdout",
     "text": [
      "입력 : 우울하다\n",
      "출력 : 함께 충분한 대화를 하고 상담을 받아보는 게 좋겠어요 .\n",
      "------------------------------\n"
     ]
    },
    {
     "output_type": "execute_result",
     "data": {
      "text/plain": [
       "'함께 충분한 대화를 하고 상담을 받아보는 게 좋겠어요 .'"
      ]
     },
     "metadata": {},
     "execution_count": 55
    }
   ],
   "metadata": {}
  },
  {
   "cell_type": "markdown",
   "source": [
    "# 회고\r\n",
    "---\r\n",
    "- 이번 프로젝트에서 **어려웠던 점,**\r\n",
    "- 프로젝트를 진행하면서 **알아낸 점** 혹은 **아직 모호한 점**.\r\n",
    "- 루브릭 평가 지표를 맞추기 위해 **시도한 것들**.\r\n",
    "- 만약에 루브릭 평가 관련 지표를 **달성 하지 못했을 때, 이유에 관한 추정**.\r\n",
    "- **자기 다짐**"
   ],
   "metadata": {}
  },
  {
   "cell_type": "markdown",
   "source": [
    "이번 프로젝트에서 어려웠던 점은 Transformer에 대한 개념의 이해와 코드상 에러였다. 개념 이해랄 하기위해 블로그 및 영상자료를 보고 이해하도록 노력하였다. 코드상의 에러는 결과물이 계속 똑같은 대답만 출력하는 이슈가 있었는데 이 부분에 대한 이슈의 원인을 찾는데 많은 시간을 쏟았던 것 같다.(결론은 아주 사소한 오타...)   \r\n",
    "프로젝트를 진행하면서 알아낸 점은 Transformer의 개념 이해이다. 위에서 말한것 처럼 블로그 및 영상 자료로 이해하려고 노력하였다.    \r\n",
    "하지만 아직도 부분 부분 이해가 덜 된 부분이 있어 소스를 보면서 좀 더 개념 정리를 하도록 노력해야 될 것 같다."
   ],
   "metadata": {}
  }
 ],
 "metadata": {
  "kernelspec": {
   "name": "python3",
   "display_name": "Python 3.8.8 64-bit ('base': conda)"
  },
  "language_info": {
   "codemirror_mode": {
    "name": "ipython",
    "version": 3
   },
   "file_extension": ".py",
   "mimetype": "text/x-python",
   "name": "python",
   "nbconvert_exporter": "python",
   "pygments_lexer": "ipython3",
   "version": "3.8.8"
  },
  "interpreter": {
   "hash": "b3ba2566441a7c06988d0923437866b63cedc61552a5af99d1f4fb67d367b25f"
  }
 },
 "nbformat": 4,
 "nbformat_minor": 5
}